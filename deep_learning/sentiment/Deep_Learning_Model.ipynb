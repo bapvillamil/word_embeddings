{
 "cells": [
  {
   "cell_type": "code",
   "execution_count": 3,
   "metadata": {},
   "outputs": [],
   "source": [
    "import pandas as pd\n",
    "import numpy as np\n",
    "import nltk\n",
    "import contractions\n",
    "from nltk import word_tokenize\n",
    "from nltk.corpus import wordnet\n",
    "# nltk.download('punkt')\n",
    "import re\n",
    "from bs4 import BeautifulSoup\n",
    "from sklearn.decomposition import TruncatedSVD\n",
    "from keras.models import Sequential\n",
    "from keras.layers import Dense, Embedding, LSTM, SpatialDropout1D\n",
    "from keras.callbacks import EarlyStopping\n",
    "from keras.utils import to_categorical\n",
    "import tensorflow as tf\n",
    "from sklearn.model_selection import train_test_split\n",
    "from sklearn.preprocessing import LabelEncoder\n",
    "from sklearn.metrics import classification_report\n",
    "from sklearn.metrics import accuracy_score\n",
    "from sklearn.feature_extraction.text import TfidfVectorizer\n",
    "import pickle\n",
    "\n",
    "from sklearn.pipeline import make_pipeline\n",
    "from sklearn.preprocessing import MinMaxScaler"
   ]
  },
  {
   "cell_type": "code",
   "execution_count": 4,
   "metadata": {},
   "outputs": [
    {
     "data": {
      "text/html": [
       "<div>\n",
       "<style scoped>\n",
       "    .dataframe tbody tr th:only-of-type {\n",
       "        vertical-align: middle;\n",
       "    }\n",
       "\n",
       "    .dataframe tbody tr th {\n",
       "        vertical-align: top;\n",
       "    }\n",
       "\n",
       "    .dataframe thead th {\n",
       "        text-align: right;\n",
       "    }\n",
       "</style>\n",
       "<table border=\"1\" class=\"dataframe\">\n",
       "  <thead>\n",
       "    <tr style=\"text-align: right;\">\n",
       "      <th></th>\n",
       "      <th>clean_text</th>\n",
       "      <th>category</th>\n",
       "      <th>category_sentiment</th>\n",
       "    </tr>\n",
       "  </thead>\n",
       "  <tbody>\n",
       "    <tr>\n",
       "      <th>0</th>\n",
       "      <td>i am not happy</td>\n",
       "      <td>-1</td>\n",
       "      <td>negative</td>\n",
       "    </tr>\n",
       "    <tr>\n",
       "      <th>1</th>\n",
       "      <td>i am not sad</td>\n",
       "      <td>1</td>\n",
       "      <td>positive</td>\n",
       "    </tr>\n",
       "    <tr>\n",
       "      <th>2</th>\n",
       "      <td>i'm fine</td>\n",
       "      <td>0</td>\n",
       "      <td>neutral</td>\n",
       "    </tr>\n",
       "    <tr>\n",
       "      <th>3</th>\n",
       "      <td>when modi promised “minimum government maximum...</td>\n",
       "      <td>-1</td>\n",
       "      <td>negative</td>\n",
       "    </tr>\n",
       "    <tr>\n",
       "      <th>4</th>\n",
       "      <td>talk all the nonsense and continue all the dra...</td>\n",
       "      <td>0</td>\n",
       "      <td>neutral</td>\n",
       "    </tr>\n",
       "    <tr>\n",
       "      <th>...</th>\n",
       "      <td>...</td>\n",
       "      <td>...</td>\n",
       "      <td>...</td>\n",
       "    </tr>\n",
       "    <tr>\n",
       "      <th>177971</th>\n",
       "      <td>'I'm not satisfied with The Hills finale.  gon...</td>\n",
       "      <td>-1</td>\n",
       "      <td>negative</td>\n",
       "    </tr>\n",
       "    <tr>\n",
       "      <th>177972</th>\n",
       "      <td>this sucks</td>\n",
       "      <td>-1</td>\n",
       "      <td>negative</td>\n",
       "    </tr>\n",
       "    <tr>\n",
       "      <th>177973</th>\n",
       "      <td>this is bad</td>\n",
       "      <td>-1</td>\n",
       "      <td>negative</td>\n",
       "    </tr>\n",
       "    <tr>\n",
       "      <th>177974</th>\n",
       "      <td>I am not okay with this</td>\n",
       "      <td>-1</td>\n",
       "      <td>negative</td>\n",
       "    </tr>\n",
       "    <tr>\n",
       "      <th>177975</th>\n",
       "      <td>this stinks</td>\n",
       "      <td>-1</td>\n",
       "      <td>negative</td>\n",
       "    </tr>\n",
       "  </tbody>\n",
       "</table>\n",
       "<p>177976 rows × 3 columns</p>\n",
       "</div>"
      ],
      "text/plain": [
       "                                               clean_text  category  \\\n",
       "0                                          i am not happy        -1   \n",
       "1                                            i am not sad         1   \n",
       "2                                                i'm fine         0   \n",
       "3       when modi promised “minimum government maximum...        -1   \n",
       "4       talk all the nonsense and continue all the dra...         0   \n",
       "...                                                   ...       ...   \n",
       "177971  'I'm not satisfied with The Hills finale.  gon...        -1   \n",
       "177972                                         this sucks        -1   \n",
       "177973                                        this is bad        -1   \n",
       "177974                            I am not okay with this        -1   \n",
       "177975                                        this stinks        -1   \n",
       "\n",
       "       category_sentiment  \n",
       "0                negative  \n",
       "1                positive  \n",
       "2                 neutral  \n",
       "3                negative  \n",
       "4                 neutral  \n",
       "...                   ...  \n",
       "177971           negative  \n",
       "177972           negative  \n",
       "177973           negative  \n",
       "177974           negative  \n",
       "177975           negative  \n",
       "\n",
       "[177976 rows x 3 columns]"
      ]
     },
     "execution_count": 4,
     "metadata": {},
     "output_type": "execute_result"
    }
   ],
   "source": [
    "df = pd.read_csv(\"Twitter.csv\")\n",
    "df"
   ]
  },
  {
   "cell_type": "code",
   "execution_count": 5,
   "metadata": {},
   "outputs": [
    {
     "data": {
      "text/plain": [
       " 1    72250\n",
       " 0    62712\n",
       "-1    43014\n",
       "Name: category, dtype: int64"
      ]
     },
     "execution_count": 5,
     "metadata": {},
     "output_type": "execute_result"
    }
   ],
   "source": [
    "df[\"category\"].value_counts()"
   ]
  },
  {
   "cell_type": "code",
   "execution_count": 6,
   "metadata": {},
   "outputs": [],
   "source": [
    "def text_transformation(text):\n",
    "    text = \" \".join(x.lower() for x in str(text).split())                             # Converting Text to Lowercase\n",
    "    text = contractions.fix(text)                                                     # Fixes Contractions such as (\"you're\" to \"you are\" etc.)\n",
    "    text = \" \".join([re.sub(\"[^A-Za-z]+\", \"\", x) for x in word_tokenize(text)])       # Removal of Punctuation, Numbers, and Special Characters                                                                  \n",
    "    return text"
   ]
  },
  {
   "cell_type": "code",
   "execution_count": 7,
   "metadata": {},
   "outputs": [
    {
     "data": {
      "text/html": [
       "<div>\n",
       "<style scoped>\n",
       "    .dataframe tbody tr th:only-of-type {\n",
       "        vertical-align: middle;\n",
       "    }\n",
       "\n",
       "    .dataframe tbody tr th {\n",
       "        vertical-align: top;\n",
       "    }\n",
       "\n",
       "    .dataframe thead th {\n",
       "        text-align: right;\n",
       "    }\n",
       "</style>\n",
       "<table border=\"1\" class=\"dataframe\">\n",
       "  <thead>\n",
       "    <tr style=\"text-align: right;\">\n",
       "      <th></th>\n",
       "      <th>clean_text</th>\n",
       "      <th>category</th>\n",
       "      <th>category_sentiment</th>\n",
       "      <th>processed_text</th>\n",
       "    </tr>\n",
       "  </thead>\n",
       "  <tbody>\n",
       "    <tr>\n",
       "      <th>0</th>\n",
       "      <td>i am not happy</td>\n",
       "      <td>-1</td>\n",
       "      <td>negative</td>\n",
       "      <td>i am not happy</td>\n",
       "    </tr>\n",
       "    <tr>\n",
       "      <th>1</th>\n",
       "      <td>i am not sad</td>\n",
       "      <td>1</td>\n",
       "      <td>positive</td>\n",
       "      <td>i am not sad</td>\n",
       "    </tr>\n",
       "    <tr>\n",
       "      <th>2</th>\n",
       "      <td>i'm fine</td>\n",
       "      <td>0</td>\n",
       "      <td>neutral</td>\n",
       "      <td>i am fine</td>\n",
       "    </tr>\n",
       "    <tr>\n",
       "      <th>3</th>\n",
       "      <td>when modi promised “minimum government maximum...</td>\n",
       "      <td>-1</td>\n",
       "      <td>negative</td>\n",
       "      <td>when modi promised  minimum government maximum...</td>\n",
       "    </tr>\n",
       "    <tr>\n",
       "      <th>4</th>\n",
       "      <td>talk all the nonsense and continue all the dra...</td>\n",
       "      <td>0</td>\n",
       "      <td>neutral</td>\n",
       "      <td>talk all the nonsense and continue all the dra...</td>\n",
       "    </tr>\n",
       "    <tr>\n",
       "      <th>...</th>\n",
       "      <td>...</td>\n",
       "      <td>...</td>\n",
       "      <td>...</td>\n",
       "      <td>...</td>\n",
       "    </tr>\n",
       "    <tr>\n",
       "      <th>177971</th>\n",
       "      <td>'I'm not satisfied with The Hills finale.  gon...</td>\n",
       "      <td>-1</td>\n",
       "      <td>negative</td>\n",
       "      <td>i am not satisfied with the hills finale  goin...</td>\n",
       "    </tr>\n",
       "    <tr>\n",
       "      <th>177972</th>\n",
       "      <td>this sucks</td>\n",
       "      <td>-1</td>\n",
       "      <td>negative</td>\n",
       "      <td>this sucks</td>\n",
       "    </tr>\n",
       "    <tr>\n",
       "      <th>177973</th>\n",
       "      <td>this is bad</td>\n",
       "      <td>-1</td>\n",
       "      <td>negative</td>\n",
       "      <td>this is bad</td>\n",
       "    </tr>\n",
       "    <tr>\n",
       "      <th>177974</th>\n",
       "      <td>I am not okay with this</td>\n",
       "      <td>-1</td>\n",
       "      <td>negative</td>\n",
       "      <td>i am not okay with this</td>\n",
       "    </tr>\n",
       "    <tr>\n",
       "      <th>177975</th>\n",
       "      <td>this stinks</td>\n",
       "      <td>-1</td>\n",
       "      <td>negative</td>\n",
       "      <td>this stinks</td>\n",
       "    </tr>\n",
       "  </tbody>\n",
       "</table>\n",
       "<p>177976 rows × 4 columns</p>\n",
       "</div>"
      ],
      "text/plain": [
       "                                               clean_text  category  \\\n",
       "0                                          i am not happy        -1   \n",
       "1                                            i am not sad         1   \n",
       "2                                                i'm fine         0   \n",
       "3       when modi promised “minimum government maximum...        -1   \n",
       "4       talk all the nonsense and continue all the dra...         0   \n",
       "...                                                   ...       ...   \n",
       "177971  'I'm not satisfied with The Hills finale.  gon...        -1   \n",
       "177972                                         this sucks        -1   \n",
       "177973                                        this is bad        -1   \n",
       "177974                            I am not okay with this        -1   \n",
       "177975                                        this stinks        -1   \n",
       "\n",
       "       category_sentiment                                     processed_text  \n",
       "0                negative                                     i am not happy  \n",
       "1                positive                                       i am not sad  \n",
       "2                 neutral                                          i am fine  \n",
       "3                negative  when modi promised  minimum government maximum...  \n",
       "4                 neutral  talk all the nonsense and continue all the dra...  \n",
       "...                   ...                                                ...  \n",
       "177971           negative  i am not satisfied with the hills finale  goin...  \n",
       "177972           negative                                         this sucks  \n",
       "177973           negative                                        this is bad  \n",
       "177974           negative                            i am not okay with this  \n",
       "177975           negative                                        this stinks  \n",
       "\n",
       "[177976 rows x 4 columns]"
      ]
     },
     "execution_count": 7,
     "metadata": {},
     "output_type": "execute_result"
    }
   ],
   "source": [
    "df[\"processed_text\"] = df[\"clean_text\"].apply(text_transformation)\n",
    "df"
   ]
  },
  {
   "cell_type": "code",
   "execution_count": 8,
   "metadata": {},
   "outputs": [],
   "source": [
    "x = df[\"processed_text\"]\n",
    "y = df[\"category_sentiment\"]\n",
    "y_strat = df[\"category\"]"
   ]
  },
  {
   "cell_type": "code",
   "execution_count": 9,
   "metadata": {},
   "outputs": [
    {
     "name": "stdout",
     "output_type": "stream",
     "text": [
      "Train: (142380,) (142380,)\n",
      "Test:  (35596,) (35596,)\n"
     ]
    }
   ],
   "source": [
    "x_train, x_test, y_train, y_test = train_test_split(x, y, test_size=0.2, random_state=42, stratify=y_strat)\n",
    "\n",
    "print(\"Train:\", x_train.shape, y_train.shape)\n",
    "print(\"Test: \", x_test.shape, y_test.shape)"
   ]
  },
  {
   "cell_type": "code",
   "execution_count": 10,
   "metadata": {},
   "outputs": [],
   "source": [
    "vectorizer= TfidfVectorizer()\n",
    "x_train = vectorizer.fit_transform(x_train)\n",
    "x_test = vectorizer.transform(x_test)"
   ]
  },
  {
   "cell_type": "code",
   "execution_count": 11,
   "metadata": {},
   "outputs": [],
   "source": [
    "# # Reduce the dimensionality of the input data\n",
    "svd = TruncatedSVD(n_components=2000)\n",
    "x_train = svd.fit_transform(x_train)\n",
    "x_test = svd.transform(x_test)"
   ]
  },
  {
   "cell_type": "code",
   "execution_count": 12,
   "metadata": {},
   "outputs": [],
   "source": [
    "# Encode the target variable\n",
    "encoder = LabelEncoder()\n",
    "y_train = encoder.fit_transform(y_train)\n",
    "y_test = encoder.fit_transform(y_test)"
   ]
  },
  {
   "cell_type": "code",
   "execution_count": 13,
   "metadata": {},
   "outputs": [],
   "source": [
    "# One-hot encode the target variable\n",
    "y_train = to_categorical(y_train)\n",
    "y_test = to_categorical(y_test)"
   ]
  },
  {
   "cell_type": "code",
   "execution_count": 14,
   "metadata": {},
   "outputs": [],
   "source": [
    "# Define the deep learning model\n",
    "model = Sequential()\n",
    "model.add(Dense(2000, input_shape=(2000,), activation='relu'))\n",
    "model.add(Dense(1024, activation='relu'))\n",
    "model.add(Dense(512, activation='relu'))\n",
    "model.add(Dense(256, activation='relu'))\n",
    "model.add(Dense(3, activation='softmax'))\n",
    "model.compile(loss='categorical_crossentropy', optimizer='adam', metrics=['accuracy'])"
   ]
  },
  {
   "cell_type": "code",
   "execution_count": 15,
   "metadata": {},
   "outputs": [
    {
     "name": "stdout",
     "output_type": "stream",
     "text": [
      "Number of classes in the target variable:  2\n"
     ]
    }
   ],
   "source": [
    "unique_classes = np.unique(y_train)\n",
    "n_classes = len(unique_classes)\n",
    "print(\"Number of classes in the target variable: \", n_classes)"
   ]
  },
  {
   "cell_type": "code",
   "execution_count": 16,
   "metadata": {},
   "outputs": [
    {
     "name": "stdout",
     "output_type": "stream",
     "text": [
      "Number of neurons in the last dense layer:  3\n"
     ]
    }
   ],
   "source": [
    "last_layer = model.layers[-1]\n",
    "n_neurons = last_layer.output_shape[-1]\n",
    "print(\"Number of neurons in the last dense layer: \", n_neurons)"
   ]
  },
  {
   "cell_type": "code",
   "execution_count": 17,
   "metadata": {},
   "outputs": [
    {
     "name": "stdout",
     "output_type": "stream",
     "text": [
      "Epoch 1/20\n",
      "1002/1002 [==============================] - 89s 87ms/step - loss: 0.4598 - accuracy: 0.8296 - val_loss: 0.3629 - val_accuracy: 0.8755\n",
      "Epoch 2/20\n",
      "1002/1002 [==============================] - 84s 84ms/step - loss: 0.2851 - accuracy: 0.9024 - val_loss: 0.3336 - val_accuracy: 0.8876\n",
      "Epoch 3/20\n",
      "1002/1002 [==============================] - 84s 84ms/step - loss: 0.1544 - accuracy: 0.9470 - val_loss: 0.3814 - val_accuracy: 0.8833\n",
      "Epoch 4/20\n",
      "1002/1002 [==============================] - 89s 89ms/step - loss: 0.0709 - accuracy: 0.9764 - val_loss: 0.4802 - val_accuracy: 0.8818\n",
      "Epoch 5/20\n",
      "1002/1002 [==============================] - 87s 87ms/step - loss: 0.0479 - accuracy: 0.9840 - val_loss: 0.5283 - val_accuracy: 0.8803\n"
     ]
    },
    {
     "data": {
      "text/plain": [
       "<keras.callbacks.History at 0x21ab7707cd0>"
      ]
     },
     "execution_count": 17,
     "metadata": {},
     "output_type": "execute_result"
    }
   ],
   "source": [
    "# Train the model\n",
    "model.fit(x_train, y_train, epochs=20, batch_size=128, validation_split=0.1, callbacks=[EarlyStopping(monitor='val_loss', patience=3, min_delta=0.0001)])"
   ]
  },
  {
   "cell_type": "code",
   "execution_count": 18,
   "metadata": {},
   "outputs": [
    {
     "name": "stdout",
     "output_type": "stream",
     "text": [
      "1113/1113 [==============================] - 17s 15ms/step\n"
     ]
    }
   ],
   "source": [
    "# Make predictions on the test set\n",
    "y_pred = model.predict(x_test)"
   ]
  },
  {
   "cell_type": "code",
   "execution_count": 19,
   "metadata": {},
   "outputs": [
    {
     "name": "stdout",
     "output_type": "stream",
     "text": [
      "Accuracy: 87.49%\n"
     ]
    }
   ],
   "source": [
    "accuracy = accuracy_score(y_test.argmax(axis=1), y_pred.argmax(axis=1))\n",
    "print(\"Accuracy: {:.2f}%\".format(accuracy * 100))"
   ]
  },
  {
   "cell_type": "code",
   "execution_count": 20,
   "metadata": {},
   "outputs": [
    {
     "data": {
      "text/plain": [
       "array([[1., 0., 0.],\n",
       "       [0., 1., 0.],\n",
       "       [0., 1., 0.],\n",
       "       ...,\n",
       "       [1., 0., 0.],\n",
       "       [0., 1., 0.],\n",
       "       [0., 1., 0.]], dtype=float32)"
      ]
     },
     "execution_count": 20,
     "metadata": {},
     "output_type": "execute_result"
    }
   ],
   "source": [
    "y_test"
   ]
  },
  {
   "cell_type": "code",
   "execution_count": 21,
   "metadata": {},
   "outputs": [
    {
     "name": "stdout",
     "output_type": "stream",
     "text": [
      "1/1 [==============================] - 0s 47ms/step\n",
      "1/1 [==============================] - 0s 52ms/step\n",
      "[[0, 1, 0]]\n"
     ]
    },
    {
     "data": {
      "text/plain": [
       "'neutral'"
      ]
     },
     "execution_count": 21,
     "metadata": {},
     "output_type": "execute_result"
    }
   ],
   "source": [
    "sentence = \"i am anyone\"\n",
    "\n",
    "test_feature = vectorizer.transform([sentence])\n",
    "test_feature = svd.transform(test_feature)\n",
    "model.predict(test_feature)\n",
    "\n",
    "sentiment = model.predict(test_feature)\n",
    "\n",
    "\n",
    "def rev_one_hot(x):\n",
    "    l = []\n",
    "    m = [l]\n",
    "    for i in x:\n",
    "        for j in i:\n",
    "            if j < 0.5:\n",
    "                j = 0\n",
    "                l.append(j)\n",
    "            else:\n",
    "                j = 1\n",
    "                l.append(j)\n",
    "    return m\n",
    "\n",
    "sentiment = rev_one_hot(sentiment)\n",
    "print(sentiment)\n",
    "\n",
    "def to_categ(pred):\n",
    "\n",
    "    if pred == [[1, 0, 0]]:\n",
    "        return \"negative\"\n",
    "    \n",
    "    elif pred == [[0, 0, 1]]:\n",
    "        return \"positive\"\n",
    "\n",
    "    else:\n",
    "        return \"neutral\"\n",
    "\n",
    "to_categ(sentiment)\n"
   ]
  },
  {
   "cell_type": "code",
   "execution_count": 22,
   "metadata": {},
   "outputs": [
    {
     "name": "stdout",
     "output_type": "stream",
     "text": [
      "INFO:tensorflow:Assets written to: ram://c70b93de-151d-41b0-a3c5-9d5c5eabe969/assets\n"
     ]
    }
   ],
   "source": [
    "pickl = {\n",
    "        \"vectorizer\": vectorizer,\n",
    "         \"svd\": svd,\n",
    "         \"model\": model\n",
    "         }\n",
    "pickle.dump(pickl, open('dl_model'+\".p\", \"wb\"))"
   ]
  }
 ],
 "metadata": {
  "kernelspec": {
   "display_name": "Python 3.10.7 64-bit",
   "language": "python",
   "name": "python3"
  },
  "language_info": {
   "codemirror_mode": {
    "name": "ipython",
    "version": 3
   },
   "file_extension": ".py",
   "mimetype": "text/x-python",
   "name": "python",
   "nbconvert_exporter": "python",
   "pygments_lexer": "ipython3",
   "version": "3.10.7"
  },
  "orig_nbformat": 4,
  "vscode": {
   "interpreter": {
    "hash": "1fa163922eb0b3709bbb5d8082b2465c9de796dbaacca80cbaa600e7fff3e4fe"
   }
  }
 },
 "nbformat": 4,
 "nbformat_minor": 2
}
