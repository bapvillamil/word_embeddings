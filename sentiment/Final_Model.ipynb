{
 "cells": [
  {
   "cell_type": "code",
   "execution_count": 1,
   "metadata": {},
   "outputs": [
    {
     "name": "stderr",
     "output_type": "stream",
     "text": [
      "[nltk_data] Downloading package punkt to\n",
      "[nltk_data]     C:\\Users\\BVILLAMIL\\AppData\\Roaming\\nltk_data...\n",
      "[nltk_data]   Package punkt is already up-to-date!\n"
     ]
    },
    {
     "data": {
      "text/plain": [
       "True"
      ]
     },
     "execution_count": 1,
     "metadata": {},
     "output_type": "execute_result"
    }
   ],
   "source": [
    "import pandas as pd\n",
    "import numpy as np\n",
    "import nltk\n",
    "import re\n",
    "import pickle\n",
    "from sklearn.feature_extraction.text import CountVectorizer\n",
    "from sklearn.linear_model import LinearRegression, LogisticRegression\n",
    "from sklearn.preprocessing import StandardScaler\n",
    "from sklearn.utils import shuffle\n",
    "from sklearn.metrics import confusion_matrix, f1_score, precision_score, recall_score, classification_report\n",
    "from sklearn.model_selection import train_test_split, GridSearchCV\n",
    "from nltk.corpus import stopwords\n",
    "from nltk.stem import WordNetLemmatizer\n",
    "from bs4 import BeautifulSoup\n",
    "from nltk import word_tokenize as wt\n",
    "lemmatizer = WordNetLemmatizer()\n",
    "nltk.download('punkt')"
   ]
  },
  {
   "cell_type": "code",
   "execution_count": 2,
   "metadata": {},
   "outputs": [
    {
     "data": {
      "text/html": [
       "<div>\n",
       "<style scoped>\n",
       "    .dataframe tbody tr th:only-of-type {\n",
       "        vertical-align: middle;\n",
       "    }\n",
       "\n",
       "    .dataframe tbody tr th {\n",
       "        vertical-align: top;\n",
       "    }\n",
       "\n",
       "    .dataframe thead th {\n",
       "        text-align: right;\n",
       "    }\n",
       "</style>\n",
       "<table border=\"1\" class=\"dataframe\">\n",
       "  <thead>\n",
       "    <tr style=\"text-align: right;\">\n",
       "      <th></th>\n",
       "      <th>clean_text</th>\n",
       "      <th>category</th>\n",
       "    </tr>\n",
       "  </thead>\n",
       "  <tbody>\n",
       "    <tr>\n",
       "      <th>0</th>\n",
       "      <td>when modi promised “minimum government maximum...</td>\n",
       "      <td>-1</td>\n",
       "    </tr>\n",
       "    <tr>\n",
       "      <th>1</th>\n",
       "      <td>talk all the nonsense and continue all the dra...</td>\n",
       "      <td>0</td>\n",
       "    </tr>\n",
       "    <tr>\n",
       "      <th>2</th>\n",
       "      <td>what did just say vote for modi  welcome bjp t...</td>\n",
       "      <td>1</td>\n",
       "    </tr>\n",
       "    <tr>\n",
       "      <th>3</th>\n",
       "      <td>asking his supporters prefix chowkidar their n...</td>\n",
       "      <td>1</td>\n",
       "    </tr>\n",
       "    <tr>\n",
       "      <th>4</th>\n",
       "      <td>answer who among these the most powerful world...</td>\n",
       "      <td>1</td>\n",
       "    </tr>\n",
       "    <tr>\n",
       "      <th>...</th>\n",
       "      <td>...</td>\n",
       "      <td>...</td>\n",
       "    </tr>\n",
       "    <tr>\n",
       "      <th>162964</th>\n",
       "      <td>why these 456 crores paid neerav modi not reco...</td>\n",
       "      <td>-1</td>\n",
       "    </tr>\n",
       "    <tr>\n",
       "      <th>162965</th>\n",
       "      <td>dear rss terrorist payal gawar what about modi...</td>\n",
       "      <td>-1</td>\n",
       "    </tr>\n",
       "    <tr>\n",
       "      <th>162966</th>\n",
       "      <td>did you cover her interaction forum where she ...</td>\n",
       "      <td>0</td>\n",
       "    </tr>\n",
       "    <tr>\n",
       "      <th>162967</th>\n",
       "      <td>there big project came into india modi dream p...</td>\n",
       "      <td>0</td>\n",
       "    </tr>\n",
       "    <tr>\n",
       "      <th>162968</th>\n",
       "      <td>have you ever listen about like gurukul where ...</td>\n",
       "      <td>1</td>\n",
       "    </tr>\n",
       "  </tbody>\n",
       "</table>\n",
       "<p>162969 rows × 2 columns</p>\n",
       "</div>"
      ],
      "text/plain": [
       "                                               clean_text  category\n",
       "0       when modi promised “minimum government maximum...        -1\n",
       "1       talk all the nonsense and continue all the dra...         0\n",
       "2       what did just say vote for modi  welcome bjp t...         1\n",
       "3       asking his supporters prefix chowkidar their n...         1\n",
       "4       answer who among these the most powerful world...         1\n",
       "...                                                   ...       ...\n",
       "162964  why these 456 crores paid neerav modi not reco...        -1\n",
       "162965  dear rss terrorist payal gawar what about modi...        -1\n",
       "162966  did you cover her interaction forum where she ...         0\n",
       "162967  there big project came into india modi dream p...         0\n",
       "162968  have you ever listen about like gurukul where ...         1\n",
       "\n",
       "[162969 rows x 2 columns]"
      ]
     },
     "execution_count": 2,
     "metadata": {},
     "output_type": "execute_result"
    }
   ],
   "source": [
    "df = pd.read_csv('Twitter.csv')\n",
    "df"
   ]
  },
  {
   "cell_type": "code",
   "execution_count": 3,
   "metadata": {},
   "outputs": [
    {
     "data": {
      "text/plain": [
       " 1    72249\n",
       " 0    55211\n",
       "-1    35509\n",
       "Name: category, dtype: int64"
      ]
     },
     "execution_count": 3,
     "metadata": {},
     "output_type": "execute_result"
    }
   ],
   "source": [
    "df = df.dropna()\n",
    "df = df.reset_index(drop=True)\n",
    "df['category'].value_counts()"
   ]
  },
  {
   "cell_type": "code",
   "execution_count": 4,
   "metadata": {},
   "outputs": [
    {
     "name": "stderr",
     "output_type": "stream",
     "text": [
      "C:\\Users\\BVILLAMIL\\AppData\\Local\\Temp\\ipykernel_18784\\2934771828.py:3: FutureWarning: The frame.append method is deprecated and will be removed from pandas in a future version. Use pandas.concat instead.\n",
      "  data = data.append(df[df['category']==-1][:35000])\n",
      "C:\\Users\\BVILLAMIL\\AppData\\Local\\Temp\\ipykernel_18784\\2934771828.py:4: FutureWarning: The frame.append method is deprecated and will be removed from pandas in a future version. Use pandas.concat instead.\n",
      "  data = data.append(df[df['category']==0][:35000])\n"
     ]
    },
    {
     "data": {
      "text/plain": [
       " 1    35000\n",
       "-1    35000\n",
       " 0    35000\n",
       "Name: category, dtype: int64"
      ]
     },
     "metadata": {},
     "output_type": "display_data"
    }
   ],
   "source": [
    "df = df.sample(frac=1).reset_index(drop=True)\n",
    "data = df[df['category']==1][:35000]\n",
    "data = data.append(df[df['category']==-1][:35000])\n",
    "data = data.append(df[df['category']==0][:35000])\n",
    "data = data.reset_index(drop=True)\n",
    "display(data['category'].value_counts())"
   ]
  },
  {
   "cell_type": "code",
   "execution_count": 5,
   "metadata": {},
   "outputs": [
    {
     "name": "stderr",
     "output_type": "stream",
     "text": [
      "c:\\Users\\BVILLAMIL\\Desktop\\revalida2\\env\\lib\\site-packages\\bs4\\__init__.py:435: MarkupResemblesLocatorWarning: The input looks more like a filename than markup. You may want to open this file and pass the filehandle into Beautiful Soup.\n",
      "  warnings.warn(\n"
     ]
    }
   ],
   "source": [
    "data['pre_process'] = data['clean_text'].apply(lambda x: \" \".join(x.lower() for x in str(x).split()))\n",
    "data['pre_process'] = data['pre_process'].apply(lambda x: BeautifulSoup(x).get_text())\n",
    "data['pre_process'] = data['pre_process'].apply(lambda x: re.sub(r\"http\\S+\", \"\", x))"
   ]
  },
  {
   "cell_type": "code",
   "execution_count": 6,
   "metadata": {},
   "outputs": [],
   "source": [
    "def contractions(s):\n",
    "    s = re.sub(r\"won't\", \"will not\", s)\n",
    "    s = re.sub(r\"wouldn't\", \"would not\", s)\n",
    "    s = re.sub(r\"couldn't\", \"could not\", s)\n",
    "    s = re.sub(r\"\\'d\", \"would\", s)\n",
    "    s = re.sub(r\"can\\'t\", \"can not\", s)\n",
    "    s = re.sub(r\"n\\'t\", \"not\", s)\n",
    "    s = re.sub(r\"\\'re\", \"are\", s)\n",
    "    s = re.sub(r\"\\'s\", \"is\", s)\n",
    "    s = re.sub(r\"\\'ll\", \"will\", s)\n",
    "    s = re.sub(r\"\\'t\", \"not\", s)\n",
    "    s = re.sub(r\"\\'ve\", \"have\", s)\n",
    "    s = re.sub(r\"\\'m\", \"am\", s)\n",
    "    return s\n",
    "\n",
    "data['pre_process'] = data['pre_process'].apply(lambda x:contractions(x))"
   ]
  },
  {
   "cell_type": "code",
   "execution_count": 7,
   "metadata": {},
   "outputs": [],
   "source": [
    "data['pre_process'] = data['pre_process'].apply(lambda x: \" \".join([re.sub('[^A-Za-z]+','', x) for x in wt(x)]))"
   ]
  },
  {
   "cell_type": "code",
   "execution_count": 8,
   "metadata": {},
   "outputs": [],
   "source": [
    "stop = stopwords.words('english')\n",
    "data['pre_process'] = data['pre_process'].apply(lambda x: \" \".join([x for x in x.split() if x not in stop]))\n",
    "data['pre_process'] = data['pre_process'].apply(lambda x: \" \".join([lemmatizer.lemmatize(w) for w in wt(x)]))"
   ]
  },
  {
   "cell_type": "code",
   "execution_count": 9,
   "metadata": {},
   "outputs": [
    {
     "data": {
      "text/html": [
       "<div>\n",
       "<style scoped>\n",
       "    .dataframe tbody tr th:only-of-type {\n",
       "        vertical-align: middle;\n",
       "    }\n",
       "\n",
       "    .dataframe tbody tr th {\n",
       "        vertical-align: top;\n",
       "    }\n",
       "\n",
       "    .dataframe thead th {\n",
       "        text-align: right;\n",
       "    }\n",
       "</style>\n",
       "<table border=\"1\" class=\"dataframe\">\n",
       "  <thead>\n",
       "    <tr style=\"text-align: right;\">\n",
       "      <th></th>\n",
       "      <th>clean_text</th>\n",
       "      <th>category</th>\n",
       "      <th>pre_process</th>\n",
       "    </tr>\n",
       "  </thead>\n",
       "  <tbody>\n",
       "    <tr>\n",
       "      <th>0</th>\n",
       "      <td>its good that only raid happened not like you ...</td>\n",
       "      <td>1</td>\n",
       "      <td>good raid happened like made allegation cbi wa...</td>\n",
       "    </tr>\n",
       "    <tr>\n",
       "      <th>1</th>\n",
       "      <td>yes not bhakt congress was different then talk...</td>\n",
       "      <td>1</td>\n",
       "      <td>yes bhakt congress different talking sonia era...</td>\n",
       "    </tr>\n",
       "    <tr>\n",
       "      <th>2</th>\n",
       "      <td>banks sold 1000 crores worth united breweries ...</td>\n",
       "      <td>1</td>\n",
       "      <td>bank sold crore worth united brewery mcdowell ...</td>\n",
       "    </tr>\n",
       "    <tr>\n",
       "      <th>3</th>\n",
       "      <td>constantly bashing modi will counterproductive...</td>\n",
       "      <td>1</td>\n",
       "      <td>constantly bashing modi counterproductive popu...</td>\n",
       "    </tr>\n",
       "    <tr>\n",
       "      <th>4</th>\n",
       "      <td>modi was unethical when announce the scheme th...</td>\n",
       "      <td>1</td>\n",
       "      <td>modi unethical announce scheme wayhe even star...</td>\n",
       "    </tr>\n",
       "    <tr>\n",
       "      <th>...</th>\n",
       "      <td>...</td>\n",
       "      <td>...</td>\n",
       "      <td>...</td>\n",
       "    </tr>\n",
       "    <tr>\n",
       "      <th>104995</th>\n",
       "      <td>nationalist will vote for modi else prove your...</td>\n",
       "      <td>0</td>\n",
       "      <td>nationalist vote modi else prove porki anti na...</td>\n",
       "    </tr>\n",
       "    <tr>\n",
       "      <th>104996</th>\n",
       "      <td>why dont you also try against modi</td>\n",
       "      <td>0</td>\n",
       "      <td>dont also try modi</td>\n",
       "    </tr>\n",
       "    <tr>\n",
       "      <th>104997</th>\n",
       "      <td>exchief mission shakti upa didn’ give nod but ...</td>\n",
       "      <td>0</td>\n",
       "      <td>exchief mission shakti upa give nod courage vi...</td>\n",
       "    </tr>\n",
       "    <tr>\n",
       "      <th>104998</th>\n",
       "      <td>will ensure that china international communiti...</td>\n",
       "      <td>0</td>\n",
       "      <td>ensure china international community push spac...</td>\n",
       "    </tr>\n",
       "    <tr>\n",
       "      <th>104999</th>\n",
       "      <td>why one questioned when 15lacs was promised modi</td>\n",
       "      <td>0</td>\n",
       "      <td>one questioned lac promised modi</td>\n",
       "    </tr>\n",
       "  </tbody>\n",
       "</table>\n",
       "<p>105000 rows × 3 columns</p>\n",
       "</div>"
      ],
      "text/plain": [
       "                                               clean_text  category  \\\n",
       "0       its good that only raid happened not like you ...         1   \n",
       "1       yes not bhakt congress was different then talk...         1   \n",
       "2       banks sold 1000 crores worth united breweries ...         1   \n",
       "3       constantly bashing modi will counterproductive...         1   \n",
       "4       modi was unethical when announce the scheme th...         1   \n",
       "...                                                   ...       ...   \n",
       "104995  nationalist will vote for modi else prove your...         0   \n",
       "104996                 why dont you also try against modi         0   \n",
       "104997  exchief mission shakti upa didn’ give nod but ...         0   \n",
       "104998  will ensure that china international communiti...         0   \n",
       "104999   why one questioned when 15lacs was promised modi         0   \n",
       "\n",
       "                                              pre_process  \n",
       "0       good raid happened like made allegation cbi wa...  \n",
       "1       yes bhakt congress different talking sonia era...  \n",
       "2       bank sold crore worth united brewery mcdowell ...  \n",
       "3       constantly bashing modi counterproductive popu...  \n",
       "4       modi unethical announce scheme wayhe even star...  \n",
       "...                                                   ...  \n",
       "104995  nationalist vote modi else prove porki anti na...  \n",
       "104996                                 dont also try modi  \n",
       "104997  exchief mission shakti upa give nod courage vi...  \n",
       "104998  ensure china international community push spac...  \n",
       "104999                   one questioned lac promised modi  \n",
       "\n",
       "[105000 rows x 3 columns]"
      ]
     },
     "execution_count": 9,
     "metadata": {},
     "output_type": "execute_result"
    }
   ],
   "source": [
    "data"
   ]
  },
  {
   "cell_type": "code",
   "execution_count": 10,
   "metadata": {},
   "outputs": [],
   "source": [
    "x = data['pre_process']\n",
    "y = data['category']\n",
    "\n",
    "vectorizer = CountVectorizer()\n",
    "x_vectorized = vectorizer.fit_transform(x)"
   ]
  },
  {
   "cell_type": "code",
   "execution_count": 11,
   "metadata": {},
   "outputs": [
    {
     "name": "stdout",
     "output_type": "stream",
     "text": [
      "Train: (78750, 73429) (78750,)\n",
      "Test:  (26250, 73429) (26250,)\n"
     ]
    }
   ],
   "source": [
    "x_train, x_test, y_train, y_test = train_test_split(x_vectorized, y, test_size=0.25, random_state=30)\n",
    "print(\"Train:\", x_train.shape, y_train.shape)\n",
    "print(\"Test: \", x_test.shape, y_test.shape)"
   ]
  },
  {
   "cell_type": "code",
   "execution_count": 12,
   "metadata": {},
   "outputs": [],
   "source": [
    "regressor = LogisticRegression(multi_class='multinomial', solver='newton-cg')\n",
    "model = regressor.fit(x_train, y_train)"
   ]
  },
  {
   "cell_type": "code",
   "execution_count": 13,
   "metadata": {},
   "outputs": [],
   "source": [
    "params = {'C': [0.001, 0.01, 0.1, 1, 10, 100, 1000]}\n",
    "gs_clf = GridSearchCV(model, params, n_jobs=1, cv=5)\n",
    "gs_clf = gs_clf.fit(x_train, y_train)\n",
    "model = gs_clf.best_estimator_"
   ]
  },
  {
   "cell_type": "code",
   "execution_count": 16,
   "metadata": {},
   "outputs": [
    {
     "name": "stdout",
     "output_type": "stream",
     "text": [
      "              precision    recall  f1-score   support\n",
      "\n",
      "          -1       0.88      0.84      0.86      8772\n",
      "           0       0.87      0.94      0.90      8760\n",
      "           1       0.89      0.85      0.87      8718\n",
      "\n",
      "    accuracy                           0.88     26250\n",
      "   macro avg       0.88      0.88      0.88     26250\n",
      "weighted avg       0.88      0.88      0.88     26250\n",
      "\n"
     ]
    }
   ],
   "source": [
    "y_pred = model.predict(x_test)\n",
    "\n",
    "report = classification_report(y_test, y_pred, output_dict=True)\n",
    "print(classification_report(y_test, y_pred))"
   ]
  },
  {
   "attachments": {},
   "cell_type": "markdown",
   "metadata": {},
   "source": [
    "Testing the Sentiment Analysis\n",
    "-1 = Negative\n",
    " 0 = Neutral\n",
    " 1 = Positive"
   ]
  },
  {
   "cell_type": "code",
   "execution_count": 27,
   "metadata": {},
   "outputs": [
    {
     "data": {
      "text/plain": [
       "array([0], dtype=int64)"
      ]
     },
     "execution_count": 27,
     "metadata": {},
     "output_type": "execute_result"
    }
   ],
   "source": [
    "test_feature = vectorizer.transform([\"this sucks\"])\n",
    "model.predict(test_feature)"
   ]
  },
  {
   "cell_type": "code",
   "execution_count": null,
   "metadata": {},
   "outputs": [],
   "source": [
    "pickl = {'vectorizer': vectorizer,\n",
    "         'model': model\n",
    "         }\n",
    "pickle.dump(pickl, open('models'+\".p\", \"wb\"))"
   ]
  }
 ],
 "metadata": {
  "kernelspec": {
   "display_name": "env",
   "language": "python",
   "name": "python3"
  },
  "language_info": {
   "codemirror_mode": {
    "name": "ipython",
    "version": 3
   },
   "file_extension": ".py",
   "mimetype": "text/x-python",
   "name": "python",
   "nbconvert_exporter": "python",
   "pygments_lexer": "ipython3",
   "version": "3.10.7"
  },
  "orig_nbformat": 4,
  "vscode": {
   "interpreter": {
    "hash": "eba69bf50476abf9813b574f9a84f0b138fd155937432c8f4674728c59999527"
   }
  }
 },
 "nbformat": 4,
 "nbformat_minor": 2
}
