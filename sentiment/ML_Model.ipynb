{
  "cells": [
    {
      "cell_type": "code",
      "execution_count": 33,
      "metadata": {
        "colab": {
          "base_uri": "https://localhost:8080/"
        },
        "id": "COLJ3qWHcHJa",
        "outputId": "ec9661c1-16cb-4515-8cb8-530ef9bd4f0b"
      },
      "outputs": [],
      "source": [
        "import pandas as pd\n",
        "import re\n",
        "import random\n",
        "import pickle\n",
        "import contractions\n",
        "import nltk\n",
        "from nltk.corpus import wordnet\n",
        "from nltk import word_tokenize\n",
        "from sklearn.feature_extraction.text import TfidfVectorizer\n",
        "from sklearn.model_selection import train_test_split\n",
        "from sklearn.svm import LinearSVC\n",
        "from sklearn.metrics import accuracy_score, classification_report\n"
      ]
    },
    {
      "cell_type": "code",
      "execution_count": 34,
      "metadata": {
        "colab": {
          "base_uri": "https://localhost:8080/",
          "height": 423
        },
        "id": "wNPHFxSBcHJd",
        "outputId": "667c33e2-d1ce-4a39-cd6a-69d0b4a9334b"
      },
      "outputs": [
        {
          "data": {
            "text/html": [
              "<div>\n",
              "<style scoped>\n",
              "    .dataframe tbody tr th:only-of-type {\n",
              "        vertical-align: middle;\n",
              "    }\n",
              "\n",
              "    .dataframe tbody tr th {\n",
              "        vertical-align: top;\n",
              "    }\n",
              "\n",
              "    .dataframe thead th {\n",
              "        text-align: right;\n",
              "    }\n",
              "</style>\n",
              "<table border=\"1\" class=\"dataframe\">\n",
              "  <thead>\n",
              "    <tr style=\"text-align: right;\">\n",
              "      <th></th>\n",
              "      <th>clean_text</th>\n",
              "      <th>category</th>\n",
              "      <th>category_sentiment</th>\n",
              "    </tr>\n",
              "  </thead>\n",
              "  <tbody>\n",
              "    <tr>\n",
              "      <th>0</th>\n",
              "      <td>when modi promised “minimum government maximum...</td>\n",
              "      <td>-1</td>\n",
              "      <td>negative</td>\n",
              "    </tr>\n",
              "    <tr>\n",
              "      <th>1</th>\n",
              "      <td>talk all the nonsense and continue all the dra...</td>\n",
              "      <td>0</td>\n",
              "      <td>neutral</td>\n",
              "    </tr>\n",
              "    <tr>\n",
              "      <th>2</th>\n",
              "      <td>what did just say vote for modi  welcome bjp t...</td>\n",
              "      <td>1</td>\n",
              "      <td>positive</td>\n",
              "    </tr>\n",
              "    <tr>\n",
              "      <th>3</th>\n",
              "      <td>asking his supporters prefix chowkidar their n...</td>\n",
              "      <td>1</td>\n",
              "      <td>positive</td>\n",
              "    </tr>\n",
              "    <tr>\n",
              "      <th>4</th>\n",
              "      <td>answer who among these the most powerful world...</td>\n",
              "      <td>1</td>\n",
              "      <td>positive</td>\n",
              "    </tr>\n",
              "    <tr>\n",
              "      <th>...</th>\n",
              "      <td>...</td>\n",
              "      <td>...</td>\n",
              "      <td>...</td>\n",
              "    </tr>\n",
              "    <tr>\n",
              "      <th>177981</th>\n",
              "      <td>'I'm not satisfied with The Hills finale.  gon...</td>\n",
              "      <td>-1</td>\n",
              "      <td>negative</td>\n",
              "    </tr>\n",
              "    <tr>\n",
              "      <th>177982</th>\n",
              "      <td>this sucks</td>\n",
              "      <td>-1</td>\n",
              "      <td>negative</td>\n",
              "    </tr>\n",
              "    <tr>\n",
              "      <th>177983</th>\n",
              "      <td>this is bad</td>\n",
              "      <td>-1</td>\n",
              "      <td>negative</td>\n",
              "    </tr>\n",
              "    <tr>\n",
              "      <th>177984</th>\n",
              "      <td>I am not okay with this</td>\n",
              "      <td>-1</td>\n",
              "      <td>negative</td>\n",
              "    </tr>\n",
              "    <tr>\n",
              "      <th>177985</th>\n",
              "      <td>this stinks</td>\n",
              "      <td>-1</td>\n",
              "      <td>negative</td>\n",
              "    </tr>\n",
              "  </tbody>\n",
              "</table>\n",
              "<p>177986 rows × 3 columns</p>\n",
              "</div>"
            ],
            "text/plain": [
              "                                               clean_text  category  \\\n",
              "0       when modi promised “minimum government maximum...        -1   \n",
              "1       talk all the nonsense and continue all the dra...         0   \n",
              "2       what did just say vote for modi  welcome bjp t...         1   \n",
              "3       asking his supporters prefix chowkidar their n...         1   \n",
              "4       answer who among these the most powerful world...         1   \n",
              "...                                                   ...       ...   \n",
              "177981  'I'm not satisfied with The Hills finale.  gon...        -1   \n",
              "177982                                         this sucks        -1   \n",
              "177983                                        this is bad        -1   \n",
              "177984                            I am not okay with this        -1   \n",
              "177985                                        this stinks        -1   \n",
              "\n",
              "       category_sentiment  \n",
              "0                negative  \n",
              "1                 neutral  \n",
              "2                positive  \n",
              "3                positive  \n",
              "4                positive  \n",
              "...                   ...  \n",
              "177981           negative  \n",
              "177982           negative  \n",
              "177983           negative  \n",
              "177984           negative  \n",
              "177985           negative  \n",
              "\n",
              "[177986 rows x 3 columns]"
            ]
          },
          "execution_count": 34,
          "metadata": {},
          "output_type": "execute_result"
        }
      ],
      "source": [
        "df = pd.read_csv(\"Twitter.csv\")\n",
        "df"
      ]
    },
    {
      "cell_type": "code",
      "execution_count": 35,
      "metadata": {
        "colab": {
          "base_uri": "https://localhost:8080/"
        },
        "id": "hMh9Xz1XcHJf",
        "outputId": "be925b18-3ae5-4864-e1aa-71ddea931929"
      },
      "outputs": [
        {
          "data": {
            "text/plain": [
              " 1    72254\n",
              " 0    62713\n",
              "-1    43019\n",
              "Name: category, dtype: int64"
            ]
          },
          "execution_count": 35,
          "metadata": {},
          "output_type": "execute_result"
        }
      ],
      "source": [
        "df[\"category\"].value_counts()"
      ]
    },
    {
      "cell_type": "code",
      "execution_count": 36,
      "metadata": {
        "id": "XzFlZ1iMcHJg"
      },
      "outputs": [],
      "source": [
        "def text_transformation(text):\n",
        "    text = \" \".join(x.lower() for x in str(text).split())                             # Converting Text to Lowercase\n",
        "    text = contractions.fix(text)                                                     # Fixes Contractions such as (\"you're\" to \"you are\" etc.)\n",
        "    text = \" \".join([re.sub(\"[^A-Za-z]+\", \"\", x) for x in word_tokenize(text)])       # Removal of Punctuation, Numbers, and Special Characters                                                               \n",
        "    return text"
      ]
    },
    {
      "cell_type": "code",
      "execution_count": 37,
      "metadata": {
        "colab": {
          "base_uri": "https://localhost:8080/",
          "height": 423
        },
        "id": "AqIyoy61cHJg",
        "outputId": "0ef660d4-1683-430e-9caa-37975b3b0683"
      },
      "outputs": [
        {
          "data": {
            "text/html": [
              "<div>\n",
              "<style scoped>\n",
              "    .dataframe tbody tr th:only-of-type {\n",
              "        vertical-align: middle;\n",
              "    }\n",
              "\n",
              "    .dataframe tbody tr th {\n",
              "        vertical-align: top;\n",
              "    }\n",
              "\n",
              "    .dataframe thead th {\n",
              "        text-align: right;\n",
              "    }\n",
              "</style>\n",
              "<table border=\"1\" class=\"dataframe\">\n",
              "  <thead>\n",
              "    <tr style=\"text-align: right;\">\n",
              "      <th></th>\n",
              "      <th>clean_text</th>\n",
              "      <th>category</th>\n",
              "      <th>category_sentiment</th>\n",
              "      <th>processed_text</th>\n",
              "    </tr>\n",
              "  </thead>\n",
              "  <tbody>\n",
              "    <tr>\n",
              "      <th>0</th>\n",
              "      <td>when modi promised “minimum government maximum...</td>\n",
              "      <td>-1</td>\n",
              "      <td>negative</td>\n",
              "      <td>when modi promised  minimum government maximum...</td>\n",
              "    </tr>\n",
              "    <tr>\n",
              "      <th>1</th>\n",
              "      <td>talk all the nonsense and continue all the dra...</td>\n",
              "      <td>0</td>\n",
              "      <td>neutral</td>\n",
              "      <td>talk all the nonsense and continue all the dra...</td>\n",
              "    </tr>\n",
              "    <tr>\n",
              "      <th>2</th>\n",
              "      <td>what did just say vote for modi  welcome bjp t...</td>\n",
              "      <td>1</td>\n",
              "      <td>positive</td>\n",
              "      <td>what did just say vote for modi welcome bjp to...</td>\n",
              "    </tr>\n",
              "    <tr>\n",
              "      <th>3</th>\n",
              "      <td>asking his supporters prefix chowkidar their n...</td>\n",
              "      <td>1</td>\n",
              "      <td>positive</td>\n",
              "      <td>asking his supporters prefix chowkidar their n...</td>\n",
              "    </tr>\n",
              "    <tr>\n",
              "      <th>4</th>\n",
              "      <td>answer who among these the most powerful world...</td>\n",
              "      <td>1</td>\n",
              "      <td>positive</td>\n",
              "      <td>answer who among these the most powerful world...</td>\n",
              "    </tr>\n",
              "    <tr>\n",
              "      <th>...</th>\n",
              "      <td>...</td>\n",
              "      <td>...</td>\n",
              "      <td>...</td>\n",
              "      <td>...</td>\n",
              "    </tr>\n",
              "    <tr>\n",
              "      <th>177981</th>\n",
              "      <td>'I'm not satisfied with The Hills finale.  gon...</td>\n",
              "      <td>-1</td>\n",
              "      <td>negative</td>\n",
              "      <td>i am not satisfied with the hills finale  goi...</td>\n",
              "    </tr>\n",
              "    <tr>\n",
              "      <th>177982</th>\n",
              "      <td>this sucks</td>\n",
              "      <td>-1</td>\n",
              "      <td>negative</td>\n",
              "      <td>this sucks</td>\n",
              "    </tr>\n",
              "    <tr>\n",
              "      <th>177983</th>\n",
              "      <td>this is bad</td>\n",
              "      <td>-1</td>\n",
              "      <td>negative</td>\n",
              "      <td>this is bad</td>\n",
              "    </tr>\n",
              "    <tr>\n",
              "      <th>177984</th>\n",
              "      <td>I am not okay with this</td>\n",
              "      <td>-1</td>\n",
              "      <td>negative</td>\n",
              "      <td>i am not okay with this</td>\n",
              "    </tr>\n",
              "    <tr>\n",
              "      <th>177985</th>\n",
              "      <td>this stinks</td>\n",
              "      <td>-1</td>\n",
              "      <td>negative</td>\n",
              "      <td>this stinks</td>\n",
              "    </tr>\n",
              "  </tbody>\n",
              "</table>\n",
              "<p>177986 rows × 4 columns</p>\n",
              "</div>"
            ],
            "text/plain": [
              "                                               clean_text  category  \\\n",
              "0       when modi promised “minimum government maximum...        -1   \n",
              "1       talk all the nonsense and continue all the dra...         0   \n",
              "2       what did just say vote for modi  welcome bjp t...         1   \n",
              "3       asking his supporters prefix chowkidar their n...         1   \n",
              "4       answer who among these the most powerful world...         1   \n",
              "...                                                   ...       ...   \n",
              "177981  'I'm not satisfied with The Hills finale.  gon...        -1   \n",
              "177982                                         this sucks        -1   \n",
              "177983                                        this is bad        -1   \n",
              "177984                            I am not okay with this        -1   \n",
              "177985                                        this stinks        -1   \n",
              "\n",
              "       category_sentiment                                     processed_text  \n",
              "0                negative  when modi promised  minimum government maximum...  \n",
              "1                 neutral  talk all the nonsense and continue all the dra...  \n",
              "2                positive  what did just say vote for modi welcome bjp to...  \n",
              "3                positive  asking his supporters prefix chowkidar their n...  \n",
              "4                positive  answer who among these the most powerful world...  \n",
              "...                   ...                                                ...  \n",
              "177981           negative   i am not satisfied with the hills finale  goi...  \n",
              "177982           negative                                         this sucks  \n",
              "177983           negative                                        this is bad  \n",
              "177984           negative                            i am not okay with this  \n",
              "177985           negative                                        this stinks  \n",
              "\n",
              "[177986 rows x 4 columns]"
            ]
          },
          "execution_count": 37,
          "metadata": {},
          "output_type": "execute_result"
        }
      ],
      "source": [
        "df[\"processed_text\"] = df[\"clean_text\"].apply(text_transformation)\n",
        "df"
      ]
    },
    {
      "cell_type": "code",
      "execution_count": 38,
      "metadata": {
        "id": "6XXYyN7XcHJh"
      },
      "outputs": [],
      "source": [
        "x = df[\"processed_text\"]\n",
        "y = df[\"category_sentiment\"]\n",
        "y_strat = df[\"category\"]"
      ]
    },
    {
      "cell_type": "code",
      "execution_count": 39,
      "metadata": {
        "colab": {
          "base_uri": "https://localhost:8080/"
        },
        "id": "2kAAOz96cHJh",
        "outputId": "dccec8f3-414e-4a8f-ebb7-4b2ccab65a9a"
      },
      "outputs": [
        {
          "name": "stdout",
          "output_type": "stream",
          "text": [
            "Train: (142388,) (142388,)\n",
            "Test:  (35598,) (35598,)\n"
          ]
        }
      ],
      "source": [
        "x_train, x_test, y_train, y_test = train_test_split(x, y, test_size=0.2, random_state=42, stratify=y_strat)\n",
        "\n",
        "print(\"Train:\", x_train.shape, y_train.shape)\n",
        "print(\"Test: \", x_test.shape, y_test.shape)"
      ]
    },
    {
      "cell_type": "code",
      "execution_count": 40,
      "metadata": {},
      "outputs": [],
      "source": [
        "vectorizer = TfidfVectorizer(sublinear_tf=True)\n",
        "x_train = vectorizer.fit_transform(x_train)\n",
        "x_test = vectorizer.transform(x_test)"
      ]
    },
    {
      "cell_type": "code",
      "execution_count": 41,
      "metadata": {
        "id": "5DqttZGkcHJi"
      },
      "outputs": [],
      "source": [
        "def objective_function(x, y, x_validation, y_validation, params):\n",
        "    model = LinearSVC(\n",
        "        tol = params[\"tol\"],\n",
        "        C = params[\"C\"],\n",
        "        class_weight = \"balanced\",\n",
        "        max_iter = params[\"max_iter\"],\n",
        "        random_state = params[\"random_state\"] \n",
        "    )\n",
        "\n",
        "    model.fit(x, y)\n",
        "\n",
        "    predictions = model.predict(x_validation)\n",
        "\n",
        "    return accuracy_score(predictions, y_validation)"
      ]
    },
    {
      "cell_type": "code",
      "execution_count": 42,
      "metadata": {
        "colab": {
          "base_uri": "https://localhost:8080/"
        },
        "id": "fUtym_FCcHJi",
        "outputId": "068c352e-47bc-47fa-fd5f-55456ad17720"
      },
      "outputs": [
        {
          "name": "stdout",
          "output_type": "stream",
          "text": [
            "Accuracy: 0.9265969998314512\n",
            "Accuracy: 0.9154727793696275\n",
            "Accuracy: 0.9278892072588347\n",
            "Accuracy: 0.9128883645148604\n",
            "Accuracy: 0.926344176639137\n",
            "Accuracy: 0.9199393224338446\n",
            "Accuracy: 0.9242092252373729\n",
            "Accuracy: 0.9270745547502669\n",
            "Accuracy: 0.9266812742288892\n",
            "Accuracy: 0.9205854261475364\n",
            "Accuracy: 0.9286195853699646\n",
            "Accuracy: 0.9285072195067139\n",
            "Accuracy: 0.9286195853699646\n",
            "Accuracy: 0.927158829147705\n",
            "Accuracy: 0.9107815045789089\n",
            "Accuracy: 0.928591493904152\n",
            "Accuracy: 0.9278049328613968\n",
            "Accuracy: 0.9267374571605146\n",
            "Accuracy: 0.9196864992415305\n",
            "Accuracy: 0.9075790774762628\n",
            "Best Accuracy: 0.9286195853699646\n",
            "Best Params: {'tol': 5.854598114993132e-05, 'C': 0.827314960045656, 'max_iter': 7100, 'random_state': 7}\n"
          ]
        }
      ],
      "source": [
        "num_samples = 20\n",
        "best_params = None\n",
        "current_acc = 0.50\n",
        "\n",
        "for i in range(num_samples):\n",
        "    params = {\n",
        "        \"tol\" : random.uniform(0.0001, 0.00001),\n",
        "        \"C\" : random.uniform(0.1, 1),\n",
        "        \"max_iter\" : random.randrange(100, 10000, 100),\n",
        "        \"random_state\" : random.randrange(1, 10, 1)\n",
        "    }\n",
        "\n",
        "    acc = objective_function(x_train, y_train, x_test, y_test, params)\n",
        "    print(\"Accuracy: {}\".format(acc))\n",
        "\n",
        "    if acc > current_acc:\n",
        "        best_params = params\n",
        "        current_acc = acc\n",
        "\n",
        "print(\"Best Accuracy: {}\".format(current_acc))\n",
        "print(\"Best Params: {}\".format(best_params))"
      ]
    },
    {
      "cell_type": "code",
      "execution_count": 43,
      "metadata": {
        "colab": {
          "base_uri": "https://localhost:8080/"
        },
        "id": "ksLlAVXT22xr",
        "outputId": "ed6cff40-c9e4-4994-9c86-43542438d540"
      },
      "outputs": [
        {
          "name": "stdout",
          "output_type": "stream",
          "text": [
            "              precision    recall  f1-score   support\n",
            "\n",
            "    negative       0.87      0.89      0.88      8464\n",
            "     neutral       0.96      0.94      0.95     12770\n",
            "    positive       0.94      0.94      0.94     14364\n",
            "\n",
            "    accuracy                           0.93     35598\n",
            "   macro avg       0.92      0.92      0.92     35598\n",
            "weighted avg       0.93      0.93      0.93     35598\n",
            "\n",
            "0.9286195853699646\n"
          ]
        }
      ],
      "source": [
        "model = LinearSVC(\n",
        "    tol = best_params[\"tol\"],\n",
        "    C = best_params[\"C\"],\n",
        "    class_weight = \"balanced\",\n",
        "    max_iter = best_params[\"max_iter\"],\n",
        "    random_state = best_params[\"random_state\"] \n",
        ")\n",
        "\n",
        "model.fit(x_train, y_train)\n",
        "\n",
        "predictions = model.predict(x_test)\n",
        "\n",
        "print(classification_report(predictions, y_test))\n",
        "print(accuracy_score(predictions, y_test))"
      ]
    },
    {
      "cell_type": "code",
      "execution_count": 44,
      "metadata": {},
      "outputs": [],
      "source": [
        "pickl = {\"vectorizer\": vectorizer,\n",
        "         \"model\": model\n",
        "         }\n",
        "pickle.dump(pickl, open('ml_model'+\".p\", \"wb\"))"
      ]
    }
  ],
  "metadata": {
    "accelerator": "GPU",
    "colab": {
      "provenance": []
    },
    "gpuClass": "standard",
    "kernelspec": {
      "display_name": "env",
      "language": "python",
      "name": "python3"
    },
    "language_info": {
      "codemirror_mode": {
        "name": "ipython",
        "version": 3
      },
      "file_extension": ".py",
      "mimetype": "text/x-python",
      "name": "python",
      "nbconvert_exporter": "python",
      "pygments_lexer": "ipython3",
      "version": "3.9.12"
    },
    "orig_nbformat": 4,
    "vscode": {
      "interpreter": {
        "hash": "7ab8095c19f97ab2d5d8ee0c5e3fc3f368538e45746f5278a75a30c2375d4186"
      }
    }
  },
  "nbformat": 4,
  "nbformat_minor": 0
}
