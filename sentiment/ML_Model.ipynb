{
  "cells": [
    {
      "cell_type": "code",
      "execution_count": 1,
      "metadata": {
        "colab": {
          "base_uri": "https://localhost:8080/"
        },
        "id": "COLJ3qWHcHJa",
        "outputId": "ec9661c1-16cb-4515-8cb8-530ef9bd4f0b"
      },
      "outputs": [],
      "source": [
        "import pandas as pd\n",
        "import re\n",
        "import random\n",
        "import pickle\n",
        "import contractions\n",
        "\n",
        "import nltk\n",
        "from nltk.corpus import stopwords\n",
        "from nltk import word_tokenize\n",
        "from sklearn.feature_extraction.text import TfidfVectorizer\n",
        "from sklearn.model_selection import train_test_split\n",
        "from sklearn.linear_model import LogisticRegression\n",
        "from sklearn.metrics import accuracy_score, classification_report\n"
      ]
    },
    {
      "cell_type": "code",
      "execution_count": 2,
      "metadata": {
        "colab": {
          "base_uri": "https://localhost:8080/",
          "height": 423
        },
        "id": "wNPHFxSBcHJd",
        "outputId": "667c33e2-d1ce-4a39-cd6a-69d0b4a9334b"
      },
      "outputs": [
        {
          "data": {
            "text/html": [
              "<div>\n",
              "<style scoped>\n",
              "    .dataframe tbody tr th:only-of-type {\n",
              "        vertical-align: middle;\n",
              "    }\n",
              "\n",
              "    .dataframe tbody tr th {\n",
              "        vertical-align: top;\n",
              "    }\n",
              "\n",
              "    .dataframe thead th {\n",
              "        text-align: right;\n",
              "    }\n",
              "</style>\n",
              "<table border=\"1\" class=\"dataframe\">\n",
              "  <thead>\n",
              "    <tr style=\"text-align: right;\">\n",
              "      <th></th>\n",
              "      <th>clean_text</th>\n",
              "      <th>category</th>\n",
              "      <th>category_sentiment</th>\n",
              "    </tr>\n",
              "  </thead>\n",
              "  <tbody>\n",
              "    <tr>\n",
              "      <th>0</th>\n",
              "      <td>i am not happy</td>\n",
              "      <td>-1</td>\n",
              "      <td>negative</td>\n",
              "    </tr>\n",
              "    <tr>\n",
              "      <th>1</th>\n",
              "      <td>i am not sad</td>\n",
              "      <td>1</td>\n",
              "      <td>positive</td>\n",
              "    </tr>\n",
              "    <tr>\n",
              "      <th>2</th>\n",
              "      <td>i'm fine</td>\n",
              "      <td>0</td>\n",
              "      <td>neutral</td>\n",
              "    </tr>\n",
              "    <tr>\n",
              "      <th>3</th>\n",
              "      <td>when modi promised “minimum government maximum...</td>\n",
              "      <td>-1</td>\n",
              "      <td>negative</td>\n",
              "    </tr>\n",
              "    <tr>\n",
              "      <th>4</th>\n",
              "      <td>talk all the nonsense and continue all the dra...</td>\n",
              "      <td>0</td>\n",
              "      <td>neutral</td>\n",
              "    </tr>\n",
              "    <tr>\n",
              "      <th>...</th>\n",
              "      <td>...</td>\n",
              "      <td>...</td>\n",
              "      <td>...</td>\n",
              "    </tr>\n",
              "    <tr>\n",
              "      <th>177971</th>\n",
              "      <td>'I'm not satisfied with The Hills finale.  gon...</td>\n",
              "      <td>-1</td>\n",
              "      <td>negative</td>\n",
              "    </tr>\n",
              "    <tr>\n",
              "      <th>177972</th>\n",
              "      <td>this sucks</td>\n",
              "      <td>-1</td>\n",
              "      <td>negative</td>\n",
              "    </tr>\n",
              "    <tr>\n",
              "      <th>177973</th>\n",
              "      <td>this is bad</td>\n",
              "      <td>-1</td>\n",
              "      <td>negative</td>\n",
              "    </tr>\n",
              "    <tr>\n",
              "      <th>177974</th>\n",
              "      <td>I am not okay with this</td>\n",
              "      <td>-1</td>\n",
              "      <td>negative</td>\n",
              "    </tr>\n",
              "    <tr>\n",
              "      <th>177975</th>\n",
              "      <td>this stinks</td>\n",
              "      <td>-1</td>\n",
              "      <td>negative</td>\n",
              "    </tr>\n",
              "  </tbody>\n",
              "</table>\n",
              "<p>177976 rows × 3 columns</p>\n",
              "</div>"
            ],
            "text/plain": [
              "                                               clean_text  category  \\\n",
              "0                                          i am not happy        -1   \n",
              "1                                            i am not sad         1   \n",
              "2                                                i'm fine         0   \n",
              "3       when modi promised “minimum government maximum...        -1   \n",
              "4       talk all the nonsense and continue all the dra...         0   \n",
              "...                                                   ...       ...   \n",
              "177971  'I'm not satisfied with The Hills finale.  gon...        -1   \n",
              "177972                                         this sucks        -1   \n",
              "177973                                        this is bad        -1   \n",
              "177974                            I am not okay with this        -1   \n",
              "177975                                        this stinks        -1   \n",
              "\n",
              "       category_sentiment  \n",
              "0                negative  \n",
              "1                positive  \n",
              "2                 neutral  \n",
              "3                negative  \n",
              "4                 neutral  \n",
              "...                   ...  \n",
              "177971           negative  \n",
              "177972           negative  \n",
              "177973           negative  \n",
              "177974           negative  \n",
              "177975           negative  \n",
              "\n",
              "[177976 rows x 3 columns]"
            ]
          },
          "execution_count": 2,
          "metadata": {},
          "output_type": "execute_result"
        }
      ],
      "source": [
        "df = pd.read_csv(\"Twitter.csv\")\n",
        "df"
      ]
    },
    {
      "cell_type": "code",
      "execution_count": 3,
      "metadata": {
        "colab": {
          "base_uri": "https://localhost:8080/"
        },
        "id": "hMh9Xz1XcHJf",
        "outputId": "be925b18-3ae5-4864-e1aa-71ddea931929"
      },
      "outputs": [
        {
          "data": {
            "text/plain": [
              " 1    72250\n",
              " 0    62712\n",
              "-1    43014\n",
              "Name: category, dtype: int64"
            ]
          },
          "execution_count": 3,
          "metadata": {},
          "output_type": "execute_result"
        }
      ],
      "source": [
        "df[\"category\"].value_counts()"
      ]
    },
    {
      "cell_type": "code",
      "execution_count": 4,
      "metadata": {
        "id": "XzFlZ1iMcHJg"
      },
      "outputs": [],
      "source": [
        "def text_transformation(text):\n",
        "    text = \" \".join(x.lower() for x in str(text).split())                             # Converting Text to Lowercase\n",
        "    text = contractions.fix(text)                                                     # Fixes Contractions such as (\"you're\" to \"you are\" etc.)\n",
        "    text = \" \".join([re.sub(\"[^A-Za-z]+\", \"\", x) for x in word_tokenize(text)])       # Removal of Punctuation, Numbers, and Special Characters                                                                   \n",
        "    return text"
      ]
    },
    {
      "cell_type": "code",
      "execution_count": 5,
      "metadata": {
        "colab": {
          "base_uri": "https://localhost:8080/",
          "height": 423
        },
        "id": "AqIyoy61cHJg",
        "outputId": "0ef660d4-1683-430e-9caa-37975b3b0683"
      },
      "outputs": [
        {
          "data": {
            "text/html": [
              "<div>\n",
              "<style scoped>\n",
              "    .dataframe tbody tr th:only-of-type {\n",
              "        vertical-align: middle;\n",
              "    }\n",
              "\n",
              "    .dataframe tbody tr th {\n",
              "        vertical-align: top;\n",
              "    }\n",
              "\n",
              "    .dataframe thead th {\n",
              "        text-align: right;\n",
              "    }\n",
              "</style>\n",
              "<table border=\"1\" class=\"dataframe\">\n",
              "  <thead>\n",
              "    <tr style=\"text-align: right;\">\n",
              "      <th></th>\n",
              "      <th>clean_text</th>\n",
              "      <th>category</th>\n",
              "      <th>category_sentiment</th>\n",
              "      <th>processed_text</th>\n",
              "    </tr>\n",
              "  </thead>\n",
              "  <tbody>\n",
              "    <tr>\n",
              "      <th>0</th>\n",
              "      <td>i am not happy</td>\n",
              "      <td>-1</td>\n",
              "      <td>negative</td>\n",
              "      <td>i am not happy</td>\n",
              "    </tr>\n",
              "    <tr>\n",
              "      <th>1</th>\n",
              "      <td>i am not sad</td>\n",
              "      <td>1</td>\n",
              "      <td>positive</td>\n",
              "      <td>i am not sad</td>\n",
              "    </tr>\n",
              "    <tr>\n",
              "      <th>2</th>\n",
              "      <td>i'm fine</td>\n",
              "      <td>0</td>\n",
              "      <td>neutral</td>\n",
              "      <td>i am fine</td>\n",
              "    </tr>\n",
              "    <tr>\n",
              "      <th>3</th>\n",
              "      <td>when modi promised “minimum government maximum...</td>\n",
              "      <td>-1</td>\n",
              "      <td>negative</td>\n",
              "      <td>when modi promised  minimum government maximum...</td>\n",
              "    </tr>\n",
              "    <tr>\n",
              "      <th>4</th>\n",
              "      <td>talk all the nonsense and continue all the dra...</td>\n",
              "      <td>0</td>\n",
              "      <td>neutral</td>\n",
              "      <td>talk all the nonsense and continue all the dra...</td>\n",
              "    </tr>\n",
              "    <tr>\n",
              "      <th>...</th>\n",
              "      <td>...</td>\n",
              "      <td>...</td>\n",
              "      <td>...</td>\n",
              "      <td>...</td>\n",
              "    </tr>\n",
              "    <tr>\n",
              "      <th>177971</th>\n",
              "      <td>'I'm not satisfied with The Hills finale.  gon...</td>\n",
              "      <td>-1</td>\n",
              "      <td>negative</td>\n",
              "      <td>i am not satisfied with the hills finale  goi...</td>\n",
              "    </tr>\n",
              "    <tr>\n",
              "      <th>177972</th>\n",
              "      <td>this sucks</td>\n",
              "      <td>-1</td>\n",
              "      <td>negative</td>\n",
              "      <td>this sucks</td>\n",
              "    </tr>\n",
              "    <tr>\n",
              "      <th>177973</th>\n",
              "      <td>this is bad</td>\n",
              "      <td>-1</td>\n",
              "      <td>negative</td>\n",
              "      <td>this is bad</td>\n",
              "    </tr>\n",
              "    <tr>\n",
              "      <th>177974</th>\n",
              "      <td>I am not okay with this</td>\n",
              "      <td>-1</td>\n",
              "      <td>negative</td>\n",
              "      <td>i am not okay with this</td>\n",
              "    </tr>\n",
              "    <tr>\n",
              "      <th>177975</th>\n",
              "      <td>this stinks</td>\n",
              "      <td>-1</td>\n",
              "      <td>negative</td>\n",
              "      <td>this stinks</td>\n",
              "    </tr>\n",
              "  </tbody>\n",
              "</table>\n",
              "<p>177976 rows × 4 columns</p>\n",
              "</div>"
            ],
            "text/plain": [
              "                                               clean_text  category  \\\n",
              "0                                          i am not happy        -1   \n",
              "1                                            i am not sad         1   \n",
              "2                                                i'm fine         0   \n",
              "3       when modi promised “minimum government maximum...        -1   \n",
              "4       talk all the nonsense and continue all the dra...         0   \n",
              "...                                                   ...       ...   \n",
              "177971  'I'm not satisfied with The Hills finale.  gon...        -1   \n",
              "177972                                         this sucks        -1   \n",
              "177973                                        this is bad        -1   \n",
              "177974                            I am not okay with this        -1   \n",
              "177975                                        this stinks        -1   \n",
              "\n",
              "       category_sentiment                                     processed_text  \n",
              "0                negative                                     i am not happy  \n",
              "1                positive                                       i am not sad  \n",
              "2                 neutral                                          i am fine  \n",
              "3                negative  when modi promised  minimum government maximum...  \n",
              "4                 neutral  talk all the nonsense and continue all the dra...  \n",
              "...                   ...                                                ...  \n",
              "177971           negative   i am not satisfied with the hills finale  goi...  \n",
              "177972           negative                                         this sucks  \n",
              "177973           negative                                        this is bad  \n",
              "177974           negative                            i am not okay with this  \n",
              "177975           negative                                        this stinks  \n",
              "\n",
              "[177976 rows x 4 columns]"
            ]
          },
          "execution_count": 5,
          "metadata": {},
          "output_type": "execute_result"
        }
      ],
      "source": [
        "df[\"processed_text\"] = df[\"clean_text\"].apply(text_transformation)\n",
        "df"
      ]
    },
    {
      "cell_type": "code",
      "execution_count": 6,
      "metadata": {
        "id": "6XXYyN7XcHJh"
      },
      "outputs": [],
      "source": [
        "x = df[\"processed_text\"]\n",
        "y = df[\"category_sentiment\"]\n",
        "y_strat = df[\"category\"]\n",
        "\n",
        "vectorizer = TfidfVectorizer(sublinear_tf = True)\n",
        "x_vectorized = vectorizer.fit_transform(x)"
      ]
    },
    {
      "cell_type": "code",
      "execution_count": 7,
      "metadata": {
        "colab": {
          "base_uri": "https://localhost:8080/"
        },
        "id": "2kAAOz96cHJh",
        "outputId": "dccec8f3-414e-4a8f-ebb7-4b2ccab65a9a"
      },
      "outputs": [
        {
          "name": "stdout",
          "output_type": "stream",
          "text": [
            "Train: (142380, 112550) (142380,)\n",
            "Test:  (35596, 112550) (35596,)\n"
          ]
        }
      ],
      "source": [
        "x_train, x_test, y_train, y_test = train_test_split(x_vectorized, y, test_size=0.2, random_state=42, stratify=y_strat)\n",
        "\n",
        "print(\"Train:\", x_train.shape, y_train.shape)\n",
        "print(\"Test: \", x_test.shape, y_test.shape)"
      ]
    },
    {
      "cell_type": "code",
      "execution_count": 8,
      "metadata": {
        "id": "5DqttZGkcHJi"
      },
      "outputs": [],
      "source": [
        "def objective_function(x, y, x_validation, y_validation, params):\n",
        "    model = LogisticRegression(\n",
        "        tol = params['tol'],\n",
        "        C = params['C'],\n",
        "        class_weight = 'balanced',\n",
        "        solver = 'lbfgs',\n",
        "        max_iter = params['max_iter'],\n",
        "        multi_class = 'multinomial',\n",
        "    )\n",
        "\n",
        "    model.fit(x, y)\n",
        "\n",
        "    predictions = model.predict(x_validation)\n",
        "\n",
        "    return accuracy_score(predictions, y_validation)"
      ]
    },
    {
      "cell_type": "code",
      "execution_count": 9,
      "metadata": {
        "colab": {
          "base_uri": "https://localhost:8080/"
        },
        "id": "fUtym_FCcHJi",
        "outputId": "068c352e-47bc-47fa-fd5f-55456ad17720"
      },
      "outputs": [
        {
          "name": "stdout",
          "output_type": "stream",
          "text": [
            "Accuracy: 0.9045117428924598\n",
            "Accuracy: 0.9049331385548938\n",
            "Accuracy: 0.8952691313630745\n",
            "Accuracy: 0.8846780537139004\n",
            "Accuracy: 0.8990055062366558\n",
            "Accuracy: 0.8948196426564783\n",
            "Accuracy: 0.9033318350376447\n",
            "Accuracy: 0.9035284863467805\n",
            "Accuracy: 0.8895100573098101\n",
            "Accuracy: 0.9050736037757051\n",
            "Accuracy: 0.890774244297112\n",
            "Accuracy: 0.8951848522305877\n",
            "Accuracy: 0.9050455107315428\n",
            "Accuracy: 0.8995673671199012\n",
            "Accuracy: 0.8991178784133048\n",
            "Best Accuracy: 0.9050736037757051\n",
            "Best Params: {'tol': 1.5000359845651024e-05, 'C': 0.9973358517896193, 'max_iter': 8500}\n"
          ]
        }
      ],
      "source": [
        "num_samples = 15\n",
        "best_params = None\n",
        "current_acc = 0.50\n",
        "\n",
        "for i in range(num_samples):\n",
        "    params = {\n",
        "        'tol' : random.uniform(0.0001, 0.00001),\n",
        "        'C' : random.uniform(0.1, 1),\n",
        "        'max_iter' : random.randrange(100, 10000, 100),\n",
        "    }\n",
        "\n",
        "    acc = objective_function(x_train, y_train, x_test, y_test, params)\n",
        "    print(\"Accuracy: {}\".format(acc))\n",
        "\n",
        "    if acc > current_acc:\n",
        "        best_params = params\n",
        "        current_acc = acc\n",
        "\n",
        "print(\"Best Accuracy: {}\".format(current_acc))\n",
        "print(\"Best Params: {}\".format(best_params))"
      ]
    },
    {
      "cell_type": "code",
      "execution_count": 10,
      "metadata": {
        "colab": {
          "base_uri": "https://localhost:8080/"
        },
        "id": "ksLlAVXT22xr",
        "outputId": "ed6cff40-c9e4-4994-9c86-43542438d540"
      },
      "outputs": [
        {
          "name": "stdout",
          "output_type": "stream",
          "text": [
            "              precision    recall  f1-score   support\n",
            "\n",
            "    negative       0.86      0.85      0.86      8717\n",
            "     neutral       0.95      0.90      0.93     13300\n",
            "    positive       0.89      0.95      0.92     13579\n",
            "\n",
            "    accuracy                           0.91     35596\n",
            "   macro avg       0.90      0.90      0.90     35596\n",
            "weighted avg       0.91      0.91      0.91     35596\n",
            "\n",
            "0.9050736037757051\n"
          ]
        }
      ],
      "source": [
        "model = LogisticRegression(\n",
        "        tol = best_params['tol'],\n",
        "        C = best_params['C'],\n",
        "        class_weight = 'balanced',\n",
        "        solver = 'lbfgs',\n",
        "        max_iter = best_params['max_iter'],\n",
        "        multi_class = 'multinomial',\n",
        "    )\n",
        "\n",
        "model.fit(x_train, y_train)\n",
        "\n",
        "predictions = model.predict(x_test)\n",
        "\n",
        "print(classification_report(predictions, y_test))\n",
        "print(accuracy_score(predictions, y_test))"
      ]
    },
    {
      "cell_type": "code",
      "execution_count": 24,
      "metadata": {},
      "outputs": [],
      "source": [
        "pickl = {'vectorizer': vectorizer,\n",
        "         'model': model\n",
        "         }\n",
        "pickle.dump(pickl, open('ml_model'+\".p\", \"wb\"))"
      ]
    },
    {
      "cell_type": "code",
      "execution_count": 12,
      "metadata": {
        "colab": {
          "base_uri": "https://localhost:8080/"
        },
        "id": "SD99_J-lcHJj",
        "outputId": "6b1cbe19-3dab-4ab2-9ec9-20862d3d0ee5"
      },
      "outputs": [
        {
          "data": {
            "text/plain": [
              "array(['positive'], dtype=object)"
            ]
          },
          "execution_count": 12,
          "metadata": {},
          "output_type": "execute_result"
        }
      ],
      "source": [
        "test_feature = vectorizer.transform([\"You have a fast and awesome response :)\"])\n",
        "model.predict(test_feature)"
      ]
    },
    {
      "cell_type": "code",
      "execution_count": 13,
      "metadata": {
        "colab": {
          "base_uri": "https://localhost:8080/"
        },
        "id": "ZM0Jgfb3cHJk",
        "outputId": "202e60c7-3ae6-441e-9fde-f5ca2aeedbbd"
      },
      "outputs": [
        {
          "data": {
            "text/plain": [
              "array(['negative'], dtype=object)"
            ]
          },
          "execution_count": 13,
          "metadata": {},
          "output_type": "execute_result"
        }
      ],
      "source": [
        "test_feature = vectorizer.transform([\"This food is disgusting! I will not eat something like this!\"])\n",
        "model.predict(test_feature)"
      ]
    },
    {
      "cell_type": "code",
      "execution_count": 14,
      "metadata": {
        "colab": {
          "base_uri": "https://localhost:8080/"
        },
        "id": "GADpB0rccHJk",
        "outputId": "dc75e1c2-cc43-4867-fe02-4502ec55abf4"
      },
      "outputs": [
        {
          "data": {
            "text/plain": [
              "array(['positive'], dtype=object)"
            ]
          },
          "execution_count": 14,
          "metadata": {},
          "output_type": "execute_result"
        }
      ],
      "source": [
        "test_feature = vectorizer.transform([\"The product is very good.\"])\n",
        "model.predict(test_feature)"
      ]
    },
    {
      "cell_type": "code",
      "execution_count": 15,
      "metadata": {
        "colab": {
          "base_uri": "https://localhost:8080/"
        },
        "id": "n6iyavshcHJk",
        "outputId": "e3ae7283-51af-45dc-cdca-9aea5bc3edb7"
      },
      "outputs": [
        {
          "data": {
            "text/plain": [
              "array(['negative'], dtype=object)"
            ]
          },
          "execution_count": 15,
          "metadata": {},
          "output_type": "execute_result"
        }
      ],
      "source": [
        "test_feature = vectorizer.transform([\"I hate the service. The queue is very long.\"])\n",
        "model.predict(test_feature)"
      ]
    },
    {
      "cell_type": "code",
      "execution_count": 16,
      "metadata": {
        "colab": {
          "base_uri": "https://localhost:8080/"
        },
        "id": "UKHCV4owcHJl",
        "outputId": "08dfa60d-4f8b-4a98-8f1f-288ca42ff6ec"
      },
      "outputs": [
        {
          "data": {
            "text/plain": [
              "array(['neutral'], dtype=object)"
            ]
          },
          "execution_count": 16,
          "metadata": {},
          "output_type": "execute_result"
        }
      ],
      "source": [
        "test_feature = vectorizer.transform([\"This place is uninfluenced by fashion or trends.\"])\n",
        "model.predict(test_feature)"
      ]
    },
    {
      "cell_type": "code",
      "execution_count": 17,
      "metadata": {
        "colab": {
          "base_uri": "https://localhost:8080/"
        },
        "id": "_h_u6ofq91B1",
        "outputId": "53ab927b-5d68-4c7d-b5b7-835d418842eb"
      },
      "outputs": [
        {
          "data": {
            "text/plain": [
              "array(['neutral'], dtype=object)"
            ]
          },
          "execution_count": 17,
          "metadata": {},
          "output_type": "execute_result"
        }
      ],
      "source": [
        "test_feature = vectorizer.transform([\"This is an apple.\"])\n",
        "model.predict(test_feature)"
      ]
    },
    {
      "cell_type": "code",
      "execution_count": 18,
      "metadata": {
        "colab": {
          "base_uri": "https://localhost:8080/"
        },
        "id": "VYSa5N_IDfFw",
        "outputId": "efc67cce-8d8b-49e8-8de6-5d18d66734c5"
      },
      "outputs": [
        {
          "data": {
            "text/plain": [
              "array(['neutral'], dtype=object)"
            ]
          },
          "execution_count": 18,
          "metadata": {},
          "output_type": "execute_result"
        }
      ],
      "source": [
        "test_feature = vectorizer.transform([\"How are you?\"])\n",
        "model.predict(test_feature)"
      ]
    },
    {
      "cell_type": "code",
      "execution_count": 19,
      "metadata": {
        "colab": {
          "base_uri": "https://localhost:8080/"
        },
        "id": "xOt3wKKDDtTn",
        "outputId": "c2996dbf-4968-411c-d51b-8f31476da75e"
      },
      "outputs": [
        {
          "data": {
            "text/plain": [
              "array(['negative'], dtype=object)"
            ]
          },
          "execution_count": 19,
          "metadata": {},
          "output_type": "execute_result"
        }
      ],
      "source": [
        "test_feature = vectorizer.transform([\"This sucks!\"])\n",
        "model.predict(test_feature)"
      ]
    },
    {
      "cell_type": "code",
      "execution_count": 20,
      "metadata": {
        "colab": {
          "base_uri": "https://localhost:8080/"
        },
        "id": "94VTuP9OQuWW",
        "outputId": "64256372-4931-4d76-f8de-4c99dfe9f863"
      },
      "outputs": [
        {
          "data": {
            "text/plain": [
              "array(['neutral'], dtype=object)"
            ]
          },
          "execution_count": 20,
          "metadata": {},
          "output_type": "execute_result"
        }
      ],
      "source": [
        "test_feature = vectorizer.transform([\"She is disinterested in everything.\"])\n",
        "model.predict(test_feature)"
      ]
    },
    {
      "cell_type": "code",
      "execution_count": 21,
      "metadata": {
        "colab": {
          "base_uri": "https://localhost:8080/"
        },
        "id": "iRUj1vjeW4sg",
        "outputId": "9f4f1004-14bf-4751-8101-86881838b339"
      },
      "outputs": [
        {
          "data": {
            "text/plain": [
              "array(['positive'], dtype=object)"
            ]
          },
          "execution_count": 21,
          "metadata": {},
          "output_type": "execute_result"
        }
      ],
      "source": [
        "test_feature = vectorizer.transform([\"The item is working as intended. Great!\"])\n",
        "model.predict(test_feature)"
      ]
    },
    {
      "cell_type": "code",
      "execution_count": 22,
      "metadata": {
        "colab": {
          "base_uri": "https://localhost:8080/"
        },
        "id": "fzPhQi6uXEGp",
        "outputId": "4346ef92-8613-474b-8915-c879cbcc7aa7"
      },
      "outputs": [
        {
          "data": {
            "text/plain": [
              "array(['negative'], dtype=object)"
            ]
          },
          "execution_count": 22,
          "metadata": {},
          "output_type": "execute_result"
        }
      ],
      "source": [
        "test_feature = vectorizer.transform([\"My phone is not working! The touch response is really slow.\"])\n",
        "model.predict(test_feature)"
      ]
    },
    {
      "cell_type": "code",
      "execution_count": 23,
      "metadata": {
        "colab": {
          "base_uri": "https://localhost:8080/"
        },
        "id": "sJgIEaVaXLAU",
        "outputId": "5c50da56-d733-4c7a-9d9d-3b0e592b016d"
      },
      "outputs": [
        {
          "data": {
            "text/plain": [
              "array(['positive'], dtype=object)"
            ]
          },
          "execution_count": 23,
          "metadata": {},
          "output_type": "execute_result"
        }
      ],
      "source": [
        "test_feature = vectorizer.transform([\"I am delighted and happy\"])\n",
        "model.predict(test_feature)"
      ]
    }
  ],
  "metadata": {
    "accelerator": "GPU",
    "colab": {
      "provenance": []
    },
    "gpuClass": "standard",
    "kernelspec": {
      "display_name": "env",
      "language": "python",
      "name": "python3"
    },
    "language_info": {
      "codemirror_mode": {
        "name": "ipython",
        "version": 3
      },
      "file_extension": ".py",
      "mimetype": "text/x-python",
      "name": "python",
      "nbconvert_exporter": "python",
      "pygments_lexer": "ipython3",
      "version": "3.9.12 (tags/v3.9.12:b28265d, Mar 23 2022, 23:52:46) [MSC v.1929 64 bit (AMD64)]"
    },
    "orig_nbformat": 4,
    "vscode": {
      "interpreter": {
        "hash": "7ab8095c19f97ab2d5d8ee0c5e3fc3f368538e45746f5278a75a30c2375d4186"
      }
    }
  },
  "nbformat": 4,
  "nbformat_minor": 0
}
