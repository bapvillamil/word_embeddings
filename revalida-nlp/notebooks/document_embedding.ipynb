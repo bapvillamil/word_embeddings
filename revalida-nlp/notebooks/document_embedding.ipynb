{
 "cells": [
  {
   "cell_type": "code",
   "execution_count": 43,
   "metadata": {},
   "outputs": [
    {
     "name": "stderr",
     "output_type": "stream",
     "text": [
      "[nltk_data] Downloading package stopwords to\n",
      "[nltk_data]     C:\\Users\\JDEGUZMAN\\AppData\\Roaming\\nltk_data...\n",
      "[nltk_data]   Package stopwords is already up-to-date!\n",
      "[nltk_data] Downloading package punkt to\n",
      "[nltk_data]     C:\\Users\\JDEGUZMAN\\AppData\\Roaming\\nltk_data...\n",
      "[nltk_data]   Package punkt is already up-to-date!\n",
      "[nltk_data] Downloading package averaged_perceptron_tagger to\n",
      "[nltk_data]     C:\\Users\\JDEGUZMAN\\AppData\\Roaming\\nltk_data...\n",
      "[nltk_data]   Package averaged_perceptron_tagger is already up-to-\n",
      "[nltk_data]       date!\n",
      "[nltk_data] Downloading package wordnet to\n",
      "[nltk_data]     C:\\Users\\JDEGUZMAN\\AppData\\Roaming\\nltk_data...\n",
      "[nltk_data]   Package wordnet is already up-to-date!\n"
     ]
    }
   ],
   "source": [
    "import pandas as pd\n",
    "import numpy as np\n",
    "import matplotlib.pyplot as plt\n",
    "from collections import Counter\n",
    "\n",
    "import re\n",
    "import nltk\n",
    "nltk.download('stopwords')\n",
    "nltk.download('punkt')\n",
    "nltk.download('averaged_perceptron_tagger')\n",
    "nltk.download('wordnet')\n",
    "from nltk.stem import WordNetLemmatizer\n",
    "from nltk.tokenize  import word_tokenize\n",
    "from nltk.corpus import stopwords, wordnet\n",
    "from nltk.stem import PorterStemmer\n",
    "\n",
    "import gensim\n",
    "from gensim.test.utils import common_texts\n",
    "from gensim.models import Word2Vec\n",
    "\n",
    "from keras.preprocessing.text import Tokenizer\n",
    "from keras.models import Sequential\n",
    "from keras import layers\n",
    "from keras.layers import Activation, Dense, Dropout, Embedding, Flatten, Conv1D, MaxPooling1D, LSTM\n",
    "from keras import utils\n",
    "from keras.callbacks import ReduceLROnPlateau, EarlyStopping\n",
    "from tensorflow.keras.preprocessing.sequence import pad_sequences"
   ]
  },
  {
   "cell_type": "markdown",
   "metadata": {},
   "source": [
    "LOADING CSV "
   ]
  },
  {
   "cell_type": "code",
   "execution_count": 44,
   "metadata": {},
   "outputs": [
    {
     "data": {
      "text/html": [
       "<div>\n",
       "<style scoped>\n",
       "    .dataframe tbody tr th:only-of-type {\n",
       "        vertical-align: middle;\n",
       "    }\n",
       "\n",
       "    .dataframe tbody tr th {\n",
       "        vertical-align: top;\n",
       "    }\n",
       "\n",
       "    .dataframe thead th {\n",
       "        text-align: right;\n",
       "    }\n",
       "</style>\n",
       "<table border=\"1\" class=\"dataframe\">\n",
       "  <thead>\n",
       "    <tr style=\"text-align: right;\">\n",
       "      <th></th>\n",
       "      <th>clean_text</th>\n",
       "      <th>category</th>\n",
       "      <th>category_sentiment</th>\n",
       "    </tr>\n",
       "  </thead>\n",
       "  <tbody>\n",
       "    <tr>\n",
       "      <th>0</th>\n",
       "      <td>when modi promised “minimum government maximum...</td>\n",
       "      <td>-1</td>\n",
       "      <td>negative</td>\n",
       "    </tr>\n",
       "    <tr>\n",
       "      <th>1</th>\n",
       "      <td>talk all the nonsense and continue all the dra...</td>\n",
       "      <td>0</td>\n",
       "      <td>neutral</td>\n",
       "    </tr>\n",
       "    <tr>\n",
       "      <th>2</th>\n",
       "      <td>what did just say vote for modi  welcome bjp t...</td>\n",
       "      <td>1</td>\n",
       "      <td>positive</td>\n",
       "    </tr>\n",
       "    <tr>\n",
       "      <th>3</th>\n",
       "      <td>asking his supporters prefix chowkidar their n...</td>\n",
       "      <td>1</td>\n",
       "      <td>positive</td>\n",
       "    </tr>\n",
       "    <tr>\n",
       "      <th>4</th>\n",
       "      <td>answer who among these the most powerful world...</td>\n",
       "      <td>1</td>\n",
       "      <td>positive</td>\n",
       "    </tr>\n",
       "    <tr>\n",
       "      <th>...</th>\n",
       "      <td>...</td>\n",
       "      <td>...</td>\n",
       "      <td>...</td>\n",
       "    </tr>\n",
       "    <tr>\n",
       "      <th>177981</th>\n",
       "      <td>'I'm not satisfied with The Hills finale.  gon...</td>\n",
       "      <td>-1</td>\n",
       "      <td>negative</td>\n",
       "    </tr>\n",
       "    <tr>\n",
       "      <th>177982</th>\n",
       "      <td>this sucks</td>\n",
       "      <td>-1</td>\n",
       "      <td>negative</td>\n",
       "    </tr>\n",
       "    <tr>\n",
       "      <th>177983</th>\n",
       "      <td>this is bad</td>\n",
       "      <td>-1</td>\n",
       "      <td>negative</td>\n",
       "    </tr>\n",
       "    <tr>\n",
       "      <th>177984</th>\n",
       "      <td>I am not okay with this</td>\n",
       "      <td>-1</td>\n",
       "      <td>negative</td>\n",
       "    </tr>\n",
       "    <tr>\n",
       "      <th>177985</th>\n",
       "      <td>this stinks</td>\n",
       "      <td>-1</td>\n",
       "      <td>negative</td>\n",
       "    </tr>\n",
       "  </tbody>\n",
       "</table>\n",
       "<p>177986 rows × 3 columns</p>\n",
       "</div>"
      ],
      "text/plain": [
       "                                               clean_text  category  \\\n",
       "0       when modi promised “minimum government maximum...        -1   \n",
       "1       talk all the nonsense and continue all the dra...         0   \n",
       "2       what did just say vote for modi  welcome bjp t...         1   \n",
       "3       asking his supporters prefix chowkidar their n...         1   \n",
       "4       answer who among these the most powerful world...         1   \n",
       "...                                                   ...       ...   \n",
       "177981  'I'm not satisfied with The Hills finale.  gon...        -1   \n",
       "177982                                         this sucks        -1   \n",
       "177983                                        this is bad        -1   \n",
       "177984                            I am not okay with this        -1   \n",
       "177985                                        this stinks        -1   \n",
       "\n",
       "       category_sentiment  \n",
       "0                negative  \n",
       "1                 neutral  \n",
       "2                positive  \n",
       "3                positive  \n",
       "4                positive  \n",
       "...                   ...  \n",
       "177981           negative  \n",
       "177982           negative  \n",
       "177983           negative  \n",
       "177984           negative  \n",
       "177985           negative  \n",
       "\n",
       "[177986 rows x 3 columns]"
      ]
     },
     "execution_count": 44,
     "metadata": {},
     "output_type": "execute_result"
    }
   ],
   "source": [
    "df = pd.read_csv(\"Twitter.csv\")\n",
    "df "
   ]
  },
  {
   "cell_type": "markdown",
   "metadata": {},
   "source": [
    "DROPPING DUPLICATES AND NULL VALUES"
   ]
  },
  {
   "cell_type": "code",
   "execution_count": 45,
   "metadata": {},
   "outputs": [
    {
     "name": "stdout",
     "output_type": "stream",
     "text": [
      "<class 'pandas.core.frame.DataFrame'>\n",
      "Int64Index: 115273 entries, 0 to 177985\n",
      "Data columns (total 3 columns):\n",
      " #   Column              Non-Null Count   Dtype \n",
      "---  ------              --------------   ----- \n",
      " 0   clean_text          115273 non-null  object\n",
      " 1   category            115273 non-null  int64 \n",
      " 2   category_sentiment  115273 non-null  object\n",
      "dtypes: int64(1), object(2)\n",
      "memory usage: 3.5+ MB\n"
     ]
    }
   ],
   "source": [
    "# removing neutral category\n",
    "df = df[df.category != 0.0]\n",
    "\n",
    "# Checking info\n",
    "df.info()"
   ]
  },
  {
   "cell_type": "code",
   "execution_count": 46,
   "metadata": {},
   "outputs": [
    {
     "name": "stdout",
     "output_type": "stream",
     "text": [
      "<class 'pandas.core.frame.DataFrame'>\n",
      "Int64Index: 115273 entries, 0 to 177985\n",
      "Data columns (total 3 columns):\n",
      " #   Column              Non-Null Count   Dtype \n",
      "---  ------              --------------   ----- \n",
      " 0   clean_text          115273 non-null  object\n",
      " 1   category            115273 non-null  int64 \n",
      " 2   category_sentiment  115273 non-null  object\n",
      "dtypes: int64(1), object(2)\n",
      "memory usage: 3.5+ MB\n"
     ]
    }
   ],
   "source": [
    "# Dropping duplicates\n",
    "df.drop_duplicates()\n",
    "df.info()"
   ]
  },
  {
   "cell_type": "code",
   "execution_count": 47,
   "metadata": {},
   "outputs": [
    {
     "data": {
      "text/plain": [
       "clean_text            0\n",
       "category              0\n",
       "category_sentiment    0\n",
       "dtype: int64"
      ]
     },
     "execution_count": 47,
     "metadata": {},
     "output_type": "execute_result"
    }
   ],
   "source": [
    "# Checking null values\n",
    "df.isnull().sum()"
   ]
  },
  {
   "cell_type": "markdown",
   "metadata": {},
   "source": [
    "VISUALIZING DATA"
   ]
  },
  {
   "cell_type": "code",
   "execution_count": 48,
   "metadata": {},
   "outputs": [
    {
     "data": {
      "text/plain": [
       "Text(0.5, 1.0, 'Dataset Labels Distribution')"
      ]
     },
     "execution_count": 48,
     "metadata": {},
     "output_type": "execute_result"
    },
    {
     "data": {
      "image/png": "[encoded data removed]",
      "text/plain": [
       "<Figure size 1600x800 with 1 Axes>"
      ]
     },
     "metadata": {},
     "output_type": "display_data"
    }
   ],
   "source": [
    "category_cnt = Counter(df.category)\n",
    "\n",
    "plt.figure(figsize=(16, 8))\n",
    "plt.bar(category_cnt.keys(), category_cnt.values())\n",
    "plt.title(\"Dataset Labels Distribution\")"
   ]
  },
  {
   "cell_type": "code",
   "execution_count": 49,
   "metadata": {},
   "outputs": [
    {
     "data": {
      "text/plain": [
       " 1    72254\n",
       "-1    43019\n",
       "Name: category, dtype: int64"
      ]
     },
     "execution_count": 49,
     "metadata": {},
     "output_type": "execute_result"
    }
   ],
   "source": [
    "df[\"category\"].value_counts()"
   ]
  },
  {
   "cell_type": "markdown",
   "metadata": {},
   "source": [
    "DATA MANIPULATION"
   ]
  },
  {
   "cell_type": "code",
   "execution_count": 50,
   "metadata": {},
   "outputs": [
    {
     "name": "stderr",
     "output_type": "stream",
     "text": [
      "C:\\Users\\JDEGUZMAN\\AppData\\Local\\Temp\\ipykernel_16096\\3263688739.py:4: SettingWithCopyWarning: \n",
      "A value is trying to be set on a copy of a slice from a DataFrame.\n",
      "Try using .loc[row_indexer,col_indexer] = value instead\n",
      "\n",
      "See the caveats in the documentation: https://pandas.pydata.org/pandas-docs/stable/user_guide/indexing.html#returning-a-view-versus-a-copy\n",
      "  df[field] = df[field].str.replace(r\"@\",\" at \")\n",
      "C:\\Users\\JDEGUZMAN\\AppData\\Local\\Temp\\ipykernel_16096\\3263688739.py:5: FutureWarning: The default value of regex will change from True to False in a future version.\n",
      "  df[field] = df[field].str.replace(\"#[^a-zA-Z0-9_]+\",\" \")\n",
      "C:\\Users\\JDEGUZMAN\\AppData\\Local\\Temp\\ipykernel_16096\\3263688739.py:5: SettingWithCopyWarning: \n",
      "A value is trying to be set on a copy of a slice from a DataFrame.\n",
      "Try using .loc[row_indexer,col_indexer] = value instead\n",
      "\n",
      "See the caveats in the documentation: https://pandas.pydata.org/pandas-docs/stable/user_guide/indexing.html#returning-a-view-versus-a-copy\n",
      "  df[field] = df[field].str.replace(\"#[^a-zA-Z0-9_]+\",\" \")\n",
      "C:\\Users\\JDEGUZMAN\\AppData\\Local\\Temp\\ipykernel_16096\\3263688739.py:6: FutureWarning: The default value of regex will change from True to False in a future version.\n",
      "  df[field] = df[field].str.replace(r\"[^a-zA-Z(),\\\"'\\n_]\",\" \")\n",
      "C:\\Users\\JDEGUZMAN\\AppData\\Local\\Temp\\ipykernel_16096\\3263688739.py:6: SettingWithCopyWarning: \n",
      "A value is trying to be set on a copy of a slice from a DataFrame.\n",
      "Try using .loc[row_indexer,col_indexer] = value instead\n",
      "\n",
      "See the caveats in the documentation: https://pandas.pydata.org/pandas-docs/stable/user_guide/indexing.html#returning-a-view-versus-a-copy\n",
      "  df[field] = df[field].str.replace(r\"[^a-zA-Z(),\\\"'\\n_]\",\" \")\n",
      "C:\\Users\\JDEGUZMAN\\AppData\\Local\\Temp\\ipykernel_16096\\3263688739.py:7: FutureWarning: The default value of regex will change from True to False in a future version.\n",
      "  df[field] = df[field].str.replace(r\"http\\S+\",\"\")\n",
      "C:\\Users\\JDEGUZMAN\\AppData\\Local\\Temp\\ipykernel_16096\\3263688739.py:7: SettingWithCopyWarning: \n",
      "A value is trying to be set on a copy of a slice from a DataFrame.\n",
      "Try using .loc[row_indexer,col_indexer] = value instead\n",
      "\n",
      "See the caveats in the documentation: https://pandas.pydata.org/pandas-docs/stable/user_guide/indexing.html#returning-a-view-versus-a-copy\n",
      "  df[field] = df[field].str.replace(r\"http\\S+\",\"\")\n",
      "C:\\Users\\JDEGUZMAN\\AppData\\Local\\Temp\\ipykernel_16096\\3263688739.py:8: SettingWithCopyWarning: \n",
      "A value is trying to be set on a copy of a slice from a DataFrame.\n",
      "Try using .loc[row_indexer,col_indexer] = value instead\n",
      "\n",
      "See the caveats in the documentation: https://pandas.pydata.org/pandas-docs/stable/user_guide/indexing.html#returning-a-view-versus-a-copy\n",
      "  df[field] = df[field].str.lower()\n"
     ]
    },
    {
     "data": {
      "text/html": [
       "<div>\n",
       "<style scoped>\n",
       "    .dataframe tbody tr th:only-of-type {\n",
       "        vertical-align: middle;\n",
       "    }\n",
       "\n",
       "    .dataframe tbody tr th {\n",
       "        vertical-align: top;\n",
       "    }\n",
       "\n",
       "    .dataframe thead th {\n",
       "        text-align: right;\n",
       "    }\n",
       "</style>\n",
       "<table border=\"1\" class=\"dataframe\">\n",
       "  <thead>\n",
       "    <tr style=\"text-align: right;\">\n",
       "      <th></th>\n",
       "      <th>clean_text</th>\n",
       "      <th>category</th>\n",
       "      <th>category_sentiment</th>\n",
       "    </tr>\n",
       "  </thead>\n",
       "  <tbody>\n",
       "    <tr>\n",
       "      <th>0</th>\n",
       "      <td>when modi promised  minimum government maximum...</td>\n",
       "      <td>-1</td>\n",
       "      <td>negative</td>\n",
       "    </tr>\n",
       "    <tr>\n",
       "      <th>2</th>\n",
       "      <td>what did just say vote for modi  welcome bjp t...</td>\n",
       "      <td>1</td>\n",
       "      <td>positive</td>\n",
       "    </tr>\n",
       "    <tr>\n",
       "      <th>3</th>\n",
       "      <td>asking his supporters prefix chowkidar their n...</td>\n",
       "      <td>1</td>\n",
       "      <td>positive</td>\n",
       "    </tr>\n",
       "    <tr>\n",
       "      <th>4</th>\n",
       "      <td>answer who among these the most powerful world...</td>\n",
       "      <td>1</td>\n",
       "      <td>positive</td>\n",
       "    </tr>\n",
       "    <tr>\n",
       "      <th>8</th>\n",
       "      <td>with upcoming election india saga going import...</td>\n",
       "      <td>1</td>\n",
       "      <td>positive</td>\n",
       "    </tr>\n",
       "    <tr>\n",
       "      <th>...</th>\n",
       "      <td>...</td>\n",
       "      <td>...</td>\n",
       "      <td>...</td>\n",
       "    </tr>\n",
       "    <tr>\n",
       "      <th>177981</th>\n",
       "      <td>'i'm not satisfied with the hills finale   gon...</td>\n",
       "      <td>-1</td>\n",
       "      <td>negative</td>\n",
       "    </tr>\n",
       "    <tr>\n",
       "      <th>177982</th>\n",
       "      <td>this sucks</td>\n",
       "      <td>-1</td>\n",
       "      <td>negative</td>\n",
       "    </tr>\n",
       "    <tr>\n",
       "      <th>177983</th>\n",
       "      <td>this is bad</td>\n",
       "      <td>-1</td>\n",
       "      <td>negative</td>\n",
       "    </tr>\n",
       "    <tr>\n",
       "      <th>177984</th>\n",
       "      <td>i am not okay with this</td>\n",
       "      <td>-1</td>\n",
       "      <td>negative</td>\n",
       "    </tr>\n",
       "    <tr>\n",
       "      <th>177985</th>\n",
       "      <td>this stinks</td>\n",
       "      <td>-1</td>\n",
       "      <td>negative</td>\n",
       "    </tr>\n",
       "  </tbody>\n",
       "</table>\n",
       "<p>115273 rows × 3 columns</p>\n",
       "</div>"
      ],
      "text/plain": [
       "                                               clean_text  category  \\\n",
       "0       when modi promised  minimum government maximum...        -1   \n",
       "2       what did just say vote for modi  welcome bjp t...         1   \n",
       "3       asking his supporters prefix chowkidar their n...         1   \n",
       "4       answer who among these the most powerful world...         1   \n",
       "8       with upcoming election india saga going import...         1   \n",
       "...                                                   ...       ...   \n",
       "177981  'i'm not satisfied with the hills finale   gon...        -1   \n",
       "177982                                         this sucks        -1   \n",
       "177983                                        this is bad        -1   \n",
       "177984                            i am not okay with this        -1   \n",
       "177985                                        this stinks        -1   \n",
       "\n",
       "       category_sentiment  \n",
       "0                negative  \n",
       "2                positive  \n",
       "3                positive  \n",
       "4                positive  \n",
       "8                positive  \n",
       "...                   ...  \n",
       "177981           negative  \n",
       "177982           negative  \n",
       "177983           negative  \n",
       "177984           negative  \n",
       "177985           negative  \n",
       "\n",
       "[115273 rows x 3 columns]"
      ]
     },
     "execution_count": 50,
     "metadata": {},
     "output_type": "execute_result"
    }
   ],
   "source": [
    "# DELETING UNNECESSARY CHARACTERS\n",
    "\n",
    "def clean_text(df, field):\n",
    "    df[field] = df[field].str.replace(r\"@\",\" at \")\n",
    "    df[field] = df[field].str.replace(\"#[^a-zA-Z0-9_]+\",\" \")\n",
    "    df[field] = df[field].str.replace(r\"[^a-zA-Z(),\\\"'\\n_]\",\" \")\n",
    "    df[field] = df[field].str.replace(r\"http\\S+\",\"\")\n",
    "    df[field] = df[field].str.lower()\n",
    "    return df\n",
    "\n",
    "clean_text(df, \"clean_text\")"
   ]
  },
  {
   "cell_type": "code",
   "execution_count": 51,
   "metadata": {},
   "outputs": [
    {
     "name": "stderr",
     "output_type": "stream",
     "text": [
      "C:\\Users\\JDEGUZMAN\\AppData\\Local\\Temp\\ipykernel_16096\\2395634738.py:4: SettingWithCopyWarning: \n",
      "A value is trying to be set on a copy of a slice from a DataFrame.\n",
      "Try using .loc[row_indexer,col_indexer] = value instead\n",
      "\n",
      "See the caveats in the documentation: https://pandas.pydata.org/pandas-docs/stable/user_guide/indexing.html#returning-a-view-versus-a-copy\n",
      "  df[\"clean_text\"] = df[\"clean_text\"].apply(word_tokenize)\n"
     ]
    },
    {
     "data": {
      "text/html": [
       "<div>\n",
       "<style scoped>\n",
       "    .dataframe tbody tr th:only-of-type {\n",
       "        vertical-align: middle;\n",
       "    }\n",
       "\n",
       "    .dataframe tbody tr th {\n",
       "        vertical-align: top;\n",
       "    }\n",
       "\n",
       "    .dataframe thead th {\n",
       "        text-align: right;\n",
       "    }\n",
       "</style>\n",
       "<table border=\"1\" class=\"dataframe\">\n",
       "  <thead>\n",
       "    <tr style=\"text-align: right;\">\n",
       "      <th></th>\n",
       "      <th>clean_text</th>\n",
       "      <th>category</th>\n",
       "      <th>category_sentiment</th>\n",
       "    </tr>\n",
       "  </thead>\n",
       "  <tbody>\n",
       "    <tr>\n",
       "      <th>0</th>\n",
       "      <td>[when, modi, promised, minimum, government, ma...</td>\n",
       "      <td>-1</td>\n",
       "      <td>negative</td>\n",
       "    </tr>\n",
       "    <tr>\n",
       "      <th>2</th>\n",
       "      <td>[what, did, just, say, vote, for, modi, welcom...</td>\n",
       "      <td>1</td>\n",
       "      <td>positive</td>\n",
       "    </tr>\n",
       "    <tr>\n",
       "      <th>3</th>\n",
       "      <td>[asking, his, supporters, prefix, chowkidar, t...</td>\n",
       "      <td>1</td>\n",
       "      <td>positive</td>\n",
       "    </tr>\n",
       "    <tr>\n",
       "      <th>4</th>\n",
       "      <td>[answer, who, among, these, the, most, powerfu...</td>\n",
       "      <td>1</td>\n",
       "      <td>positive</td>\n",
       "    </tr>\n",
       "    <tr>\n",
       "      <th>8</th>\n",
       "      <td>[with, upcoming, election, india, saga, going,...</td>\n",
       "      <td>1</td>\n",
       "      <td>positive</td>\n",
       "    </tr>\n",
       "  </tbody>\n",
       "</table>\n",
       "</div>"
      ],
      "text/plain": [
       "                                          clean_text  category  \\\n",
       "0  [when, modi, promised, minimum, government, ma...        -1   \n",
       "2  [what, did, just, say, vote, for, modi, welcom...         1   \n",
       "3  [asking, his, supporters, prefix, chowkidar, t...         1   \n",
       "4  [answer, who, among, these, the, most, powerfu...         1   \n",
       "8  [with, upcoming, election, india, saga, going,...         1   \n",
       "\n",
       "  category_sentiment  \n",
       "0           negative  \n",
       "2           positive  \n",
       "3           positive  \n",
       "4           positive  \n",
       "8           positive  "
      ]
     },
     "execution_count": 51,
     "metadata": {},
     "output_type": "execute_result"
    }
   ],
   "source": [
    "# Tokenizing tweets\n",
    "# Tokenization is the process of breaking text up into smaller chunks\n",
    "\n",
    "df[\"clean_text\"] = df[\"clean_text\"].apply(word_tokenize)\n",
    "df.head()"
   ]
  },
  {
   "cell_type": "code",
   "execution_count": 52,
   "metadata": {},
   "outputs": [
    {
     "name": "stderr",
     "output_type": "stream",
     "text": [
      "C:\\Users\\JDEGUZMAN\\AppData\\Local\\Temp\\ipykernel_16096\\1989819030.py:3: SettingWithCopyWarning: \n",
      "A value is trying to be set on a copy of a slice from a DataFrame.\n",
      "Try using .loc[row_indexer,col_indexer] = value instead\n",
      "\n",
      "See the caveats in the documentation: https://pandas.pydata.org/pandas-docs/stable/user_guide/indexing.html#returning-a-view-versus-a-copy\n",
      "  df[\"clean_text\"] = df[\"clean_text\"].apply(\n"
     ]
    },
    {
     "data": {
      "text/html": [
       "<div>\n",
       "<style scoped>\n",
       "    .dataframe tbody tr th:only-of-type {\n",
       "        vertical-align: middle;\n",
       "    }\n",
       "\n",
       "    .dataframe tbody tr th {\n",
       "        vertical-align: top;\n",
       "    }\n",
       "\n",
       "    .dataframe thead th {\n",
       "        text-align: right;\n",
       "    }\n",
       "</style>\n",
       "<table border=\"1\" class=\"dataframe\">\n",
       "  <thead>\n",
       "    <tr style=\"text-align: right;\">\n",
       "      <th></th>\n",
       "      <th>clean_text</th>\n",
       "      <th>category</th>\n",
       "      <th>category_sentiment</th>\n",
       "    </tr>\n",
       "  </thead>\n",
       "  <tbody>\n",
       "    <tr>\n",
       "      <th>0</th>\n",
       "      <td>[when, modi, promised, minimum, government, ma...</td>\n",
       "      <td>-1</td>\n",
       "      <td>negative</td>\n",
       "    </tr>\n",
       "    <tr>\n",
       "      <th>2</th>\n",
       "      <td>[what, did, just, say, vote, for, modi, welcom...</td>\n",
       "      <td>1</td>\n",
       "      <td>positive</td>\n",
       "    </tr>\n",
       "    <tr>\n",
       "      <th>3</th>\n",
       "      <td>[asking, his, supporters, prefix, chowkidar, t...</td>\n",
       "      <td>1</td>\n",
       "      <td>positive</td>\n",
       "    </tr>\n",
       "    <tr>\n",
       "      <th>4</th>\n",
       "      <td>[answer, who, among, these, the, most, powerfu...</td>\n",
       "      <td>1</td>\n",
       "      <td>positive</td>\n",
       "    </tr>\n",
       "    <tr>\n",
       "      <th>8</th>\n",
       "      <td>[with, upcoming, election, india, saga, going,...</td>\n",
       "      <td>1</td>\n",
       "      <td>positive</td>\n",
       "    </tr>\n",
       "  </tbody>\n",
       "</table>\n",
       "</div>"
      ],
      "text/plain": [
       "                                          clean_text  category  \\\n",
       "0  [when, modi, promised, minimum, government, ma...        -1   \n",
       "2  [what, did, just, say, vote, for, modi, welcom...         1   \n",
       "3  [asking, his, supporters, prefix, chowkidar, t...         1   \n",
       "4  [answer, who, among, these, the, most, powerfu...         1   \n",
       "8  [with, upcoming, election, india, saga, going,...         1   \n",
       "\n",
       "  category_sentiment  \n",
       "0           negative  \n",
       "2           positive  \n",
       "3           positive  \n",
       "4           positive  \n",
       "8           positive  "
      ]
     },
     "execution_count": 52,
     "metadata": {},
     "output_type": "execute_result"
    }
   ],
   "source": [
    "# Lower casing clean text.\n",
    "\n",
    "df[\"clean_text\"] = df[\"clean_text\"].apply(\n",
    "    lambda x: [word.lower() for word in x])\n",
    "\n",
    "df.head()"
   ]
  },
  {
   "cell_type": "code",
   "execution_count": 53,
   "metadata": {},
   "outputs": [
    {
     "name": "stderr",
     "output_type": "stream",
     "text": [
      "C:\\Users\\JDEGUZMAN\\AppData\\Local\\Temp\\ipykernel_16096\\1897636534.py:9: SettingWithCopyWarning: \n",
      "A value is trying to be set on a copy of a slice from a DataFrame.\n",
      "Try using .loc[row_indexer,col_indexer] = value instead\n",
      "\n",
      "See the caveats in the documentation: https://pandas.pydata.org/pandas-docs/stable/user_guide/indexing.html#returning-a-view-versus-a-copy\n",
      "  df[\"clean_text\"] = df[\"clean_text\"].apply(\n"
     ]
    },
    {
     "data": {
      "text/html": [
       "<div>\n",
       "<style scoped>\n",
       "    .dataframe tbody tr th:only-of-type {\n",
       "        vertical-align: middle;\n",
       "    }\n",
       "\n",
       "    .dataframe tbody tr th {\n",
       "        vertical-align: top;\n",
       "    }\n",
       "\n",
       "    .dataframe thead th {\n",
       "        text-align: right;\n",
       "    }\n",
       "</style>\n",
       "<table border=\"1\" class=\"dataframe\">\n",
       "  <thead>\n",
       "    <tr style=\"text-align: right;\">\n",
       "      <th></th>\n",
       "      <th>clean_text</th>\n",
       "      <th>category</th>\n",
       "      <th>category_sentiment</th>\n",
       "    </tr>\n",
       "  </thead>\n",
       "  <tbody>\n",
       "    <tr>\n",
       "      <th>0</th>\n",
       "      <td>[modi, promised, minimum, government, maximum,...</td>\n",
       "      <td>-1</td>\n",
       "      <td>negative</td>\n",
       "    </tr>\n",
       "    <tr>\n",
       "      <th>2</th>\n",
       "      <td>[say, vote, modi, welcome, bjp, told, rahul, m...</td>\n",
       "      <td>1</td>\n",
       "      <td>positive</td>\n",
       "    </tr>\n",
       "    <tr>\n",
       "      <th>3</th>\n",
       "      <td>[asking, supporters, prefix, chowkidar, names,...</td>\n",
       "      <td>1</td>\n",
       "      <td>positive</td>\n",
       "    </tr>\n",
       "    <tr>\n",
       "      <th>4</th>\n",
       "      <td>[answer, among, powerful, world, leader, today...</td>\n",
       "      <td>1</td>\n",
       "      <td>positive</td>\n",
       "    </tr>\n",
       "    <tr>\n",
       "      <th>8</th>\n",
       "      <td>[upcoming, election, india, saga, going, impor...</td>\n",
       "      <td>1</td>\n",
       "      <td>positive</td>\n",
       "    </tr>\n",
       "  </tbody>\n",
       "</table>\n",
       "</div>"
      ],
      "text/plain": [
       "                                          clean_text  category  \\\n",
       "0  [modi, promised, minimum, government, maximum,...        -1   \n",
       "2  [say, vote, modi, welcome, bjp, told, rahul, m...         1   \n",
       "3  [asking, supporters, prefix, chowkidar, names,...         1   \n",
       "4  [answer, among, powerful, world, leader, today...         1   \n",
       "8  [upcoming, election, india, saga, going, impor...         1   \n",
       "\n",
       "  category_sentiment  \n",
       "0           negative  \n",
       "2           positive  \n",
       "3           positive  \n",
       "4           positive  \n",
       "8           positive  "
      ]
     },
     "execution_count": 53,
     "metadata": {},
     "output_type": "execute_result"
    }
   ],
   "source": [
    "# Removing stopwords\n",
    "# Stop words are words which occur frequently in a corpus. e.g a, an, the, in. \n",
    "# Frequently occurring words are removed from the corpus for the sake of text-normalization.\n",
    "stop_words = set(stopwords.words(\"english\"))\n",
    "\n",
    "# Removing \"not\" in stopwords\n",
    "stop_words.remove(\"not\")\n",
    "\n",
    "df[\"clean_text\"] = df[\"clean_text\"].apply(\n",
    "    lambda x: [word for word in x if word not in stop_words])\n",
    "\n",
    "df.head()"
   ]
  },
  {
   "cell_type": "code",
   "execution_count": 54,
   "metadata": {},
   "outputs": [
    {
     "name": "stderr",
     "output_type": "stream",
     "text": [
      "C:\\Users\\JDEGUZMAN\\AppData\\Local\\Temp\\ipykernel_16096\\2077730116.py:6: SettingWithCopyWarning: \n",
      "A value is trying to be set on a copy of a slice from a DataFrame.\n",
      "Try using .loc[row_indexer,col_indexer] = value instead\n",
      "\n",
      "See the caveats in the documentation: https://pandas.pydata.org/pandas-docs/stable/user_guide/indexing.html#returning-a-view-versus-a-copy\n",
      "  df[\"clean_text\"] = df[\"clean_text\"].apply(nltk.tag.pos_tag)\n"
     ]
    },
    {
     "data": {
      "text/html": [
       "<div>\n",
       "<style scoped>\n",
       "    .dataframe tbody tr th:only-of-type {\n",
       "        vertical-align: middle;\n",
       "    }\n",
       "\n",
       "    .dataframe tbody tr th {\n",
       "        vertical-align: top;\n",
       "    }\n",
       "\n",
       "    .dataframe thead th {\n",
       "        text-align: right;\n",
       "    }\n",
       "</style>\n",
       "<table border=\"1\" class=\"dataframe\">\n",
       "  <thead>\n",
       "    <tr style=\"text-align: right;\">\n",
       "      <th></th>\n",
       "      <th>clean_text</th>\n",
       "      <th>category</th>\n",
       "      <th>category_sentiment</th>\n",
       "    </tr>\n",
       "  </thead>\n",
       "  <tbody>\n",
       "    <tr>\n",
       "      <th>0</th>\n",
       "      <td>[(modi, NNS), (promised, VBD), (minimum, JJ), ...</td>\n",
       "      <td>-1</td>\n",
       "      <td>negative</td>\n",
       "    </tr>\n",
       "    <tr>\n",
       "      <th>2</th>\n",
       "      <td>[(say, VB), (vote, NN), (modi, FW), (welcome, ...</td>\n",
       "      <td>1</td>\n",
       "      <td>positive</td>\n",
       "    </tr>\n",
       "    <tr>\n",
       "      <th>3</th>\n",
       "      <td>[(asking, VBG), (supporters, NNS), (prefix, VB...</td>\n",
       "      <td>1</td>\n",
       "      <td>positive</td>\n",
       "    </tr>\n",
       "    <tr>\n",
       "      <th>4</th>\n",
       "      <td>[(answer, NN), (among, IN), (powerful, JJ), (w...</td>\n",
       "      <td>1</td>\n",
       "      <td>positive</td>\n",
       "    </tr>\n",
       "    <tr>\n",
       "      <th>8</th>\n",
       "      <td>[(upcoming, JJ), (election, NN), (india, NN), ...</td>\n",
       "      <td>1</td>\n",
       "      <td>positive</td>\n",
       "    </tr>\n",
       "  </tbody>\n",
       "</table>\n",
       "</div>"
      ],
      "text/plain": [
       "                                          clean_text  category  \\\n",
       "0  [(modi, NNS), (promised, VBD), (minimum, JJ), ...        -1   \n",
       "2  [(say, VB), (vote, NN), (modi, FW), (welcome, ...         1   \n",
       "3  [(asking, VBG), (supporters, NNS), (prefix, VB...         1   \n",
       "4  [(answer, NN), (among, IN), (powerful, JJ), (w...         1   \n",
       "8  [(upcoming, JJ), (election, NN), (india, NN), ...         1   \n",
       "\n",
       "  category_sentiment  \n",
       "0           negative  \n",
       "2           positive  \n",
       "3           positive  \n",
       "4           positive  \n",
       "8           positive  "
      ]
     },
     "execution_count": 54,
     "metadata": {},
     "output_type": "execute_result"
    }
   ],
   "source": [
    "# POS tagging is the process of identifying parts of speech of a sentence. It is able to identify nouns, pronouns, \n",
    "# adjectives etc. in a sentence and assigns a POS token to each word.\n",
    "# POS tagging of raw text is a fundamental building block of many NLP pipelines such as word-sense disambiguation, question answering and sentiment analysis.\n",
    "\n",
    "# part of speech tagging \n",
    "df[\"clean_text\"] = df[\"clean_text\"].apply(nltk.tag.pos_tag)\n",
    "\n",
    "df.head()"
   ]
  },
  {
   "cell_type": "code",
   "execution_count": 55,
   "metadata": {},
   "outputs": [
    {
     "name": "stderr",
     "output_type": "stream",
     "text": [
      "C:\\Users\\JDEGUZMAN\\AppData\\Local\\Temp\\ipykernel_16096\\2679872921.py:14: SettingWithCopyWarning: \n",
      "A value is trying to be set on a copy of a slice from a DataFrame.\n",
      "Try using .loc[row_indexer,col_indexer] = value instead\n",
      "\n",
      "See the caveats in the documentation: https://pandas.pydata.org/pandas-docs/stable/user_guide/indexing.html#returning-a-view-versus-a-copy\n",
      "  df[\"clean_text\"] = df[\"clean_text\"].apply(\n"
     ]
    },
    {
     "data": {
      "text/html": [
       "<div>\n",
       "<style scoped>\n",
       "    .dataframe tbody tr th:only-of-type {\n",
       "        vertical-align: middle;\n",
       "    }\n",
       "\n",
       "    .dataframe tbody tr th {\n",
       "        vertical-align: top;\n",
       "    }\n",
       "\n",
       "    .dataframe thead th {\n",
       "        text-align: right;\n",
       "    }\n",
       "</style>\n",
       "<table border=\"1\" class=\"dataframe\">\n",
       "  <thead>\n",
       "    <tr style=\"text-align: right;\">\n",
       "      <th></th>\n",
       "      <th>clean_text</th>\n",
       "      <th>category</th>\n",
       "      <th>category_sentiment</th>\n",
       "    </tr>\n",
       "  </thead>\n",
       "  <tbody>\n",
       "    <tr>\n",
       "      <th>0</th>\n",
       "      <td>[(modi, n), (promised, v), (minimum, a), (gove...</td>\n",
       "      <td>-1</td>\n",
       "      <td>negative</td>\n",
       "    </tr>\n",
       "    <tr>\n",
       "      <th>2</th>\n",
       "      <td>[(say, v), (vote, n), (modi, n), (welcome, a),...</td>\n",
       "      <td>1</td>\n",
       "      <td>positive</td>\n",
       "    </tr>\n",
       "    <tr>\n",
       "      <th>3</th>\n",
       "      <td>[(asking, v), (supporters, n), (prefix, v), (c...</td>\n",
       "      <td>1</td>\n",
       "      <td>positive</td>\n",
       "    </tr>\n",
       "    <tr>\n",
       "      <th>4</th>\n",
       "      <td>[(answer, n), (among, n), (powerful, a), (worl...</td>\n",
       "      <td>1</td>\n",
       "      <td>positive</td>\n",
       "    </tr>\n",
       "    <tr>\n",
       "      <th>8</th>\n",
       "      <td>[(upcoming, a), (election, n), (india, n), (sa...</td>\n",
       "      <td>1</td>\n",
       "      <td>positive</td>\n",
       "    </tr>\n",
       "  </tbody>\n",
       "</table>\n",
       "</div>"
      ],
      "text/plain": [
       "                                          clean_text  category  \\\n",
       "0  [(modi, n), (promised, v), (minimum, a), (gove...        -1   \n",
       "2  [(say, v), (vote, n), (modi, n), (welcome, a),...         1   \n",
       "3  [(asking, v), (supporters, n), (prefix, v), (c...         1   \n",
       "4  [(answer, n), (among, n), (powerful, a), (worl...         1   \n",
       "8  [(upcoming, a), (election, n), (india, n), (sa...         1   \n",
       "\n",
       "  category_sentiment  \n",
       "0           negative  \n",
       "2           positive  \n",
       "3           positive  \n",
       "4           positive  \n",
       "8           positive  "
      ]
     },
     "execution_count": 55,
     "metadata": {},
     "output_type": "execute_result"
    }
   ],
   "source": [
    "def get_wordnet_pos(tag):\n",
    "    if tag.startswith(\"J\"):\n",
    "        return wordnet.ADJ\n",
    "    elif tag.startswith(\"V\"):\n",
    "        return wordnet.VERB\n",
    "    elif tag.startswith(\"N\"):\n",
    "        return wordnet.NOUN\n",
    "    elif tag.startswith(\"R\"):\n",
    "        return wordnet.ADV\n",
    "    else:\n",
    "        return wordnet.NOUN\n",
    "\n",
    "\n",
    "df[\"clean_text\"] = df[\"clean_text\"].apply(\n",
    "    lambda x: [(word, get_wordnet_pos(pos_tag)) for (word, pos_tag) in x])\n",
    "\n",
    "df.head()"
   ]
  },
  {
   "cell_type": "code",
   "execution_count": 56,
   "metadata": {},
   "outputs": [
    {
     "name": "stderr",
     "output_type": "stream",
     "text": [
      "C:\\Users\\JDEGUZMAN\\AppData\\Local\\Temp\\ipykernel_16096\\3552637186.py:6: SettingWithCopyWarning: \n",
      "A value is trying to be set on a copy of a slice from a DataFrame.\n",
      "Try using .loc[row_indexer,col_indexer] = value instead\n",
      "\n",
      "See the caveats in the documentation: https://pandas.pydata.org/pandas-docs/stable/user_guide/indexing.html#returning-a-view-versus-a-copy\n",
      "  df[\"clean_text\"] = df[\"clean_text\"].apply(\n",
      "C:\\Users\\JDEGUZMAN\\AppData\\Local\\Temp\\ipykernel_16096\\3552637186.py:9: SettingWithCopyWarning: \n",
      "A value is trying to be set on a copy of a slice from a DataFrame.\n",
      "Try using .loc[row_indexer,col_indexer] = value instead\n",
      "\n",
      "See the caveats in the documentation: https://pandas.pydata.org/pandas-docs/stable/user_guide/indexing.html#returning-a-view-versus-a-copy\n",
      "  df[\"clean_text\"] = df[\"clean_text\"].apply(\n",
      "C:\\Users\\JDEGUZMAN\\AppData\\Local\\Temp\\ipykernel_16096\\3552637186.py:13: SettingWithCopyWarning: \n",
      "A value is trying to be set on a copy of a slice from a DataFrame.\n",
      "Try using .loc[row_indexer,col_indexer] = value instead\n",
      "\n",
      "See the caveats in the documentation: https://pandas.pydata.org/pandas-docs/stable/user_guide/indexing.html#returning-a-view-versus-a-copy\n",
      "  df[\"clean_text\"] = [\" \".join(map(str, l)) for l in df[\"clean_text\"]]\n"
     ]
    },
    {
     "data": {
      "text/html": [
       "<div>\n",
       "<style scoped>\n",
       "    .dataframe tbody tr th:only-of-type {\n",
       "        vertical-align: middle;\n",
       "    }\n",
       "\n",
       "    .dataframe tbody tr th {\n",
       "        vertical-align: top;\n",
       "    }\n",
       "\n",
       "    .dataframe thead th {\n",
       "        text-align: right;\n",
       "    }\n",
       "</style>\n",
       "<table border=\"1\" class=\"dataframe\">\n",
       "  <thead>\n",
       "    <tr style=\"text-align: right;\">\n",
       "      <th></th>\n",
       "      <th>clean_text</th>\n",
       "      <th>category</th>\n",
       "      <th>category_sentiment</th>\n",
       "    </tr>\n",
       "  </thead>\n",
       "  <tbody>\n",
       "    <tr>\n",
       "      <th>0</th>\n",
       "      <td>modi promise minimum government maximum govern...</td>\n",
       "      <td>-1</td>\n",
       "      <td>negative</td>\n",
       "    </tr>\n",
       "    <tr>\n",
       "      <th>2</th>\n",
       "      <td>say vote modi welcome bjp tell rahul main camp...</td>\n",
       "      <td>1</td>\n",
       "      <td>positive</td>\n",
       "    </tr>\n",
       "    <tr>\n",
       "      <th>3</th>\n",
       "      <td>ask supporter prefix chowkidar name modi great...</td>\n",
       "      <td>1</td>\n",
       "      <td>positive</td>\n",
       "    </tr>\n",
       "    <tr>\n",
       "      <th>4</th>\n",
       "      <td>answer among powerful world leader today trump...</td>\n",
       "      <td>1</td>\n",
       "      <td>positive</td>\n",
       "    </tr>\n",
       "    <tr>\n",
       "      <th>8</th>\n",
       "      <td>upcoming election india saga go important pair...</td>\n",
       "      <td>1</td>\n",
       "      <td>positive</td>\n",
       "    </tr>\n",
       "  </tbody>\n",
       "</table>\n",
       "</div>"
      ],
      "text/plain": [
       "                                          clean_text  category  \\\n",
       "0  modi promise minimum government maximum govern...        -1   \n",
       "2  say vote modi welcome bjp tell rahul main camp...         1   \n",
       "3  ask supporter prefix chowkidar name modi great...         1   \n",
       "4  answer among powerful world leader today trump...         1   \n",
       "8  upcoming election india saga go important pair...         1   \n",
       "\n",
       "  category_sentiment  \n",
       "0           negative  \n",
       "2           positive  \n",
       "3           positive  \n",
       "4           positive  \n",
       "8           positive  "
      ]
     },
     "execution_count": 56,
     "metadata": {},
     "output_type": "execute_result"
    }
   ],
   "source": [
    "# Applying word lemmatizer.\n",
    "# It is another process of reducing inflection from words. The way its different from stemming is that it reduces words to their origins which have actual meaning.\n",
    "\n",
    "wnl = WordNetLemmatizer()\n",
    "\n",
    "df[\"clean_text\"] = df[\"clean_text\"].apply(\n",
    "    lambda x: [wnl.lemmatize(word, tag) for word, tag in x])\n",
    "\n",
    "df[\"clean_text\"] = df[\"clean_text\"].apply(\n",
    "    lambda x: [word for word in x if word not in stop_words])\n",
    "\n",
    "# Changing to str\n",
    "df[\"clean_text\"] = [\" \".join(map(str, l)) for l in df[\"clean_text\"]]\n",
    "\n",
    "df.head()"
   ]
  },
  {
   "cell_type": "code",
   "execution_count": 57,
   "metadata": {},
   "outputs": [
    {
     "name": "stdout",
     "output_type": "stream",
     "text": [
      "TRAIN size: 92218\n",
      "TEST size: 23055\n"
     ]
    }
   ],
   "source": [
    "# Scikit-learn\n",
    "from sklearn.model_selection import train_test_split\n",
    "from sklearn.preprocessing import LabelEncoder\n",
    "from sklearn.metrics import confusion_matrix, classification_report, accuracy_score\n",
    "from sklearn.manifold import TSNE\n",
    "from sklearn.feature_extraction.text import CountVectorizer, TfidfVectorizer\n",
    "from sklearn.decomposition import LatentDirichletAllocation, NMF\n",
    "from sklearn.metrics import f1_score, accuracy_score\n",
    "\n",
    "# Varaibles related to dataset\n",
    "DATASET_COLUMNS = [\"clean_text\", \"category_sentiment\"]\n",
    "DATASET_ENCODING = \"ISO-8859-1\"\n",
    "TRAIN_SIZE = 0.8\n",
    "\n",
    "df_train, df_test = train_test_split(df, test_size=1-TRAIN_SIZE, random_state=42)\n",
    "print(\"TRAIN size:\", len(df_train))\n",
    "print(\"TEST size:\", len(df_test))"
   ]
  },
  {
   "cell_type": "code",
   "execution_count": 58,
   "metadata": {},
   "outputs": [],
   "source": [
    "# Word2Vec Model\n",
    "\n",
    "vector_size = 300\n",
    "window = 7\n",
    "epochs = 32\n",
    "min_count = 10\n",
    "\n",
    "w2v_model = gensim.models.word2vec.Word2Vec(vector_size=vector_size, \n",
    "                                            window=window, \n",
    "                                            min_count=min_count, \n",
    "                                            workers=8)"
   ]
  },
  {
   "cell_type": "code",
   "execution_count": 59,
   "metadata": {},
   "outputs": [],
   "source": [
    "# vocab creation\n",
    "\n",
    "documents = [text.split() for text in df_train.clean_text] \n",
    "w2v_model.build_vocab(documents)"
   ]
  },
  {
   "cell_type": "code",
   "execution_count": 60,
   "metadata": {},
   "outputs": [
    {
     "name": "stdout",
     "output_type": "stream",
     "text": [
      "Vocab Size: 8500\n"
     ]
    }
   ],
   "source": [
    "words = w2v_model.wv.key_to_index.keys()\n",
    "vocab_size = len(words)\n",
    "print(\"Vocab Size:\", vocab_size)"
   ]
  },
  {
   "cell_type": "code",
   "execution_count": 61,
   "metadata": {},
   "outputs": [
    {
     "data": {
      "text/plain": [
       "(38460980, 47033536)"
      ]
     },
     "execution_count": 61,
     "metadata": {},
     "output_type": "execute_result"
    }
   ],
   "source": [
    "# training the model \n",
    "\n",
    "w2v_model.train(documents, total_examples=len(documents), epochs=epochs)"
   ]
  },
  {
   "cell_type": "code",
   "execution_count": 62,
   "metadata": {},
   "outputs": [
    {
     "data": {
      "text/plain": [
       "[('party', 0.4729442000389099),\n",
       " ('trs', 0.4401875436306),\n",
       " ('cadre', 0.4267219007015228),\n",
       " ('dmk', 0.4217594861984253),\n",
       " ('jds', 0.4123353064060211),\n",
       " ('bjd', 0.405007928609848),\n",
       " ('congress', 0.39978253841400146),\n",
       " ('ncp', 0.39896807074546814),\n",
       " ('candidate', 0.386739581823349),\n",
       " ('admk', 0.366615355014801)]"
      ]
     },
     "execution_count": 62,
     "metadata": {},
     "output_type": "execute_result"
    }
   ],
   "source": [
    "w2v_model.wv.most_similar(\"bjp\")"
   ]
  },
  {
   "cell_type": "code",
   "execution_count": 63,
   "metadata": {},
   "outputs": [
    {
     "name": "stdout",
     "output_type": "stream",
     "text": [
      "Total Words: 72778\n"
     ]
    }
   ],
   "source": [
    "tokenizer = Tokenizer()\n",
    "tokenizer.fit_on_texts(df_train.clean_text)\n",
    "\n",
    "vocab_size = len(tokenizer.word_index) + 1\n",
    "print(\"Total Words:\", vocab_size)"
   ]
  },
  {
   "cell_type": "code",
   "execution_count": 64,
   "metadata": {},
   "outputs": [
    {
     "data": {
      "text/plain": [
       "array([[    0,     0,     0, ...,  3007,   106,  1115],\n",
       "       [    0,     0,     0, ...,     5,   784,   474],\n",
       "       [    0,     0,     0, ...,     1,   395,   126],\n",
       "       ...,\n",
       "       [    0,     0,     0, ...,   372,  2753,    38],\n",
       "       [    0,     0,     0, ...,    75, 11707,   120],\n",
       "       [    0,     0,     0, ...,   815, 14356,    28]])"
      ]
     },
     "execution_count": 64,
     "metadata": {},
     "output_type": "execute_result"
    }
   ],
   "source": [
    "# Parameters related to KERAS\n",
    "\n",
    "SEQUENCE_LENGTH = 300\n",
    "EPOCHS = 20\n",
    "BATCH_SIZE = 1024\n",
    "\n",
    "x_train = pad_sequences(tokenizer.texts_to_sequences(df_train.clean_text), maxlen=SEQUENCE_LENGTH)\n",
    "x_test = pad_sequences(tokenizer.texts_to_sequences(df_test.clean_text), maxlen=SEQUENCE_LENGTH)\n",
    "\n",
    "x_train"
   ]
  },
  {
   "cell_type": "code",
   "execution_count": 65,
   "metadata": {},
   "outputs": [
    {
     "data": {
      "text/plain": [
       "['positive', 'negative']"
      ]
     },
     "execution_count": 65,
     "metadata": {},
     "output_type": "execute_result"
    }
   ],
   "source": [
    "labels = df_train.category_sentiment.unique().tolist()\n",
    "labels"
   ]
  },
  {
   "cell_type": "code",
   "execution_count": 66,
   "metadata": {},
   "outputs": [
    {
     "name": "stdout",
     "output_type": "stream",
     "text": [
      "y_train (92218, 1)\n",
      "y_test (23055, 1)\n"
     ]
    }
   ],
   "source": [
    "encoder = LabelEncoder()\n",
    "encoder.fit(df_train.category_sentiment.tolist())\n",
    "\n",
    "y_train = encoder.transform(df_train.category_sentiment.tolist())\n",
    "y_test = encoder.transform(df_test.category_sentiment.tolist())\n",
    "\n",
    "y_train = y_train.reshape(-1,1)\n",
    "y_test = y_test.reshape(-1,1)\n",
    "\n",
    "print(\"y_train\",y_train.shape)\n",
    "print(\"y_test\",y_test.shape)"
   ]
  },
  {
   "cell_type": "code",
   "execution_count": 67,
   "metadata": {},
   "outputs": [
    {
     "name": "stdout",
     "output_type": "stream",
     "text": [
      "(72778, 300)\n"
     ]
    }
   ],
   "source": [
    "embedding_matrix = np.zeros((vocab_size, vector_size))\n",
    "for word, i in tokenizer.word_index.items():\n",
    "  if word in w2v_model.wv:\n",
    "    embedding_matrix[i] = w2v_model.wv[word]\n",
    "print(embedding_matrix.shape)"
   ]
  },
  {
   "cell_type": "code",
   "execution_count": 68,
   "metadata": {},
   "outputs": [],
   "source": [
    "embedding_layer = Embedding(vocab_size, 50)"
   ]
  },
  {
   "cell_type": "code",
   "execution_count": 69,
   "metadata": {},
   "outputs": [
    {
     "name": "stdout",
     "output_type": "stream",
     "text": [
      "Model: \"sequential_1\"\n",
      "_________________________________________________________________\n",
      " Layer (type)                Output Shape              Param #   \n",
      "=================================================================\n",
      " embedding_1 (Embedding)     (None, None, 50)          3638900   \n",
      "                                                                 \n",
      " simple_rnn_2 (SimpleRNN)    (None, None, 50)          5050      \n",
      "                                                                 \n",
      " simple_rnn_3 (SimpleRNN)    (None, 50)                5050      \n",
      "                                                                 \n",
      " dense_1 (Dense)             (None, 1)                 51        \n",
      "                                                                 \n",
      "=================================================================\n",
      "Total params: 3,649,051\n",
      "Trainable params: 3,649,051\n",
      "Non-trainable params: 0\n",
      "_________________________________________________________________\n"
     ]
    }
   ],
   "source": [
    "model = Sequential()\n",
    "model.add(embedding_layer)\n",
    "model.add(layers.SimpleRNN(50,return_sequences=True))\n",
    "model.add(layers.SimpleRNN(50))\n",
    "model.add(layers.Dense(1, activation='sigmoid'))\n",
    "\n",
    "model.summary()"
   ]
  },
  {
   "cell_type": "code",
   "execution_count": 70,
   "metadata": {},
   "outputs": [],
   "source": [
    "model.compile(loss='binary_crossentropy',\n",
    "              optimizer=\"rmsprop\",\n",
    "              metrics=['accuracy'])"
   ]
  },
  {
   "cell_type": "code",
   "execution_count": 71,
   "metadata": {},
   "outputs": [],
   "source": [
    "callbacks = [ ReduceLROnPlateau(monitor='val_loss', patience=5, cooldown=0),\n",
    "              EarlyStopping(monitor='val_acc', min_delta=1e-4, patience=5)]"
   ]
  },
  {
   "cell_type": "code",
   "execution_count": 72,
   "metadata": {},
   "outputs": [
    {
     "name": "stdout",
     "output_type": "stream",
     "text": [
      "Epoch 1/20\n",
      "82/82 [==============================] - ETA: 0s - loss: 0.6157 - accuracy: 0.6716WARNING:tensorflow:Early stopping conditioned on metric `val_acc` which is not available. Available metrics are: loss,accuracy,val_loss,val_accuracy,lr\n",
      "82/82 [==============================] - 160s 2s/step - loss: 0.6157 - accuracy: 0.6716 - val_loss: 0.5164 - val_accuracy: 0.7599 - lr: 0.0010\n",
      "Epoch 2/20\n",
      "82/82 [==============================] - ETA: 0s - loss: 0.4289 - accuracy: 0.8012WARNING:tensorflow:Early stopping conditioned on metric `val_acc` which is not available. Available metrics are: loss,accuracy,val_loss,val_accuracy,lr\n",
      "82/82 [==============================] - 256s 3s/step - loss: 0.4289 - accuracy: 0.8012 - val_loss: 0.4463 - val_accuracy: 0.7835 - lr: 0.0010\n",
      "Epoch 3/20\n",
      "82/82 [==============================] - ETA: 0s - loss: 0.2908 - accuracy: 0.8788WARNING:tensorflow:Early stopping conditioned on metric `val_acc` which is not available. Available metrics are: loss,accuracy,val_loss,val_accuracy,lr\n",
      "82/82 [==============================] - 272s 3s/step - loss: 0.2908 - accuracy: 0.8788 - val_loss: 0.3741 - val_accuracy: 0.8399 - lr: 0.0010\n",
      "Epoch 4/20\n",
      "82/82 [==============================] - ETA: 0s - loss: 0.2634 - accuracy: 0.8996WARNING:tensorflow:Early stopping conditioned on metric `val_acc` which is not available. Available metrics are: loss,accuracy,val_loss,val_accuracy,lr\n",
      "82/82 [==============================] - 279s 3s/step - loss: 0.2634 - accuracy: 0.8996 - val_loss: 0.3056 - val_accuracy: 0.8710 - lr: 0.0010\n",
      "Epoch 5/20\n",
      "82/82 [==============================] - ETA: 0s - loss: 0.1821 - accuracy: 0.9321WARNING:tensorflow:Early stopping conditioned on metric `val_acc` which is not available. Available metrics are: loss,accuracy,val_loss,val_accuracy,lr\n",
      "82/82 [==============================] - 275s 3s/step - loss: 0.1821 - accuracy: 0.9321 - val_loss: 0.3888 - val_accuracy: 0.8364 - lr: 0.0010\n",
      "Epoch 6/20\n",
      "82/82 [==============================] - ETA: 0s - loss: 0.1500 - accuracy: 0.9449WARNING:tensorflow:Early stopping conditioned on metric `val_acc` which is not available. Available metrics are: loss,accuracy,val_loss,val_accuracy,lr\n",
      "82/82 [==============================] - 328s 4s/step - loss: 0.1500 - accuracy: 0.9449 - val_loss: 0.4376 - val_accuracy: 0.8302 - lr: 0.0010\n",
      "Epoch 7/20\n",
      "82/82 [==============================] - ETA: 0s - loss: 0.0959 - accuracy: 0.9687WARNING:tensorflow:Early stopping conditioned on metric `val_acc` which is not available. Available metrics are: loss,accuracy,val_loss,val_accuracy,lr\n",
      "82/82 [==============================] - 285s 3s/step - loss: 0.0959 - accuracy: 0.9687 - val_loss: 0.4650 - val_accuracy: 0.8699 - lr: 0.0010\n",
      "Epoch 8/20\n",
      "82/82 [==============================] - ETA: 0s - loss: 0.0802 - accuracy: 0.9730WARNING:tensorflow:Early stopping conditioned on metric `val_acc` which is not available. Available metrics are: loss,accuracy,val_loss,val_accuracy,lr\n",
      "82/82 [==============================] - 285s 3s/step - loss: 0.0802 - accuracy: 0.9730 - val_loss: 0.4574 - val_accuracy: 0.8648 - lr: 0.0010\n",
      "Epoch 9/20\n",
      "82/82 [==============================] - ETA: 0s - loss: 0.0909 - accuracy: 0.9713WARNING:tensorflow:Early stopping conditioned on metric `val_acc` which is not available. Available metrics are: loss,accuracy,val_loss,val_accuracy,lr\n",
      "82/82 [==============================] - 300s 4s/step - loss: 0.0909 - accuracy: 0.9713 - val_loss: 0.5242 - val_accuracy: 0.8450 - lr: 0.0010\n",
      "Epoch 10/20\n",
      "82/82 [==============================] - ETA: 0s - loss: 0.0321 - accuracy: 0.9920WARNING:tensorflow:Early stopping conditioned on metric `val_acc` which is not available. Available metrics are: loss,accuracy,val_loss,val_accuracy,lr\n",
      "82/82 [==============================] - 287s 4s/step - loss: 0.0321 - accuracy: 0.9920 - val_loss: 0.5606 - val_accuracy: 0.8522 - lr: 1.0000e-04\n",
      "Epoch 11/20\n",
      "82/82 [==============================] - ETA: 0s - loss: 0.0248 - accuracy: 0.9941WARNING:tensorflow:Early stopping conditioned on metric `val_acc` which is not available. Available metrics are: loss,accuracy,val_loss,val_accuracy,lr\n",
      "82/82 [==============================] - 280s 3s/step - loss: 0.0248 - accuracy: 0.9941 - val_loss: 0.5347 - val_accuracy: 0.8539 - lr: 1.0000e-04\n",
      "Epoch 12/20\n",
      "82/82 [==============================] - ETA: 0s - loss: 0.0206 - accuracy: 0.9954WARNING:tensorflow:Early stopping conditioned on metric `val_acc` which is not available. Available metrics are: loss,accuracy,val_loss,val_accuracy,lr\n",
      "82/82 [==============================] - 289s 4s/step - loss: 0.0206 - accuracy: 0.9954 - val_loss: 0.5563 - val_accuracy: 0.8533 - lr: 1.0000e-04\n",
      "Epoch 13/20\n",
      "82/82 [==============================] - ETA: 0s - loss: 0.0183 - accuracy: 0.9958WARNING:tensorflow:Early stopping conditioned on metric `val_acc` which is not available. Available metrics are: loss,accuracy,val_loss,val_accuracy,lr\n",
      "82/82 [==============================] - 241s 3s/step - loss: 0.0183 - accuracy: 0.9958 - val_loss: 0.5876 - val_accuracy: 0.8445 - lr: 1.0000e-04\n",
      "Epoch 14/20\n",
      "82/82 [==============================] - ETA: 0s - loss: 0.0165 - accuracy: 0.9963WARNING:tensorflow:Early stopping conditioned on metric `val_acc` which is not available. Available metrics are: loss,accuracy,val_loss,val_accuracy,lr\n",
      "82/82 [==============================] - 282s 3s/step - loss: 0.0165 - accuracy: 0.9963 - val_loss: 0.5968 - val_accuracy: 0.8565 - lr: 1.0000e-04\n",
      "Epoch 15/20\n",
      "82/82 [==============================] - ETA: 0s - loss: 0.0148 - accuracy: 0.9968WARNING:tensorflow:Early stopping conditioned on metric `val_acc` which is not available. Available metrics are: loss,accuracy,val_loss,val_accuracy,lr\n",
      "82/82 [==============================] - 289s 4s/step - loss: 0.0148 - accuracy: 0.9968 - val_loss: 0.6013 - val_accuracy: 0.8534 - lr: 1.0000e-05\n",
      "Epoch 16/20\n",
      "82/82 [==============================] - ETA: 0s - loss: 0.0146 - accuracy: 0.9968WARNING:tensorflow:Early stopping conditioned on metric `val_acc` which is not available. Available metrics are: loss,accuracy,val_loss,val_accuracy,lr\n",
      "82/82 [==============================] - 305s 4s/step - loss: 0.0146 - accuracy: 0.9968 - val_loss: 0.6034 - val_accuracy: 0.8529 - lr: 1.0000e-05\n",
      "Epoch 17/20\n",
      "82/82 [==============================] - ETA: 0s - loss: 0.0144 - accuracy: 0.9969WARNING:tensorflow:Early stopping conditioned on metric `val_acc` which is not available. Available metrics are: loss,accuracy,val_loss,val_accuracy,lr\n",
      "82/82 [==============================] - 308s 4s/step - loss: 0.0144 - accuracy: 0.9969 - val_loss: 0.6068 - val_accuracy: 0.8517 - lr: 1.0000e-05\n",
      "Epoch 18/20\n",
      "82/82 [==============================] - ETA: 0s - loss: 0.0143 - accuracy: 0.9969WARNING:tensorflow:Early stopping conditioned on metric `val_acc` which is not available. Available metrics are: loss,accuracy,val_loss,val_accuracy,lr\n",
      "82/82 [==============================] - 320s 4s/step - loss: 0.0143 - accuracy: 0.9969 - val_loss: 0.6097 - val_accuracy: 0.8519 - lr: 1.0000e-05\n",
      "Epoch 19/20\n",
      "82/82 [==============================] - ETA: 0s - loss: 0.0142 - accuracy: 0.9970WARNING:tensorflow:Early stopping conditioned on metric `val_acc` which is not available. Available metrics are: loss,accuracy,val_loss,val_accuracy,lr\n",
      "82/82 [==============================] - 290s 4s/step - loss: 0.0142 - accuracy: 0.9970 - val_loss: 0.6117 - val_accuracy: 0.8520 - lr: 1.0000e-05\n",
      "Epoch 20/20\n",
      "82/82 [==============================] - ETA: 0s - loss: 0.0140 - accuracy: 0.9970WARNING:tensorflow:Early stopping conditioned on metric `val_acc` which is not available. Available metrics are: loss,accuracy,val_loss,val_accuracy,lr\n",
      "82/82 [==============================] - 296s 4s/step - loss: 0.0140 - accuracy: 0.9970 - val_loss: 0.6120 - val_accuracy: 0.8520 - lr: 1.0000e-06\n"
     ]
    }
   ],
   "source": [
    "history = model.fit(x_train, y_train,\n",
    "                    batch_size=BATCH_SIZE,\n",
    "                    epochs=EPOCHS,\n",
    "                    validation_split=0.1,\n",
    "                    verbose=1,\n",
    "                    callbacks=callbacks)"
   ]
  },
  {
   "cell_type": "code",
   "execution_count": 73,
   "metadata": {},
   "outputs": [
    {
     "name": "stdout",
     "output_type": "stream",
     "text": [
      "23/23 [==============================] - 11s 476ms/step - loss: 0.6230 - accuracy: 0.8526\n",
      "\n",
      "ACCURACY:  0.8525699377059937\n",
      "LOSS:  0.6230065226554871\n"
     ]
    }
   ],
   "source": [
    "score = model.evaluate(x_test, y_test, batch_size=BATCH_SIZE)\n",
    "print()\n",
    "print(\"ACCURACY: \", score[1])\n",
    "print(\"LOSS: \", score[0])"
   ]
  }
 ],
 "metadata": {
  "kernelspec": {
   "display_name": "nlp_env",
   "language": "python",
   "name": "python3"
  },
  "language_info": {
   "codemirror_mode": {
    "name": "ipython",
    "version": 3
   },
   "file_extension": ".py",
   "mimetype": "text/x-python",
   "name": "python",
   "nbconvert_exporter": "python",
   "pygments_lexer": "ipython3",
   "version": "3.9.12 (tags/v3.9.12:b28265d, Mar 23 2022, 23:52:46) [MSC v.1929 64 bit (AMD64)]"
  },
  "orig_nbformat": 4,
  "vscode": {
   "interpreter": {
    "hash": "193895ae6b4eabe17df01151f277708f49eda3a170b6515034f559d78d30fa73"
   }
  }
 },
 "nbformat": 4,
 "nbformat_minor": 2
}
