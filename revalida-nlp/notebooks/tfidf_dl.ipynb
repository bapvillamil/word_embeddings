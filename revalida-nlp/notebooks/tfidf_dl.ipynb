{
 "cells": [
  {
   "cell_type": "code",
   "execution_count": 3,
   "metadata": {},
   "outputs": [],
   "source": [
    "import pandas as pd\n",
    "import numpy as np\n",
    "import nltk\n",
    "from nltk.corpus import wordnet\n",
    "import re\n",
    "from sklearn.decomposition import TruncatedSVD\n",
    "from keras.models import Sequential\n",
    "from keras.layers import Dense, Embedding, LSTM, SpatialDropout1D\n",
    "from keras.callbacks import EarlyStopping\n",
    "from keras.utils import to_categorical\n",
    "import tensorflow as tf\n",
    "from sklearn.preprocessing import LabelEncoder\n",
    "from sklearn.metrics import classification_report\n",
    "from sklearn.metrics import accuracy_score\n",
    "from sklearn.model_selection import train_test_split\n",
    "from sklearn.feature_extraction.text import TfidfVectorizer"
   ]
  },
  {
   "cell_type": "code",
   "execution_count": 4,
   "metadata": {},
   "outputs": [
    {
     "data": {
      "text/html": [
       "<div>\n",
       "<style scoped>\n",
       "    .dataframe tbody tr th:only-of-type {\n",
       "        vertical-align: middle;\n",
       "    }\n",
       "\n",
       "    .dataframe tbody tr th {\n",
       "        vertical-align: top;\n",
       "    }\n",
       "\n",
       "    .dataframe thead th {\n",
       "        text-align: right;\n",
       "    }\n",
       "</style>\n",
       "<table border=\"1\" class=\"dataframe\">\n",
       "  <thead>\n",
       "    <tr style=\"text-align: right;\">\n",
       "      <th></th>\n",
       "      <th>clean_text</th>\n",
       "      <th>category</th>\n",
       "      <th>category_sentiment</th>\n",
       "    </tr>\n",
       "  </thead>\n",
       "  <tbody>\n",
       "    <tr>\n",
       "      <th>0</th>\n",
       "      <td>when modi promised “minimum government maximum...</td>\n",
       "      <td>-1</td>\n",
       "      <td>negative</td>\n",
       "    </tr>\n",
       "    <tr>\n",
       "      <th>1</th>\n",
       "      <td>talk all the nonsense and continue all the dra...</td>\n",
       "      <td>0</td>\n",
       "      <td>neutral</td>\n",
       "    </tr>\n",
       "    <tr>\n",
       "      <th>2</th>\n",
       "      <td>what did just say vote for modi  welcome bjp t...</td>\n",
       "      <td>1</td>\n",
       "      <td>positive</td>\n",
       "    </tr>\n",
       "    <tr>\n",
       "      <th>3</th>\n",
       "      <td>asking his supporters prefix chowkidar their n...</td>\n",
       "      <td>1</td>\n",
       "      <td>positive</td>\n",
       "    </tr>\n",
       "    <tr>\n",
       "      <th>4</th>\n",
       "      <td>answer who among these the most powerful world...</td>\n",
       "      <td>1</td>\n",
       "      <td>positive</td>\n",
       "    </tr>\n",
       "  </tbody>\n",
       "</table>\n",
       "</div>"
      ],
      "text/plain": [
       "                                          clean_text  category  \\\n",
       "0  when modi promised “minimum government maximum...        -1   \n",
       "1  talk all the nonsense and continue all the dra...         0   \n",
       "2  what did just say vote for modi  welcome bjp t...         1   \n",
       "3  asking his supporters prefix chowkidar their n...         1   \n",
       "4  answer who among these the most powerful world...         1   \n",
       "\n",
       "  category_sentiment  \n",
       "0           negative  \n",
       "1            neutral  \n",
       "2           positive  \n",
       "3           positive  \n",
       "4           positive  "
      ]
     },
     "execution_count": 4,
     "metadata": {},
     "output_type": "execute_result"
    }
   ],
   "source": [
    "df = pd.read_csv(\"../Twitter.csv\")\n",
    "df.head()"
   ]
  },
  {
   "cell_type": "code",
   "execution_count": 5,
   "metadata": {},
   "outputs": [
    {
     "data": {
      "text/plain": [
       " 1    72254\n",
       " 0    62713\n",
       "-1    43019\n",
       "Name: category, dtype: int64"
      ]
     },
     "execution_count": 5,
     "metadata": {},
     "output_type": "execute_result"
    }
   ],
   "source": [
    "df[\"category\"].value_counts()"
   ]
  },
  {
   "cell_type": "code",
   "execution_count": 6,
   "metadata": {},
   "outputs": [
    {
     "name": "stderr",
     "output_type": "stream",
     "text": [
      "C:\\Users\\JDEGUZMAN\\AppData\\Local\\Temp\\ipykernel_12096\\482166013.py:3: FutureWarning: The frame.append method is deprecated and will be removed from pandas in a future version. Use pandas.concat instead.\n",
      "  data = data.append(df[df[\"category\"] == 0][:40000])\n",
      "C:\\Users\\JDEGUZMAN\\AppData\\Local\\Temp\\ipykernel_12096\\482166013.py:4: FutureWarning: The frame.append method is deprecated and will be removed from pandas in a future version. Use pandas.concat instead.\n",
      "  data=data.append(df[df[\"category\"] == 1][:40000])\n"
     ]
    },
    {
     "data": {
      "text/plain": [
       "-1    40000\n",
       " 0    40000\n",
       " 1    40000\n",
       "Name: category, dtype: int64"
      ]
     },
     "metadata": {},
     "output_type": "display_data"
    },
    {
     "data": {
      "text/html": [
       "<div>\n",
       "<style scoped>\n",
       "    .dataframe tbody tr th:only-of-type {\n",
       "        vertical-align: middle;\n",
       "    }\n",
       "\n",
       "    .dataframe tbody tr th {\n",
       "        vertical-align: top;\n",
       "    }\n",
       "\n",
       "    .dataframe thead th {\n",
       "        text-align: right;\n",
       "    }\n",
       "</style>\n",
       "<table border=\"1\" class=\"dataframe\">\n",
       "  <thead>\n",
       "    <tr style=\"text-align: right;\">\n",
       "      <th></th>\n",
       "      <th>clean_text</th>\n",
       "      <th>category</th>\n",
       "      <th>category_sentiment</th>\n",
       "    </tr>\n",
       "  </thead>\n",
       "  <tbody>\n",
       "    <tr>\n",
       "      <th>0</th>\n",
       "      <td>'@Cyhuntastic I wish I could have gone '</td>\n",
       "      <td>-1</td>\n",
       "      <td>negative</td>\n",
       "    </tr>\n",
       "    <tr>\n",
       "      <th>1</th>\n",
       "      <td>you are afraid indian tiger mrmodi didi</td>\n",
       "      <td>-1</td>\n",
       "      <td>negative</td>\n",
       "    </tr>\n",
       "    <tr>\n",
       "      <th>2</th>\n",
       "      <td>that would devastating the economy was that st...</td>\n",
       "      <td>-1</td>\n",
       "      <td>negative</td>\n",
       "    </tr>\n",
       "    <tr>\n",
       "      <th>3</th>\n",
       "      <td>incospar was established 1962 under dae which ...</td>\n",
       "      <td>-1</td>\n",
       "      <td>negative</td>\n",
       "    </tr>\n",
       "    <tr>\n",
       "      <th>4</th>\n",
       "      <td>what shame election commission clearly working...</td>\n",
       "      <td>-1</td>\n",
       "      <td>negative</td>\n",
       "    </tr>\n",
       "    <tr>\n",
       "      <th>...</th>\n",
       "      <td>...</td>\n",
       "      <td>...</td>\n",
       "      <td>...</td>\n",
       "    </tr>\n",
       "    <tr>\n",
       "      <th>119995</th>\n",
       "      <td>chowkidar kesavan humble request the prime min...</td>\n",
       "      <td>1</td>\n",
       "      <td>positive</td>\n",
       "    </tr>\n",
       "    <tr>\n",
       "      <th>119996</th>\n",
       "      <td>fact iam toh saying that release the movie aft...</td>\n",
       "      <td>1</td>\n",
       "      <td>positive</td>\n",
       "    </tr>\n",
       "    <tr>\n",
       "      <th>119997</th>\n",
       "      <td>dhruv please make some video chowkidars they a...</td>\n",
       "      <td>1</td>\n",
       "      <td>positive</td>\n",
       "    </tr>\n",
       "    <tr>\n",
       "      <th>119998</th>\n",
       "      <td>now congress may say supporting bjp modi gover...</td>\n",
       "      <td>1</td>\n",
       "      <td>positive</td>\n",
       "    </tr>\n",
       "    <tr>\n",
       "      <th>119999</th>\n",
       "      <td>for india modi also better than nawaz bcz modi...</td>\n",
       "      <td>1</td>\n",
       "      <td>positive</td>\n",
       "    </tr>\n",
       "  </tbody>\n",
       "</table>\n",
       "<p>120000 rows × 3 columns</p>\n",
       "</div>"
      ],
      "text/plain": [
       "                                               clean_text  category  \\\n",
       "0                '@Cyhuntastic I wish I could have gone '        -1   \n",
       "1                 you are afraid indian tiger mrmodi didi        -1   \n",
       "2       that would devastating the economy was that st...        -1   \n",
       "3       incospar was established 1962 under dae which ...        -1   \n",
       "4       what shame election commission clearly working...        -1   \n",
       "...                                                   ...       ...   \n",
       "119995  chowkidar kesavan humble request the prime min...         1   \n",
       "119996  fact iam toh saying that release the movie aft...         1   \n",
       "119997  dhruv please make some video chowkidars they a...         1   \n",
       "119998  now congress may say supporting bjp modi gover...         1   \n",
       "119999  for india modi also better than nawaz bcz modi...         1   \n",
       "\n",
       "       category_sentiment  \n",
       "0                negative  \n",
       "1                negative  \n",
       "2                negative  \n",
       "3                negative  \n",
       "4                negative  \n",
       "...                   ...  \n",
       "119995           positive  \n",
       "119996           positive  \n",
       "119997           positive  \n",
       "119998           positive  \n",
       "119999           positive  \n",
       "\n",
       "[120000 rows x 3 columns]"
      ]
     },
     "execution_count": 6,
     "metadata": {},
     "output_type": "execute_result"
    }
   ],
   "source": [
    "df = df.sample(frac=1).reset_index(drop=True) #shuffling of tweets\n",
    "data = df[df[\"category\"] == -1][:40000]\n",
    "data = data.append(df[df[\"category\"] == 0][:40000])\n",
    "data=data.append(df[df[\"category\"] == 1][:40000])\n",
    "data = data.reset_index(drop=True)\n",
    "display(data[\"category\"].value_counts())\n",
    "data"
   ]
  },
  {
   "cell_type": "code",
   "execution_count": 7,
   "metadata": {},
   "outputs": [],
   "source": [
    "data[\"pre_process\"] = data[\"clean_text\"].apply(lambda x: \" \".join(x.lower() for x in str(x).split()))\n",
    "data[\"pre_process\"] = data[\"pre_process\"].apply(lambda x: re.sub(r\"http\\S+\", \"\", x))"
   ]
  },
  {
   "cell_type": "code",
   "execution_count": 8,
   "metadata": {},
   "outputs": [],
   "source": [
    "def contractions(s):\n",
    "    s = re.sub(r\"won't\", \"will not\",s)\n",
    "    s = re.sub(r\"would't\", \"would not\",s)\n",
    "    s = re.sub(r\"could't\", \"could not\",s)\n",
    "    s = re.sub(r\"\\'d\", \" would\",s)\n",
    "    s = re.sub(r\"can\\'t\", \"can not\",s)\n",
    "    s = re.sub(r\"n\\'t\", \" not\", s)\n",
    "    s= re.sub(r\"\\'re\", \" are\", s)\n",
    "    s = re.sub(r\"\\'s\", \" is\", s)\n",
    "    s = re.sub(r\"\\'ll\", \" will\", s)\n",
    "    s = re.sub(r\"\\'t\", \" not\", s)\n",
    "    s = re.sub(r\"\\'ve\", \" have\", s)\n",
    "    s = re.sub(r\"\\'m\", \" am\", s)\n",
    "    return s\n",
    "\n",
    "data[\"pre_process\"] = data[\"pre_process\"].apply(lambda x:contractions(x))"
   ]
  },
  {
   "cell_type": "code",
   "execution_count": 9,
   "metadata": {},
   "outputs": [],
   "source": [
    "data[\"pre_process\"] = data[\"pre_process\"].apply(lambda x: \" \".join([re.sub(\"[^A-Za-z]+\",\"\", x) for x in nltk.word_tokenize(x)]))"
   ]
  },
  {
   "cell_type": "code",
   "execution_count": 10,
   "metadata": {},
   "outputs": [
    {
     "data": {
      "text/html": [
       "<div>\n",
       "<style scoped>\n",
       "    .dataframe tbody tr th:only-of-type {\n",
       "        vertical-align: middle;\n",
       "    }\n",
       "\n",
       "    .dataframe tbody tr th {\n",
       "        vertical-align: top;\n",
       "    }\n",
       "\n",
       "    .dataframe thead th {\n",
       "        text-align: right;\n",
       "    }\n",
       "</style>\n",
       "<table border=\"1\" class=\"dataframe\">\n",
       "  <thead>\n",
       "    <tr style=\"text-align: right;\">\n",
       "      <th></th>\n",
       "      <th>clean_text</th>\n",
       "      <th>category</th>\n",
       "      <th>category_sentiment</th>\n",
       "      <th>pre_process</th>\n",
       "    </tr>\n",
       "  </thead>\n",
       "  <tbody>\n",
       "    <tr>\n",
       "      <th>0</th>\n",
       "      <td>'@Cyhuntastic I wish I could have gone '</td>\n",
       "      <td>-1</td>\n",
       "      <td>negative</td>\n",
       "      <td>cyhuntastic i wish i could have gone</td>\n",
       "    </tr>\n",
       "    <tr>\n",
       "      <th>1</th>\n",
       "      <td>you are afraid indian tiger mrmodi didi</td>\n",
       "      <td>-1</td>\n",
       "      <td>negative</td>\n",
       "      <td>you are afraid indian tiger mrmodi didi</td>\n",
       "    </tr>\n",
       "    <tr>\n",
       "      <th>2</th>\n",
       "      <td>that would devastating the economy was that st...</td>\n",
       "      <td>-1</td>\n",
       "      <td>negative</td>\n",
       "      <td>that would devastating the economy was that st...</td>\n",
       "    </tr>\n",
       "    <tr>\n",
       "      <th>3</th>\n",
       "      <td>incospar was established 1962 under dae which ...</td>\n",
       "      <td>-1</td>\n",
       "      <td>negative</td>\n",
       "      <td>incospar was established  under dae which late...</td>\n",
       "    </tr>\n",
       "    <tr>\n",
       "      <th>4</th>\n",
       "      <td>what shame election commission clearly working...</td>\n",
       "      <td>-1</td>\n",
       "      <td>negative</td>\n",
       "      <td>what shame election commission clearly working...</td>\n",
       "    </tr>\n",
       "  </tbody>\n",
       "</table>\n",
       "</div>"
      ],
      "text/plain": [
       "                                          clean_text  category  \\\n",
       "0           '@Cyhuntastic I wish I could have gone '        -1   \n",
       "1            you are afraid indian tiger mrmodi didi        -1   \n",
       "2  that would devastating the economy was that st...        -1   \n",
       "3  incospar was established 1962 under dae which ...        -1   \n",
       "4  what shame election commission clearly working...        -1   \n",
       "\n",
       "  category_sentiment                                        pre_process  \n",
       "0           negative              cyhuntastic i wish i could have gone   \n",
       "1           negative            you are afraid indian tiger mrmodi didi  \n",
       "2           negative  that would devastating the economy was that st...  \n",
       "3           negative  incospar was established  under dae which late...  \n",
       "4           negative  what shame election commission clearly working...  "
      ]
     },
     "execution_count": 10,
     "metadata": {},
     "output_type": "execute_result"
    }
   ],
   "source": [
    "data.head()"
   ]
  },
  {
   "cell_type": "code",
   "execution_count": 23,
   "metadata": {},
   "outputs": [
    {
     "name": "stdout",
     "output_type": "stream",
     "text": [
      "Train:  ((90000,), (90000,)) Test:  ((30000,), (30000,))\n"
     ]
    }
   ],
   "source": [
    "X_train, X_test, Y_train, Y_test = train_test_split(data[\"pre_process\"], data[\"category\"], test_size=0.25, random_state=30, stratify=data[\"category_sentiment\"])\n",
    "print(\"Train: \", (X_train.shape, Y_train.shape), \n",
    "      \"Test: \", (X_test.shape, Y_test.shape))"
   ]
  },
  {
   "cell_type": "code",
   "execution_count": 24,
   "metadata": {},
   "outputs": [
    {
     "name": "stdout",
     "output_type": "stream",
     "text": [
      "TFIDF Vectorizer . . .\n"
     ]
    }
   ],
   "source": [
    "print(\"TFIDF Vectorizer . . .\")\n",
    "\n",
    "vectorizer= TfidfVectorizer()\n",
    "X_train = vectorizer.fit_transform(X_train)\n",
    "X_test = vectorizer.transform(X_test)"
   ]
  },
  {
   "cell_type": "code",
   "execution_count": 25,
   "metadata": {},
   "outputs": [],
   "source": [
    "# Reduce the dimensionality of the input data\n",
    "svd = TruncatedSVD(n_components=2000)\n",
    "X_train = svd.fit_transform(X_train)\n",
    "X_test = svd.transform(X_test)"
   ]
  },
  {
   "cell_type": "code",
   "execution_count": 26,
   "metadata": {},
   "outputs": [],
   "source": [
    "# Encode the target variable\n",
    "encoder = LabelEncoder()\n",
    "y_train = encoder.fit_transform(Y_train)\n",
    "y_test = encoder.fit_transform(Y_test)"
   ]
  },
  {
   "cell_type": "code",
   "execution_count": 27,
   "metadata": {},
   "outputs": [],
   "source": [
    "# One-hot encode the target variable\n",
    "y_train = to_categorical(y_train)\n",
    "y_test = to_categorical(y_test)"
   ]
  },
  {
   "cell_type": "code",
   "execution_count": 28,
   "metadata": {},
   "outputs": [],
   "source": [
    "# Define the deep learning model\n",
    "model = Sequential()\n",
    "model.add(Dense(2000, input_shape=(2000,), activation=\"relu\"))\n",
    "model.add(Dense(1024, activation=\"relu\"))\n",
    "model.add(Dense(512, activation=\"relu\"))\n",
    "model.add(Dense(256, activation=\"relu\"))\n",
    "model.add(Dense(3, activation=\"softmax\"))\n",
    "model.compile(loss=\"categorical_crossentropy\", optimizer=\"adam\", metrics=[\"accuracy\"])"
   ]
  },
  {
   "cell_type": "code",
   "execution_count": 29,
   "metadata": {},
   "outputs": [
    {
     "name": "stdout",
     "output_type": "stream",
     "text": [
      "Number of classes in the target variable:  2\n"
     ]
    }
   ],
   "source": [
    "unique_classes = np.unique(y_train)\n",
    "n_classes = len(unique_classes)\n",
    "print(\"Number of classes in the target variable: \", n_classes)"
   ]
  },
  {
   "cell_type": "code",
   "execution_count": 30,
   "metadata": {},
   "outputs": [
    {
     "name": "stdout",
     "output_type": "stream",
     "text": [
      "Number of neurons in the last dense layer:  3\n"
     ]
    }
   ],
   "source": [
    "last_layer = model.layers[-1]\n",
    "n_neurons = last_layer.output_shape[-1]\n",
    "print(\"Number of neurons in the last dense layer: \", n_neurons)"
   ]
  },
  {
   "cell_type": "code",
   "execution_count": 31,
   "metadata": {},
   "outputs": [
    {
     "name": "stdout",
     "output_type": "stream",
     "text": [
      "Epoch 1/20\n",
      "633/633 [==============================] - 55s 84ms/step - loss: 0.5111 - accuracy: 0.8001 - val_loss: 0.4112 - val_accuracy: 0.8540\n",
      "Epoch 2/20\n",
      "633/633 [==============================] - 54s 85ms/step - loss: 0.3019 - accuracy: 0.8932 - val_loss: 0.3870 - val_accuracy: 0.8669\n",
      "Epoch 3/20\n",
      "633/633 [==============================] - 54s 86ms/step - loss: 0.1530 - accuracy: 0.9471 - val_loss: 0.4546 - val_accuracy: 0.8657\n",
      "Epoch 4/20\n",
      "633/633 [==============================] - 53s 84ms/step - loss: 0.0740 - accuracy: 0.9754 - val_loss: 0.4902 - val_accuracy: 0.8608\n",
      "Epoch 5/20\n",
      "633/633 [==============================] - 58s 92ms/step - loss: 0.0491 - accuracy: 0.9846 - val_loss: 0.5516 - val_accuracy: 0.8691\n"
     ]
    },
    {
     "data": {
      "text/plain": [
       "<keras.callbacks.History at 0x1d0805c8d60>"
      ]
     },
     "execution_count": 31,
     "metadata": {},
     "output_type": "execute_result"
    }
   ],
   "source": [
    "# Train the model\n",
    "model.fit(X_train, y_train, epochs=20, batch_size=128, validation_split=0.1, callbacks=[EarlyStopping(monitor=\"val_loss\", patience=3, min_delta=0.0001)])"
   ]
  },
  {
   "cell_type": "code",
   "execution_count": 32,
   "metadata": {},
   "outputs": [
    {
     "name": "stdout",
     "output_type": "stream",
     "text": [
      "938/938 [==============================] - 8s 9ms/step\n"
     ]
    }
   ],
   "source": [
    "# Make predictions on the test set\n",
    "y_pred = model.predict(X_test)"
   ]
  },
  {
   "cell_type": "code",
   "execution_count": 33,
   "metadata": {},
   "outputs": [
    {
     "name": "stdout",
     "output_type": "stream",
     "text": [
      "Accuracy: 86.31%\n"
     ]
    }
   ],
   "source": [
    "accuracy = accuracy_score(y_test.argmax(axis=1), y_pred.argmax(axis=1))\n",
    "print(\"Accuracy: {:.2f}%\".format(accuracy * 100))"
   ]
  },
  {
   "cell_type": "code",
   "execution_count": 34,
   "metadata": {},
   "outputs": [
    {
     "name": "stdout",
     "output_type": "stream",
     "text": [
      "1/1 [==============================] - 0s 29ms/step\n",
      "1/1 [==============================] - 0s 25ms/step\n",
      "[[0, 1, 0]]\n"
     ]
    },
    {
     "data": {
      "text/plain": [
       "'neutral'"
      ]
     },
     "execution_count": 34,
     "metadata": {},
     "output_type": "execute_result"
    }
   ],
   "source": [
    "sentence = \"i am anyone\"\n",
    "\n",
    "test_feature = vectorizer.transform([sentence])\n",
    "test_feature = svd.transform(test_feature)\n",
    "model.predict(test_feature)\n",
    "\n",
    "sentiment = model.predict(test_feature)\n",
    "\n",
    "\n",
    "def rev_one_hot(x):\n",
    "    l = []\n",
    "    m = [l]\n",
    "    for i in x:\n",
    "        for j in i:\n",
    "            if j < 0.5:\n",
    "                j = 0\n",
    "                l.append(j)\n",
    "            else:\n",
    "                j = 1\n",
    "                l.append(j)\n",
    "    return m\n",
    "\n",
    "sentiment = rev_one_hot(sentiment)\n",
    "print(sentiment)\n",
    "\n",
    "def to_categ(pred):\n",
    "\n",
    "    if pred == [[1, 0, 0]]:\n",
    "        return \"negative\"\n",
    "    \n",
    "    elif pred == [[0, 0, 1]]:\n",
    "        return \"positive\"\n",
    "\n",
    "    else:\n",
    "        return \"neutral\"\n",
    "\n",
    "to_categ(sentiment)"
   ]
  }
 ],
 "metadata": {
  "kernelspec": {
   "display_name": "env",
   "language": "python",
   "name": "python3"
  },
  "language_info": {
   "codemirror_mode": {
    "name": "ipython",
    "version": 3
   },
   "file_extension": ".py",
   "mimetype": "text/x-python",
   "name": "python",
   "nbconvert_exporter": "python",
   "pygments_lexer": "ipython3",
   "version": "3.9.12"
  },
  "orig_nbformat": 4,
  "vscode": {
   "interpreter": {
    "hash": "6953282ec292f64d03d62f44064050487a4989745be5349fc2fdd7d212207bdb"
   }
  }
 },
 "nbformat": 4,
 "nbformat_minor": 2
}
