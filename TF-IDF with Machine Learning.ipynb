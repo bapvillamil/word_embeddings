{
 "cells": [
  {
   "cell_type": "code",
   "execution_count": 1,
   "id": "b730fc57",
   "metadata": {},
   "outputs": [],
   "source": [
    "import pandas as pd\n",
    "import numpy as np\n",
    "import nltk\n",
    "from nltk.corpus import wordnet\n",
    "# nltk.download('punkt')\n",
    "import re\n",
    "from bs4 import BeautifulSoup\n",
    "from sklearn.decomposition import TruncatedSVD\n",
    "from keras.models import Sequential\n",
    "from keras.layers import Dense, Embedding, LSTM, SpatialDropout1D\n",
    "from keras.callbacks import EarlyStopping\n",
    "from keras.utils import to_categorical\n",
    "import tensorflow as tf\n",
    "from sklearn.preprocessing import LabelEncoder\n",
    "from sklearn.svm import LinearSVC\n",
    "from sklearn.ensemble import RandomForestClassifier\n",
    "from sklearn.linear_model import LogisticRegression\n",
    "from sklearn.metrics import classification_report\n",
    "from sklearn.metrics import accuracy_score"
   ]
  },
  {
   "cell_type": "code",
   "execution_count": 2,
   "id": "50167fbf",
   "metadata": {},
   "outputs": [
    {
     "data": {
      "text/html": [
       "<div>\n",
       "<style scoped>\n",
       "    .dataframe tbody tr th:only-of-type {\n",
       "        vertical-align: middle;\n",
       "    }\n",
       "\n",
       "    .dataframe tbody tr th {\n",
       "        vertical-align: top;\n",
       "    }\n",
       "\n",
       "    .dataframe thead th {\n",
       "        text-align: right;\n",
       "    }\n",
       "</style>\n",
       "<table border=\"1\" class=\"dataframe\">\n",
       "  <thead>\n",
       "    <tr style=\"text-align: right;\">\n",
       "      <th></th>\n",
       "      <th>clean_text</th>\n",
       "      <th>category</th>\n",
       "      <th>category_sentiment</th>\n",
       "    </tr>\n",
       "  </thead>\n",
       "  <tbody>\n",
       "    <tr>\n",
       "      <th>0</th>\n",
       "      <td>when modi promised “minimum government maximum...</td>\n",
       "      <td>-1</td>\n",
       "      <td>negative</td>\n",
       "    </tr>\n",
       "    <tr>\n",
       "      <th>1</th>\n",
       "      <td>talk all the nonsense and continue all the dra...</td>\n",
       "      <td>0</td>\n",
       "      <td>neutral</td>\n",
       "    </tr>\n",
       "    <tr>\n",
       "      <th>2</th>\n",
       "      <td>what did just say vote for modi  welcome bjp t...</td>\n",
       "      <td>1</td>\n",
       "      <td>positive</td>\n",
       "    </tr>\n",
       "    <tr>\n",
       "      <th>3</th>\n",
       "      <td>asking his supporters prefix chowkidar their n...</td>\n",
       "      <td>1</td>\n",
       "      <td>positive</td>\n",
       "    </tr>\n",
       "    <tr>\n",
       "      <th>4</th>\n",
       "      <td>answer who among these the most powerful world...</td>\n",
       "      <td>1</td>\n",
       "      <td>positive</td>\n",
       "    </tr>\n",
       "  </tbody>\n",
       "</table>\n",
       "</div>"
      ],
      "text/plain": [
       "                                          clean_text  category  \\\n",
       "0  when modi promised “minimum government maximum...        -1   \n",
       "1  talk all the nonsense and continue all the dra...         0   \n",
       "2  what did just say vote for modi  welcome bjp t...         1   \n",
       "3  asking his supporters prefix chowkidar their n...         1   \n",
       "4  answer who among these the most powerful world...         1   \n",
       "\n",
       "  category_sentiment  \n",
       "0           negative  \n",
       "1            neutral  \n",
       "2           positive  \n",
       "3           positive  \n",
       "4           positive  "
      ]
     },
     "execution_count": 2,
     "metadata": {},
     "output_type": "execute_result"
    }
   ],
   "source": [
    "df = pd.read_csv('Twitter.csv')\n",
    "df.head()"
   ]
  },
  {
   "cell_type": "code",
   "execution_count": 3,
   "id": "3095c044",
   "metadata": {},
   "outputs": [
    {
     "data": {
      "text/plain": [
       " 1    72254\n",
       " 0    62713\n",
       "-1    43019\n",
       "Name: category, dtype: int64"
      ]
     },
     "execution_count": 3,
     "metadata": {},
     "output_type": "execute_result"
    }
   ],
   "source": [
    "df=df.dropna()\n",
    "df['category'] = df['category'].astype(int)\n",
    "df = df.reset_index(drop=True)\n",
    "df['category'].value_counts()"
   ]
  },
  {
   "cell_type": "code",
   "execution_count": 4,
   "id": "de8d9e2f",
   "metadata": {},
   "outputs": [
    {
     "data": {
      "text/plain": [
       " 1    72254\n",
       " 0    62713\n",
       "-1    43019\n",
       "Name: category, dtype: int64"
      ]
     },
     "execution_count": 4,
     "metadata": {},
     "output_type": "execute_result"
    }
   ],
   "source": [
    "# df=df[df['category']!=0]\n",
    "df['category'].value_counts()"
   ]
  },
  {
   "cell_type": "code",
   "execution_count": 5,
   "id": "2fe85e30",
   "metadata": {},
   "outputs": [
    {
     "name": "stderr",
     "output_type": "stream",
     "text": [
      "C:\\Users\\CPORGALINAS\\AppData\\Local\\Temp\\ipykernel_14288\\490375356.py:3: FutureWarning: The frame.append method is deprecated and will be removed from pandas in a future version. Use pandas.concat instead.\n",
      "  data=data.append(df[df['category']==0][:43019])\n",
      "C:\\Users\\CPORGALINAS\\AppData\\Local\\Temp\\ipykernel_14288\\490375356.py:4: FutureWarning: The frame.append method is deprecated and will be removed from pandas in a future version. Use pandas.concat instead.\n",
      "  data=data.append(df[df['category']==1][:43019])\n"
     ]
    },
    {
     "data": {
      "text/plain": [
       "-1    43019\n",
       " 0    43019\n",
       " 1    43019\n",
       "Name: category, dtype: int64"
      ]
     },
     "metadata": {},
     "output_type": "display_data"
    },
    {
     "data": {
      "text/html": [
       "<div>\n",
       "<style scoped>\n",
       "    .dataframe tbody tr th:only-of-type {\n",
       "        vertical-align: middle;\n",
       "    }\n",
       "\n",
       "    .dataframe tbody tr th {\n",
       "        vertical-align: top;\n",
       "    }\n",
       "\n",
       "    .dataframe thead th {\n",
       "        text-align: right;\n",
       "    }\n",
       "</style>\n",
       "<table border=\"1\" class=\"dataframe\">\n",
       "  <thead>\n",
       "    <tr style=\"text-align: right;\">\n",
       "      <th></th>\n",
       "      <th>clean_text</th>\n",
       "      <th>category</th>\n",
       "      <th>category_sentiment</th>\n",
       "    </tr>\n",
       "  </thead>\n",
       "  <tbody>\n",
       "    <tr>\n",
       "      <th>0</th>\n",
       "      <td>\\r\\ntalking the strict laws crack down heavily...</td>\n",
       "      <td>-1</td>\n",
       "      <td>negative</td>\n",
       "    </tr>\n",
       "    <tr>\n",
       "      <th>1</th>\n",
       "      <td>modi never made such promisehe had said the en...</td>\n",
       "      <td>-1</td>\n",
       "      <td>negative</td>\n",
       "    </tr>\n",
       "    <tr>\n",
       "      <th>2</th>\n",
       "      <td>when stupid ppl like can give its due credit n...</td>\n",
       "      <td>-1</td>\n",
       "      <td>negative</td>\n",
       "    </tr>\n",
       "    <tr>\n",
       "      <th>3</th>\n",
       "      <td>not alone evks once asked what amma and modi w...</td>\n",
       "      <td>-1</td>\n",
       "      <td>negative</td>\n",
       "    </tr>\n",
       "    <tr>\n",
       "      <th>4</th>\n",
       "      <td>rahul thief modi chowkidar wait and watch only...</td>\n",
       "      <td>-1</td>\n",
       "      <td>negative</td>\n",
       "    </tr>\n",
       "    <tr>\n",
       "      <th>...</th>\n",
       "      <td>...</td>\n",
       "      <td>...</td>\n",
       "      <td>...</td>\n",
       "    </tr>\n",
       "    <tr>\n",
       "      <th>129052</th>\n",
       "      <td>why fear modi ruling koi hijra nahi hai sher h...</td>\n",
       "      <td>1</td>\n",
       "      <td>positive</td>\n",
       "    </tr>\n",
       "    <tr>\n",
       "      <th>129053</th>\n",
       "      <td>the sceintists would have announced one would ...</td>\n",
       "      <td>1</td>\n",
       "      <td>positive</td>\n",
       "    </tr>\n",
       "    <tr>\n",
       "      <th>129054</th>\n",
       "      <td>for winning elections\\r\\nmodi worship god\\r\\na...</td>\n",
       "      <td>1</td>\n",
       "      <td>positive</td>\n",
       "    </tr>\n",
       "    <tr>\n",
       "      <th>129055</th>\n",
       "      <td>then why modi better his speeches and mocking ...</td>\n",
       "      <td>1</td>\n",
       "      <td>positive</td>\n",
       "    </tr>\n",
       "    <tr>\n",
       "      <th>129056</th>\n",
       "      <td>first choice correct choice narendra modi</td>\n",
       "      <td>1</td>\n",
       "      <td>positive</td>\n",
       "    </tr>\n",
       "  </tbody>\n",
       "</table>\n",
       "<p>129057 rows × 3 columns</p>\n",
       "</div>"
      ],
      "text/plain": [
       "                                               clean_text  category  \\\n",
       "0       \\r\\ntalking the strict laws crack down heavily...        -1   \n",
       "1       modi never made such promisehe had said the en...        -1   \n",
       "2       when stupid ppl like can give its due credit n...        -1   \n",
       "3       not alone evks once asked what amma and modi w...        -1   \n",
       "4       rahul thief modi chowkidar wait and watch only...        -1   \n",
       "...                                                   ...       ...   \n",
       "129052  why fear modi ruling koi hijra nahi hai sher h...         1   \n",
       "129053  the sceintists would have announced one would ...         1   \n",
       "129054  for winning elections\\r\\nmodi worship god\\r\\na...         1   \n",
       "129055  then why modi better his speeches and mocking ...         1   \n",
       "129056        first choice correct choice narendra modi           1   \n",
       "\n",
       "       category_sentiment  \n",
       "0                negative  \n",
       "1                negative  \n",
       "2                negative  \n",
       "3                negative  \n",
       "4                negative  \n",
       "...                   ...  \n",
       "129052           positive  \n",
       "129053           positive  \n",
       "129054           positive  \n",
       "129055           positive  \n",
       "129056           positive  \n",
       "\n",
       "[129057 rows x 3 columns]"
      ]
     },
     "execution_count": 5,
     "metadata": {},
     "output_type": "execute_result"
    }
   ],
   "source": [
    "df = df.sample(frac=1).reset_index(drop=True) #shuffling of tweets\n",
    "data=df[df['category']==-1][:43019]\n",
    "data=data.append(df[df['category']==0][:43019])\n",
    "data=data.append(df[df['category']==1][:43019])\n",
    "data = data.reset_index(drop=True)\n",
    "display(data['category'].value_counts())\n",
    "data"
   ]
  },
  {
   "cell_type": "code",
   "execution_count": 6,
   "id": "d052fa6b",
   "metadata": {},
   "outputs": [
    {
     "name": "stderr",
     "output_type": "stream",
     "text": [
      "C:\\Users\\CPORGALINAS\\Documents\\Machine Learning\\Revalida 2\\env\\lib\\site-packages\\bs4\\__init__.py:435: MarkupResemblesLocatorWarning: The input looks more like a filename than markup. You may want to open this file and pass the filehandle into Beautiful Soup.\n",
      "  warnings.warn(\n"
     ]
    }
   ],
   "source": [
    "data['pre_process'] = data['clean_text'].apply(lambda x: \" \".join(x.lower() for x in str(x).split()))\n",
    "data['pre_process']=data['pre_process'].apply(lambda x: BeautifulSoup(x).get_text())\n",
    "data['pre_process']=data['pre_process'].apply(lambda x: re.sub(r\"http\\S+\", \"\", x))"
   ]
  },
  {
   "cell_type": "code",
   "execution_count": 7,
   "id": "30c1c06b",
   "metadata": {},
   "outputs": [],
   "source": [
    "def contractions(s):\n",
    "    s = re.sub(r\"won't\", \"will not\",s)\n",
    "    s = re.sub(r\"would't\", \"would not\",s)\n",
    "    s = re.sub(r\"could't\", \"could not\",s)\n",
    "    s = re.sub(r\"\\'d\", \" would\",s)\n",
    "    s = re.sub(r\"can\\'t\", \"can not\",s)\n",
    "    s = re.sub(r\"n\\'t\", \" not\", s)\n",
    "    s= re.sub(r\"\\'re\", \" are\", s)\n",
    "    s = re.sub(r\"\\'s\", \" is\", s)\n",
    "    s = re.sub(r\"\\'ll\", \" will\", s)\n",
    "    s = re.sub(r\"\\'t\", \" not\", s)\n",
    "    s = re.sub(r\"\\'ve\", \" have\", s)\n",
    "    s = re.sub(r\"\\'m\", \" am\", s)\n",
    "    return s\n",
    "data['pre_process']=data['pre_process'].apply(lambda x:contractions(x))"
   ]
  },
  {
   "cell_type": "code",
   "execution_count": 8,
   "id": "b6f8ffb6",
   "metadata": {},
   "outputs": [],
   "source": [
    "data['pre_process']=data['pre_process'].apply(lambda x: \" \".join([re.sub('[^A-Za-z]+','', x) for x in nltk.word_tokenize(x)]))"
   ]
  },
  {
   "cell_type": "code",
   "execution_count": 33,
   "id": "94352c89",
   "metadata": {},
   "outputs": [],
   "source": [
    "def Negation(sentence):\t\n",
    "    '''\n",
    "    Input: Tokenized sentence (List of words)\n",
    "    Output: Tokenized sentence with negation handled (List of words)\n",
    "    '''\n",
    "    temp = int(0)\n",
    "    for i in range(len(sentence)):\n",
    "        if sentence[i-1] in ['not',\"n't\"]:\n",
    "            antonyms = []\n",
    "            for syn in wordnet.synsets(sentence[i]):\n",
    "                syns = wordnet.synsets(sentence[i])\n",
    "                w1 = syns[0].name()\n",
    "                temp = 0\n",
    "                for l in syn.lemmas():\n",
    "                    if l.antonyms():\n",
    "                        antonyms.append(l.antonyms()[0].name())\n",
    "                max_dissimilarity = 0\n",
    "                for ant in antonyms:\n",
    "                    syns = wordnet.synsets(ant)\n",
    "                    w2 = syns[0].name()\n",
    "                    syns = wordnet.synsets(sentence[i])\n",
    "                    w1 = syns[0].name()\n",
    "                    word1 = wordnet.synset(w1)\n",
    "                    word2 = wordnet.synset(w2)\n",
    "                    if isinstance(word1.wup_similarity(word2), float) or isinstance(word1.wup_similarity(word2), int):\n",
    "                        temp = 1 - word1.wup_similarity(word2)\n",
    "                    if temp>max_dissimilarity:\n",
    "                        max_dissimilarity = temp\n",
    "                        antonym_max = ant\n",
    "                        sentence[i] = antonym_max\n",
    "                        sentence[i-1] = ''\n",
    "    while '' in sentence:\n",
    "        sentence.remove('')\n",
    "    sentence = ' '.join(sentence)\n",
    "    return sentence"
   ]
  },
  {
   "cell_type": "code",
   "execution_count": 10,
   "id": "abca1ce5",
   "metadata": {},
   "outputs": [],
   "source": [
    "# data['pre_process']=data['pre_process'].apply(lambda x:Negation(nltk.word_tokenize(x)))"
   ]
  },
  {
   "cell_type": "code",
   "execution_count": 11,
   "id": "70dac8fb",
   "metadata": {},
   "outputs": [],
   "source": [
    "# from nltk.corpus import stopwords\n",
    "# stop = stopwords.words('english')\n",
    "# data['pre_process']=data['pre_process'].apply(lambda x: \" \".join([x for x in x.split() if x not in stop]))"
   ]
  },
  {
   "cell_type": "code",
   "execution_count": 12,
   "id": "b075e5ae",
   "metadata": {},
   "outputs": [],
   "source": [
    "# from nltk.stem import WordNetLemmatizer\n",
    "# lemmatizer = WordNetLemmatizer()\n",
    "# data['pre_process']=data['pre_process'].apply(lambda x: \" \".join([lemmatizer.lemmatize(w) for w in nltk.word_tokenize(x)]))"
   ]
  },
  {
   "cell_type": "code",
   "execution_count": 13,
   "id": "d4b62ad2",
   "metadata": {},
   "outputs": [
    {
     "data": {
      "text/html": [
       "<div>\n",
       "<style scoped>\n",
       "    .dataframe tbody tr th:only-of-type {\n",
       "        vertical-align: middle;\n",
       "    }\n",
       "\n",
       "    .dataframe tbody tr th {\n",
       "        vertical-align: top;\n",
       "    }\n",
       "\n",
       "    .dataframe thead th {\n",
       "        text-align: right;\n",
       "    }\n",
       "</style>\n",
       "<table border=\"1\" class=\"dataframe\">\n",
       "  <thead>\n",
       "    <tr style=\"text-align: right;\">\n",
       "      <th></th>\n",
       "      <th>clean_text</th>\n",
       "      <th>category</th>\n",
       "      <th>category_sentiment</th>\n",
       "      <th>pre_process</th>\n",
       "    </tr>\n",
       "  </thead>\n",
       "  <tbody>\n",
       "    <tr>\n",
       "      <th>0</th>\n",
       "      <td>\\r\\ntalking the strict laws crack down heavily...</td>\n",
       "      <td>-1</td>\n",
       "      <td>negative</td>\n",
       "      <td>talking the strict laws crack down heavily the...</td>\n",
       "    </tr>\n",
       "    <tr>\n",
       "      <th>1</th>\n",
       "      <td>modi never made such promisehe had said the en...</td>\n",
       "      <td>-1</td>\n",
       "      <td>negative</td>\n",
       "      <td>modi never made such promisehe had said the en...</td>\n",
       "    </tr>\n",
       "    <tr>\n",
       "      <th>2</th>\n",
       "      <td>when stupid ppl like can give its due credit n...</td>\n",
       "      <td>-1</td>\n",
       "      <td>negative</td>\n",
       "      <td>when stupid ppl like can give its due credit n...</td>\n",
       "    </tr>\n",
       "    <tr>\n",
       "      <th>3</th>\n",
       "      <td>not alone evks once asked what amma and modi w...</td>\n",
       "      <td>-1</td>\n",
       "      <td>negative</td>\n",
       "      <td>not alone evks once asked what amma and modi w...</td>\n",
       "    </tr>\n",
       "    <tr>\n",
       "      <th>4</th>\n",
       "      <td>rahul thief modi chowkidar wait and watch only...</td>\n",
       "      <td>-1</td>\n",
       "      <td>negative</td>\n",
       "      <td>rahul thief modi chowkidar wait and watch only...</td>\n",
       "    </tr>\n",
       "  </tbody>\n",
       "</table>\n",
       "</div>"
      ],
      "text/plain": [
       "                                          clean_text  category  \\\n",
       "0  \\r\\ntalking the strict laws crack down heavily...        -1   \n",
       "1  modi never made such promisehe had said the en...        -1   \n",
       "2  when stupid ppl like can give its due credit n...        -1   \n",
       "3  not alone evks once asked what amma and modi w...        -1   \n",
       "4  rahul thief modi chowkidar wait and watch only...        -1   \n",
       "\n",
       "  category_sentiment                                        pre_process  \n",
       "0           negative  talking the strict laws crack down heavily the...  \n",
       "1           negative  modi never made such promisehe had said the en...  \n",
       "2           negative  when stupid ppl like can give its due credit n...  \n",
       "3           negative  not alone evks once asked what amma and modi w...  \n",
       "4           negative  rahul thief modi chowkidar wait and watch only...  "
      ]
     },
     "execution_count": 13,
     "metadata": {},
     "output_type": "execute_result"
    }
   ],
   "source": [
    "data.head()"
   ]
  },
  {
   "cell_type": "code",
   "execution_count": 14,
   "id": "9f4e7004",
   "metadata": {},
   "outputs": [
    {
     "name": "stdout",
     "output_type": "stream",
     "text": [
      "Train:  (96792,) (96792,) Test:  ((32265,), (32265,))\n"
     ]
    }
   ],
   "source": [
    "from sklearn.model_selection import train_test_split\n",
    "X_train,X_test,Y_train, Y_test = train_test_split(data['pre_process'], data['category'], test_size=0.25, random_state=30)\n",
    "print(\"Train: \",X_train.shape,Y_train.shape,\"Test: \",(X_test.shape,Y_test.shape))"
   ]
  },
  {
   "cell_type": "code",
   "execution_count": 15,
   "id": "5ce1235c",
   "metadata": {},
   "outputs": [],
   "source": [
    "# print(\"TFIDF Vectorizer……\")\n",
    "from sklearn.feature_extraction.text import TfidfVectorizer, CountVectorizer\n",
    "vectorizer= TfidfVectorizer()\n",
    "X_train = vectorizer.fit_transform(X_train)\n",
    "X_test = vectorizer.transform(X_test)"
   ]
  },
  {
   "cell_type": "code",
   "execution_count": 16,
   "id": "c94f4e3f",
   "metadata": {},
   "outputs": [
    {
     "data": {
      "text/html": [
       "<style>#sk-container-id-1 {color: black;background-color: white;}#sk-container-id-1 pre{padding: 0;}#sk-container-id-1 div.sk-toggleable {background-color: white;}#sk-container-id-1 label.sk-toggleable__label {cursor: pointer;display: block;width: 100%;margin-bottom: 0;padding: 0.3em;box-sizing: border-box;text-align: center;}#sk-container-id-1 label.sk-toggleable__label-arrow:before {content: \"▸\";float: left;margin-right: 0.25em;color: #696969;}#sk-container-id-1 label.sk-toggleable__label-arrow:hover:before {color: black;}#sk-container-id-1 div.sk-estimator:hover label.sk-toggleable__label-arrow:before {color: black;}#sk-container-id-1 div.sk-toggleable__content {max-height: 0;max-width: 0;overflow: hidden;text-align: left;background-color: #f0f8ff;}#sk-container-id-1 div.sk-toggleable__content pre {margin: 0.2em;color: black;border-radius: 0.25em;background-color: #f0f8ff;}#sk-container-id-1 input.sk-toggleable__control:checked~div.sk-toggleable__content {max-height: 200px;max-width: 100%;overflow: auto;}#sk-container-id-1 input.sk-toggleable__control:checked~label.sk-toggleable__label-arrow:before {content: \"▾\";}#sk-container-id-1 div.sk-estimator input.sk-toggleable__control:checked~label.sk-toggleable__label {background-color: #d4ebff;}#sk-container-id-1 div.sk-label input.sk-toggleable__control:checked~label.sk-toggleable__label {background-color: #d4ebff;}#sk-container-id-1 input.sk-hidden--visually {border: 0;clip: rect(1px 1px 1px 1px);clip: rect(1px, 1px, 1px, 1px);height: 1px;margin: -1px;overflow: hidden;padding: 0;position: absolute;width: 1px;}#sk-container-id-1 div.sk-estimator {font-family: monospace;background-color: #f0f8ff;border: 1px dotted black;border-radius: 0.25em;box-sizing: border-box;margin-bottom: 0.5em;}#sk-container-id-1 div.sk-estimator:hover {background-color: #d4ebff;}#sk-container-id-1 div.sk-parallel-item::after {content: \"\";width: 100%;border-bottom: 1px solid gray;flex-grow: 1;}#sk-container-id-1 div.sk-label:hover label.sk-toggleable__label {background-color: #d4ebff;}#sk-container-id-1 div.sk-serial::before {content: \"\";position: absolute;border-left: 1px solid gray;box-sizing: border-box;top: 0;bottom: 0;left: 50%;z-index: 0;}#sk-container-id-1 div.sk-serial {display: flex;flex-direction: column;align-items: center;background-color: white;padding-right: 0.2em;padding-left: 0.2em;position: relative;}#sk-container-id-1 div.sk-item {position: relative;z-index: 1;}#sk-container-id-1 div.sk-parallel {display: flex;align-items: stretch;justify-content: center;background-color: white;position: relative;}#sk-container-id-1 div.sk-item::before, #sk-container-id-1 div.sk-parallel-item::before {content: \"\";position: absolute;border-left: 1px solid gray;box-sizing: border-box;top: 0;bottom: 0;left: 50%;z-index: -1;}#sk-container-id-1 div.sk-parallel-item {display: flex;flex-direction: column;z-index: 1;position: relative;background-color: white;}#sk-container-id-1 div.sk-parallel-item:first-child::after {align-self: flex-end;width: 50%;}#sk-container-id-1 div.sk-parallel-item:last-child::after {align-self: flex-start;width: 50%;}#sk-container-id-1 div.sk-parallel-item:only-child::after {width: 0;}#sk-container-id-1 div.sk-dashed-wrapped {border: 1px dashed gray;margin: 0 0.4em 0.5em 0.4em;box-sizing: border-box;padding-bottom: 0.4em;background-color: white;}#sk-container-id-1 div.sk-label label {font-family: monospace;font-weight: bold;display: inline-block;line-height: 1.2em;}#sk-container-id-1 div.sk-label-container {text-align: center;}#sk-container-id-1 div.sk-container {/* jupyter's `normalize.less` sets `[hidden] { display: none; }` but bootstrap.min.css set `[hidden] { display: none !important; }` so we also need the `!important` here to be able to override the default hidden behavior on the sphinx rendered scikit-learn.org. See: https://github.com/scikit-learn/scikit-learn/issues/21755 */display: inline-block !important;position: relative;}#sk-container-id-1 div.sk-text-repr-fallback {display: none;}</style><div id=\"sk-container-id-1\" class=\"sk-top-container\"><div class=\"sk-text-repr-fallback\"><pre>LinearSVC(random_state=0)</pre><b>In a Jupyter environment, please rerun this cell to show the HTML representation or trust the notebook. <br />On GitHub, the HTML representation is unable to render, please try loading this page with nbviewer.org.</b></div><div class=\"sk-container\" hidden><div class=\"sk-item\"><div class=\"sk-estimator sk-toggleable\"><input class=\"sk-toggleable__control sk-hidden--visually\" id=\"sk-estimator-id-1\" type=\"checkbox\" checked><label for=\"sk-estimator-id-1\" class=\"sk-toggleable__label sk-toggleable__label-arrow\">LinearSVC</label><div class=\"sk-toggleable__content\"><pre>LinearSVC(random_state=0)</pre></div></div></div></div></div>"
      ],
      "text/plain": [
       "LinearSVC(random_state=0)"
      ]
     },
     "execution_count": 16,
     "metadata": {},
     "output_type": "execute_result"
    }
   ],
   "source": [
    "# Training a Linear SVC\n",
    "clf = LinearSVC(random_state=0)\n",
    "clf.fit(X_train,Y_train)"
   ]
  },
  {
   "cell_type": "code",
   "execution_count": 17,
   "id": "628e5d62",
   "metadata": {},
   "outputs": [],
   "source": [
    "# Predict on the test set\n",
    "y_pred=clf.predict(X_test)"
   ]
  },
  {
   "cell_type": "code",
   "execution_count": 18,
   "id": "704170a1",
   "metadata": {},
   "outputs": [
    {
     "name": "stdout",
     "output_type": "stream",
     "text": [
      "Accuracy:  0.9167828916782892\n"
     ]
    }
   ],
   "source": [
    "# Print accuracy score\n",
    "print(\"Accuracy: \", accuracy_score(Y_test, y_pred))"
   ]
  },
  {
   "cell_type": "code",
   "execution_count": 19,
   "id": "4954a879",
   "metadata": {},
   "outputs": [
    {
     "name": "stdout",
     "output_type": "stream",
     "text": [
      "              precision    recall  f1-score   support\n",
      "\n",
      "          -1       0.91      0.89      0.90     10740\n",
      "           0       0.92      0.95      0.94     10764\n",
      "           1       0.92      0.91      0.91     10761\n",
      "\n",
      "    accuracy                           0.92     32265\n",
      "   macro avg       0.92      0.92      0.92     32265\n",
      "weighted avg       0.92      0.92      0.92     32265\n",
      "\n"
     ]
    }
   ],
   "source": [
    "print(classification_report(Y_test, y_pred))"
   ]
  },
  {
   "cell_type": "code",
   "execution_count": 35,
   "id": "871e11cf",
   "metadata": {
    "scrolled": true
   },
   "outputs": [
    {
     "name": "stdout",
     "output_type": "stream",
     "text": [
      "I like apples .\n",
      "Neutral\n"
     ]
    }
   ],
   "source": [
    "# Input your own tweet\n",
    "tweet = \"I like apples.\"\n",
    "\n",
    "# Pre-process the tweet\n",
    "tweet = BeautifulSoup(tweet).get_text()\n",
    "tweet = contractions(tweet)\n",
    "tweet = Negation(nltk.word_tokenize(tweet))\n",
    "\n",
    "print(tweet)\n",
    "# Vectorize the tweet using Tf-idf\n",
    "tweet_vector = vectorizer.transform([tweet])\n",
    "\n",
    "# Predict the sentiment of the tweet\n",
    "sentiment = clf.predict(tweet_vector)\n",
    "\n",
    "# Print the sentiment\n",
    "if sentiment == -1:\n",
    "    print(\"Negative\")\n",
    "elif sentiment == 0:\n",
    "    print(\"Neutral\")\n",
    "else:\n",
    "    print(\"Positive\")"
   ]
  },
  {
   "cell_type": "code",
   "execution_count": 36,
   "id": "f23ec692",
   "metadata": {
    "scrolled": true
   },
   "outputs": [
    {
     "name": "stdout",
     "output_type": "stream",
     "text": [
      "I do dislike apples .\n",
      "Neutral\n"
     ]
    }
   ],
   "source": [
    "# Input your own tweet\n",
    "tweet = \"I do not like apples.\"\n",
    "\n",
    "# Pre-process the tweet\n",
    "tweet = BeautifulSoup(tweet).get_text()\n",
    "tweet = contractions(tweet)\n",
    "tweet = Negation(nltk.word_tokenize(tweet))\n",
    "\n",
    "print(tweet)\n",
    "\n",
    "# Vectorize the tweet using Tf-idf\n",
    "tweet_vector = vectorizer.transform([tweet])\n",
    "\n",
    "# Predict the sentiment of the tweet\n",
    "sentiment = clf.predict(tweet_vector)\n",
    "\n",
    "# Print the sentiment\n",
    "if sentiment == -1:\n",
    "    print(\"Negative\")\n",
    "elif sentiment == 0:\n",
    "    print(\"Neutral\")\n",
    "else:\n",
    "    print(\"Positive\")"
   ]
  },
  {
   "cell_type": "code",
   "execution_count": 38,
   "id": "c8b12bc9",
   "metadata": {
    "scrolled": true
   },
   "outputs": [
    {
     "name": "stdout",
     "output_type": "stream",
     "text": [
      "Positive\n"
     ]
    }
   ],
   "source": [
    "# Input your own tweet\n",
    "tweet = \"I am happy.\"\n",
    "\n",
    "# Pre-process the tweet\n",
    "tweet = BeautifulSoup(tweet).get_text()\n",
    "tweet = contractions(tweet)\n",
    "tweet = Negation(nltk.word_tokenize(tweet))\n",
    "\n",
    "# Vectorize the tweet using Tf-idf\n",
    "tweet_vector = vectorizer.transform([tweet])\n",
    "\n",
    "# Predict the sentiment of the tweet\n",
    "sentiment = clf.predict(tweet_vector)\n",
    "\n",
    "# Print the sentiment\n",
    "if sentiment == -1:\n",
    "    print(\"Negative\")\n",
    "elif sentiment == 0:\n",
    "    print(\"Neutral\")\n",
    "else:\n",
    "    print(\"Positive\")"
   ]
  },
  {
   "cell_type": "code",
   "execution_count": 40,
   "id": "174f1a14",
   "metadata": {
    "scrolled": true
   },
   "outputs": [
    {
     "name": "stdout",
     "output_type": "stream",
     "text": [
      "Negative\n"
     ]
    }
   ],
   "source": [
    "# Input your own tweet\n",
    "tweet = \"I am not happy.\"\n",
    "\n",
    "# Pre-process the tweet\n",
    "tweet = BeautifulSoup(tweet).get_text()\n",
    "tweet = contractions(tweet)\n",
    "tweet = Negation(nltk.word_tokenize(tweet))\n",
    "\n",
    "# Vectorize the tweet using Tf-idf\n",
    "tweet_vector = vectorizer.transform([tweet])\n",
    "\n",
    "# Predict the sentiment of the tweet\n",
    "sentiment = clf.predict(tweet_vector)\n",
    "\n",
    "# Print the sentiment\n",
    "if sentiment == -1:\n",
    "    print(\"Negative\")\n",
    "elif sentiment == 0:\n",
    "    print(\"Neutral\")\n",
    "else:\n",
    "    print(\"Positive\")"
   ]
  },
  {
   "cell_type": "code",
   "execution_count": null,
   "id": "d5f4ea98",
   "metadata": {},
   "outputs": [],
   "source": [
    "# # Train a Random Forest Classifier\n",
    "clf = RandomForestClassifier(n_estimators=100)\n",
    "clf.fit(X_train, Y_train)"
   ]
  },
  {
   "cell_type": "code",
   "execution_count": null,
   "id": "b3238188",
   "metadata": {},
   "outputs": [],
   "source": [
    "# # Predict on the test set\n",
    "y_pred=clf.predict(X_test)"
   ]
  },
  {
   "cell_type": "code",
   "execution_count": null,
   "id": "4f2084c8",
   "metadata": {},
   "outputs": [],
   "source": [
    "# Print accuracy score\n",
    "print(\"Accuracy: \", accuracy_score(Y_test, y_pred))"
   ]
  },
  {
   "cell_type": "code",
   "execution_count": null,
   "id": "b9355911",
   "metadata": {},
   "outputs": [],
   "source": [
    "print(classification_report(Y_test, y_pred))"
   ]
  },
  {
   "cell_type": "code",
   "execution_count": null,
   "id": "40a3dc18",
   "metadata": {
    "scrolled": true
   },
   "outputs": [],
   "source": [
    "# Input your own tweet\n",
    "tweet = \"I like apples.\"\n",
    "\n",
    "# Pre-process the tweet\n",
    "tweet = BeautifulSoup(tweet).get_text()\n",
    "\n",
    "# Vectorize the tweet using Tf-idf\n",
    "tweet_vector = vectorizer.transform([tweet])\n",
    "\n",
    "# Predict the sentiment of the tweet\n",
    "sentiment = clf.predict(tweet_vector)\n",
    "\n",
    "# Print the sentiment\n",
    "if sentiment == -1:\n",
    "    print(\"Negative\")\n",
    "elif sentiment == 0:\n",
    "    print(\"Neutral\")\n",
    "else:\n",
    "    print(\"Positive\")"
   ]
  },
  {
   "cell_type": "code",
   "execution_count": null,
   "id": "518dbe76",
   "metadata": {
    "scrolled": true
   },
   "outputs": [],
   "source": [
    "# Input your own tweet\n",
    "tweet = \"I do not like apples.\"\n",
    "\n",
    "# Pre-process the tweet\n",
    "tweet = BeautifulSoup(tweet).get_text()\n",
    "\n",
    "# Vectorize the tweet using Tf-idf\n",
    "tweet_vector = vectorizer.transform([tweet])\n",
    "\n",
    "# Predict the sentiment of the tweet\n",
    "sentiment = clf.predict(tweet_vector)\n",
    "\n",
    "# Print the sentiment\n",
    "if sentiment == -1:\n",
    "    print(\"Negative\")\n",
    "elif sentiment == 0:\n",
    "    print(\"Neutral\")\n",
    "else:\n",
    "    print(\"Positive\")"
   ]
  },
  {
   "cell_type": "code",
   "execution_count": null,
   "id": "2bdc3e06",
   "metadata": {
    "scrolled": true
   },
   "outputs": [],
   "source": [
    "# Input your own tweet\n",
    "tweet = \"I am happy.\"\n",
    "\n",
    "# Pre-process the tweet\n",
    "tweet = BeautifulSoup(tweet).get_text()\n",
    "\n",
    "# Vectorize the tweet using Tf-idf\n",
    "tweet_vector = vectorizer.transform([tweet])\n",
    "\n",
    "# Predict the sentiment of the tweet\n",
    "sentiment = clf.predict(tweet_vector)\n",
    "\n",
    "# Print the sentiment\n",
    "if sentiment == -1:\n",
    "    print(\"Negative\")\n",
    "elif sentiment == 0:\n",
    "    print(\"Neutral\")\n",
    "else:\n",
    "    print(\"Positive\")"
   ]
  },
  {
   "cell_type": "code",
   "execution_count": null,
   "id": "60ef512e",
   "metadata": {
    "scrolled": true
   },
   "outputs": [],
   "source": [
    "# Input your own tweet\n",
    "tweet = \"I am not happy.\"\n",
    "\n",
    "# Pre-process the tweet\n",
    "tweet = BeautifulSoup(tweet).get_text()\n",
    "\n",
    "# Vectorize the tweet using Tf-idf\n",
    "tweet_vector = vectorizer.transform([tweet])\n",
    "\n",
    "# Predict the sentiment of the tweet\n",
    "sentiment = clf.predict(tweet_vector)\n",
    "\n",
    "# Print the sentiment\n",
    "if sentiment == -1:\n",
    "    print(\"Negative\")\n",
    "elif sentiment == 0:\n",
    "    print(\"Neutral\")\n",
    "else:\n",
    "    print(\"Positive\")"
   ]
  },
  {
   "cell_type": "code",
   "execution_count": null,
   "id": "5a472e8a",
   "metadata": {},
   "outputs": [],
   "source": [
    "# Training for Logistic Regression\n",
    "clf = LogisticRegression(max_iter=1000,solver='saga')\n",
    "clf.fit(X_train, Y_train)"
   ]
  },
  {
   "cell_type": "code",
   "execution_count": null,
   "id": "f48e9c7d",
   "metadata": {},
   "outputs": [],
   "source": [
    "# Predict on the test set\n",
    "y_pred=clf.predict(X_test)\n",
    "# Print accuracy score\n",
    "print(\"Accuracy: \", accuracy_score(Y_test, y_pred))"
   ]
  },
  {
   "cell_type": "code",
   "execution_count": null,
   "id": "2d1030dd",
   "metadata": {},
   "outputs": [],
   "source": [
    "print(classification_report(Y_test, y_pred))"
   ]
  },
  {
   "cell_type": "code",
   "execution_count": null,
   "id": "df413f42",
   "metadata": {
    "scrolled": true
   },
   "outputs": [],
   "source": [
    "# Input your own tweet\n",
    "tweet = \"I like apples.\"\n",
    "\n",
    "# Pre-process the tweet\n",
    "tweet = BeautifulSoup(tweet).get_text()\n",
    "\n",
    "# Vectorize the tweet using Tf-idf\n",
    "tweet_vector = vectorizer.transform([tweet])\n",
    "\n",
    "# Predict the sentiment of the tweet\n",
    "sentiment = clf.predict(tweet_vector)\n",
    "\n",
    "# Print the sentiment\n",
    "if sentiment == -1:\n",
    "    print(\"Negative\")\n",
    "elif sentiment == 0:\n",
    "    print(\"Neutral\")\n",
    "else:\n",
    "    print(\"Positive\")"
   ]
  },
  {
   "cell_type": "code",
   "execution_count": null,
   "id": "1626ae37",
   "metadata": {
    "scrolled": true
   },
   "outputs": [],
   "source": [
    "# Input your own tweet\n",
    "tweet = \"I do not like apples.\"\n",
    "\n",
    "# Pre-process the tweet\n",
    "tweet = BeautifulSoup(tweet).get_text()\n",
    "\n",
    "# Vectorize the tweet using Tf-idf\n",
    "tweet_vector = vectorizer.transform([tweet])\n",
    "\n",
    "# Predict the sentiment of the tweet\n",
    "sentiment = clf.predict(tweet_vector)\n",
    "\n",
    "# Print the sentiment\n",
    "if sentiment == -1:\n",
    "    print(\"Negative\")\n",
    "elif sentiment == 0:\n",
    "    print(\"Neutral\")\n",
    "else:\n",
    "    print(\"Positive\")"
   ]
  },
  {
   "cell_type": "code",
   "execution_count": null,
   "id": "ae39c92d",
   "metadata": {
    "scrolled": true
   },
   "outputs": [],
   "source": [
    "# Input your own tweet\n",
    "tweet = \"I am happy.\"\n",
    "\n",
    "# Pre-process the tweet\n",
    "tweet = BeautifulSoup(tweet).get_text()\n",
    "\n",
    "# Vectorize the tweet using Tf-idf\n",
    "tweet_vector = vectorizer.transform([tweet])\n",
    "\n",
    "# Predict the sentiment of the tweet\n",
    "sentiment = clf.predict(tweet_vector)\n",
    "\n",
    "# Print the sentiment\n",
    "if sentiment == -1:\n",
    "    print(\"Negative\")\n",
    "elif sentiment == 0:\n",
    "    print(\"Neutral\")\n",
    "else:\n",
    "    print(\"Positive\")"
   ]
  },
  {
   "cell_type": "code",
   "execution_count": null,
   "id": "c1ac4dcd",
   "metadata": {
    "scrolled": true
   },
   "outputs": [],
   "source": [
    "# Input your own tweet\n",
    "tweet = \"I am not happy.\"\n",
    "\n",
    "# Pre-process the tweet\n",
    "tweet = BeautifulSoup(tweet).get_text()\n",
    "\n",
    "# Vectorize the tweet using Tf-idf\n",
    "tweet_vector = vectorizer.transform([tweet])\n",
    "\n",
    "# Predict the sentiment of the tweet\n",
    "sentiment = clf.predict(tweet_vector)\n",
    "\n",
    "# Print the sentiment\n",
    "if sentiment == -1:\n",
    "    print(\"Negative\")\n",
    "elif sentiment == 0:\n",
    "    print(\"Neutral\")\n",
    "else:\n",
    "    print(\"Positive\")"
   ]
  },
  {
   "cell_type": "code",
   "execution_count": 21,
   "id": "5572e44d",
   "metadata": {},
   "outputs": [
    {
     "data": {
      "text/plain": [
       "['linearSVC.joblib']"
      ]
     },
     "execution_count": 21,
     "metadata": {},
     "output_type": "execute_result"
    }
   ],
   "source": [
    "from joblib import dump, load\n",
    "\n",
    "model_file = \"linearSVC.joblib\"\n",
    "\n",
    "dump(clf, model_file)"
   ]
  },
  {
   "cell_type": "code",
   "execution_count": null,
   "id": "e7776f4a",
   "metadata": {},
   "outputs": [],
   "source": []
  }
 ],
 "metadata": {
  "kernelspec": {
   "display_name": "Python 3 (ipykernel)",
   "language": "python",
   "name": "python3"
  },
  "language_info": {
   "codemirror_mode": {
    "name": "ipython",
    "version": 3
   },
   "file_extension": ".py",
   "mimetype": "text/x-python",
   "name": "python",
   "nbconvert_exporter": "python",
   "pygments_lexer": "ipython3",
   "version": "3.9.12"
  }
 },
 "nbformat": 4,
 "nbformat_minor": 5
}
